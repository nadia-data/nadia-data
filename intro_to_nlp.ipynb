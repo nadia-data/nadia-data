{
  "nbformat": 4,
  "nbformat_minor": 5,
  "metadata": {
    "kernelspec": {
      "display_name": "Python 3",
      "language": "python",
      "name": "python3"
    },
    "language_info": {
      "codemirror_mode": {
        "name": "ipython",
        "version": 3
      },
      "file_extension": ".py",
      "mimetype": "text/x-python",
      "name": "python",
      "nbconvert_exporter": "python",
      "pygments_lexer": "ipython3",
      "version": "3.7.10"
    },
    "papermill": {
      "default_parameters": {},
      "duration": 2409.967502,
      "end_time": "2021-06-17T13:46:13.465896",
      "environment_variables": {},
      "exception": null,
      "input_path": "__notebook__.ipynb",
      "output_path": "__notebook__.ipynb",
      "parameters": {},
      "start_time": "2021-06-17T13:06:03.498394",
      "version": "2.3.3"
    },
    "colab": {
      "name": "intro-to-nlp (1) (1).ipynb",
      "provenance": [],
      "toc_visible": true,
      "include_colab_link": true
    }
  },
  "cells": [
    {
      "cell_type": "markdown",
      "metadata": {
        "id": "view-in-github",
        "colab_type": "text"
      },
      "source": [
        "<a href=\"https://colab.research.google.com/github/nadia-data/nadia-data/blob/main/intro_to_nlp.ipynb\" target=\"_parent\"><img src=\"https://colab.research.google.com/assets/colab-badge.svg\" alt=\"Open In Colab\"/></a>"
      ]
    },
    {
      "cell_type": "code",
      "metadata": {
        "execution": {
          "iopub.execute_input": "2021-06-17T13:06:12.196914Z",
          "iopub.status.busy": "2021-06-17T13:06:12.195706Z",
          "iopub.status.idle": "2021-06-17T13:06:40.014147Z",
          "shell.execute_reply": "2021-06-17T13:06:40.014718Z",
          "shell.execute_reply.started": "2021-06-17T12:53:52.580087Z"
        },
        "papermill": {
          "duration": 27.904904,
          "end_time": "2021-06-17T13:06:40.015068",
          "exception": false,
          "start_time": "2021-06-17T13:06:12.110164",
          "status": "completed"
        },
        "tags": [],
        "id": "vietnamese-penalty",
        "outputId": "3f38a340-77af-4aaa-ba2c-225ad311ebd1"
      },
      "source": [
        "pip install nltk\n"
      ],
      "id": "vietnamese-penalty",
      "execution_count": null,
      "outputs": [
        {
          "output_type": "stream",
          "text": [
            "Requirement already satisfied: nltk in /opt/conda/lib/python3.7/site-packages (3.2.4)\r\n",
            "Requirement already satisfied: six in /opt/conda/lib/python3.7/site-packages (from nltk) (1.15.0)\r\n",
            "Note: you may need to restart the kernel to use updated packages.\n"
          ],
          "name": "stdout"
        }
      ]
    },
    {
      "cell_type": "markdown",
      "metadata": {
        "papermill": {
          "duration": 0.080568,
          "end_time": "2021-06-17T13:06:40.179136",
          "exception": false,
          "start_time": "2021-06-17T13:06:40.098568",
          "status": "completed"
        },
        "tags": [],
        "id": "equal-shade"
      },
      "source": [
        "On utilise le corpus \"brown\" un corpus Anglais"
      ],
      "id": "equal-shade"
    },
    {
      "cell_type": "code",
      "metadata": {
        "execution": {
          "iopub.execute_input": "2021-06-17T13:06:40.345722Z",
          "iopub.status.busy": "2021-06-17T13:06:40.345019Z",
          "iopub.status.idle": "2021-06-17T13:07:02.055790Z",
          "shell.execute_reply": "2021-06-17T13:07:02.056355Z",
          "shell.execute_reply.started": "2021-06-17T12:54:19.255534Z"
        },
        "papermill": {
          "duration": 21.796996,
          "end_time": "2021-06-17T13:07:02.056556",
          "exception": false,
          "start_time": "2021-06-17T13:06:40.259560",
          "status": "completed"
        },
        "tags": [],
        "id": "undefined-blend",
        "outputId": "a265421a-fbd0-455f-c534-ab2337725fe1"
      },
      "source": [
        "import nltk\n",
        "nltk.download('brown')"
      ],
      "id": "undefined-blend",
      "execution_count": null,
      "outputs": [
        {
          "output_type": "stream",
          "text": [
            "[nltk_data] Error loading brown: <urlopen error [Errno -3] Temporary\n",
            "[nltk_data]     failure in name resolution>\n"
          ],
          "name": "stdout"
        },
        {
          "output_type": "execute_result",
          "data": {
            "text/plain": [
              "False"
            ]
          },
          "metadata": {
            "tags": []
          },
          "execution_count": 2
        }
      ]
    },
    {
      "cell_type": "markdown",
      "metadata": {
        "papermill": {
          "duration": 0.08383,
          "end_time": "2021-06-17T13:07:02.224731",
          "exception": false,
          "start_time": "2021-06-17T13:07:02.140901",
          "status": "completed"
        },
        "tags": [],
        "id": "gorgeous-envelope"
      },
      "source": [
        "Allons visualiser le contenu du corpus"
      ],
      "id": "gorgeous-envelope"
    },
    {
      "cell_type": "code",
      "metadata": {
        "execution": {
          "iopub.execute_input": "2021-06-17T13:07:02.395545Z",
          "iopub.status.busy": "2021-06-17T13:07:02.394701Z",
          "iopub.status.idle": "2021-06-17T13:07:02.425612Z",
          "shell.execute_reply": "2021-06-17T13:07:02.424937Z",
          "shell.execute_reply.started": "2021-06-17T12:54:39.296529Z"
        },
        "papermill": {
          "duration": 0.11853,
          "end_time": "2021-06-17T13:07:02.425757",
          "exception": false,
          "start_time": "2021-06-17T13:07:02.307227",
          "status": "completed"
        },
        "tags": [],
        "id": "overall-casting",
        "outputId": "872e8a20-d43b-495c-d92f-1d5eb872d948"
      },
      "source": [
        "from nltk.corpus import brown\n",
        "brown.words()"
      ],
      "id": "overall-casting",
      "execution_count": null,
      "outputs": [
        {
          "output_type": "execute_result",
          "data": {
            "text/plain": [
              "['The', 'Fulton', 'County', 'Grand', 'Jury', 'said', ...]"
            ]
          },
          "metadata": {
            "tags": []
          },
          "execution_count": 3
        }
      ]
    },
    {
      "cell_type": "code",
      "metadata": {
        "execution": {
          "iopub.execute_input": "2021-06-17T13:07:02.596887Z",
          "iopub.status.busy": "2021-06-17T13:07:02.595870Z",
          "iopub.status.idle": "2021-06-17T13:07:06.100515Z",
          "shell.execute_reply": "2021-06-17T13:07:06.099923Z",
          "shell.execute_reply.started": "2021-06-17T12:54:39.319359Z"
        },
        "papermill": {
          "duration": 3.591549,
          "end_time": "2021-06-17T13:07:06.100662",
          "exception": false,
          "start_time": "2021-06-17T13:07:02.509113",
          "status": "completed"
        },
        "tags": [],
        "id": "twenty-ferry",
        "outputId": "debb21cf-1be8-462b-9a5b-a73d410a4021"
      },
      "source": [
        "len(brown.words())"
      ],
      "id": "twenty-ferry",
      "execution_count": null,
      "outputs": [
        {
          "output_type": "execute_result",
          "data": {
            "text/plain": [
              "1161192"
            ]
          },
          "metadata": {
            "tags": []
          },
          "execution_count": 4
        }
      ]
    },
    {
      "cell_type": "code",
      "metadata": {
        "execution": {
          "iopub.execute_input": "2021-06-17T13:07:06.270025Z",
          "iopub.status.busy": "2021-06-17T13:07:06.269316Z",
          "iopub.status.idle": "2021-06-17T13:07:06.411985Z",
          "shell.execute_reply": "2021-06-17T13:07:06.411467Z",
          "shell.execute_reply.started": "2021-06-17T12:54:42.475560Z"
        },
        "papermill": {
          "duration": 0.229279,
          "end_time": "2021-06-17T13:07:06.412133",
          "exception": false,
          "start_time": "2021-06-17T13:07:06.182854",
          "status": "completed"
        },
        "tags": [],
        "id": "worth-cleaner",
        "outputId": "0d1fd01d-199d-4888-e5f9-ebd15969b906"
      },
      "source": [
        "brown.sents() # Returns a list of list of strings "
      ],
      "id": "worth-cleaner",
      "execution_count": null,
      "outputs": [
        {
          "output_type": "execute_result",
          "data": {
            "text/plain": [
              "[['The', 'Fulton', 'County', 'Grand', 'Jury', 'said', 'Friday', 'an', 'investigation', 'of', \"Atlanta's\", 'recent', 'primary', 'election', 'produced', '``', 'no', 'evidence', \"''\", 'that', 'any', 'irregularities', 'took', 'place', '.'], ['The', 'jury', 'further', 'said', 'in', 'term-end', 'presentments', 'that', 'the', 'City', 'Executive', 'Committee', ',', 'which', 'had', 'over-all', 'charge', 'of', 'the', 'election', ',', '``', 'deserves', 'the', 'praise', 'and', 'thanks', 'of', 'the', 'City', 'of', 'Atlanta', \"''\", 'for', 'the', 'manner', 'in', 'which', 'the', 'election', 'was', 'conducted', '.'], ...]"
            ]
          },
          "metadata": {
            "tags": []
          },
          "execution_count": 5
        }
      ]
    },
    {
      "cell_type": "code",
      "metadata": {
        "execution": {
          "iopub.execute_input": "2021-06-17T13:07:06.585735Z",
          "iopub.status.busy": "2021-06-17T13:07:06.582123Z",
          "iopub.status.idle": "2021-06-17T13:07:09.634563Z",
          "shell.execute_reply": "2021-06-17T13:07:09.633736Z",
          "shell.execute_reply.started": "2021-06-17T12:54:42.495604Z"
        },
        "papermill": {
          "duration": 3.13946,
          "end_time": "2021-06-17T13:07:09.634727",
          "exception": false,
          "start_time": "2021-06-17T13:07:06.495267",
          "status": "completed"
        },
        "tags": [],
        "id": "parental-system",
        "outputId": "2eedf27d-3d1b-4b59-c4b3-70b970273922"
      },
      "source": [
        "len(brown.sents())"
      ],
      "id": "parental-system",
      "execution_count": null,
      "outputs": [
        {
          "output_type": "execute_result",
          "data": {
            "text/plain": [
              "57340"
            ]
          },
          "metadata": {
            "tags": []
          },
          "execution_count": 6
        }
      ]
    },
    {
      "cell_type": "code",
      "metadata": {
        "execution": {
          "iopub.execute_input": "2021-06-17T13:07:09.806954Z",
          "iopub.status.busy": "2021-06-17T13:07:09.806194Z",
          "iopub.status.idle": "2021-06-17T13:07:19.674318Z",
          "shell.execute_reply": "2021-06-17T13:07:19.674876Z",
          "shell.execute_reply.started": "2021-06-17T12:54:45.458278Z"
        },
        "papermill": {
          "duration": 9.955002,
          "end_time": "2021-06-17T13:07:19.675059",
          "exception": false,
          "start_time": "2021-06-17T13:07:09.720057",
          "status": "completed"
        },
        "tags": [],
        "id": "confident-optimization",
        "outputId": "573d9d1a-4803-4a0d-c7a6-abbe9b953634"
      },
      "source": [
        "import pandas as pd\n",
        "Data=pd.DataFrame(brown.sents())\n",
        "Data.head()"
      ],
      "id": "confident-optimization",
      "execution_count": null,
      "outputs": [
        {
          "output_type": "execute_result",
          "data": {
            "text/html": [
              "<div>\n",
              "<style scoped>\n",
              "    .dataframe tbody tr th:only-of-type {\n",
              "        vertical-align: middle;\n",
              "    }\n",
              "\n",
              "    .dataframe tbody tr th {\n",
              "        vertical-align: top;\n",
              "    }\n",
              "\n",
              "    .dataframe thead th {\n",
              "        text-align: right;\n",
              "    }\n",
              "</style>\n",
              "<table border=\"1\" class=\"dataframe\">\n",
              "  <thead>\n",
              "    <tr style=\"text-align: right;\">\n",
              "      <th></th>\n",
              "      <th>0</th>\n",
              "      <th>1</th>\n",
              "      <th>2</th>\n",
              "      <th>3</th>\n",
              "      <th>4</th>\n",
              "      <th>5</th>\n",
              "      <th>6</th>\n",
              "      <th>7</th>\n",
              "      <th>8</th>\n",
              "      <th>9</th>\n",
              "      <th>...</th>\n",
              "      <th>170</th>\n",
              "      <th>171</th>\n",
              "      <th>172</th>\n",
              "      <th>173</th>\n",
              "      <th>174</th>\n",
              "      <th>175</th>\n",
              "      <th>176</th>\n",
              "      <th>177</th>\n",
              "      <th>178</th>\n",
              "      <th>179</th>\n",
              "    </tr>\n",
              "  </thead>\n",
              "  <tbody>\n",
              "    <tr>\n",
              "      <th>0</th>\n",
              "      <td>The</td>\n",
              "      <td>Fulton</td>\n",
              "      <td>County</td>\n",
              "      <td>Grand</td>\n",
              "      <td>Jury</td>\n",
              "      <td>said</td>\n",
              "      <td>Friday</td>\n",
              "      <td>an</td>\n",
              "      <td>investigation</td>\n",
              "      <td>of</td>\n",
              "      <td>...</td>\n",
              "      <td>None</td>\n",
              "      <td>None</td>\n",
              "      <td>None</td>\n",
              "      <td>None</td>\n",
              "      <td>None</td>\n",
              "      <td>None</td>\n",
              "      <td>None</td>\n",
              "      <td>None</td>\n",
              "      <td>None</td>\n",
              "      <td>None</td>\n",
              "    </tr>\n",
              "    <tr>\n",
              "      <th>1</th>\n",
              "      <td>The</td>\n",
              "      <td>jury</td>\n",
              "      <td>further</td>\n",
              "      <td>said</td>\n",
              "      <td>in</td>\n",
              "      <td>term-end</td>\n",
              "      <td>presentments</td>\n",
              "      <td>that</td>\n",
              "      <td>the</td>\n",
              "      <td>City</td>\n",
              "      <td>...</td>\n",
              "      <td>None</td>\n",
              "      <td>None</td>\n",
              "      <td>None</td>\n",
              "      <td>None</td>\n",
              "      <td>None</td>\n",
              "      <td>None</td>\n",
              "      <td>None</td>\n",
              "      <td>None</td>\n",
              "      <td>None</td>\n",
              "      <td>None</td>\n",
              "    </tr>\n",
              "    <tr>\n",
              "      <th>2</th>\n",
              "      <td>The</td>\n",
              "      <td>September-October</td>\n",
              "      <td>term</td>\n",
              "      <td>jury</td>\n",
              "      <td>had</td>\n",
              "      <td>been</td>\n",
              "      <td>charged</td>\n",
              "      <td>by</td>\n",
              "      <td>Fulton</td>\n",
              "      <td>Superior</td>\n",
              "      <td>...</td>\n",
              "      <td>None</td>\n",
              "      <td>None</td>\n",
              "      <td>None</td>\n",
              "      <td>None</td>\n",
              "      <td>None</td>\n",
              "      <td>None</td>\n",
              "      <td>None</td>\n",
              "      <td>None</td>\n",
              "      <td>None</td>\n",
              "      <td>None</td>\n",
              "    </tr>\n",
              "    <tr>\n",
              "      <th>3</th>\n",
              "      <td>``</td>\n",
              "      <td>Only</td>\n",
              "      <td>a</td>\n",
              "      <td>relative</td>\n",
              "      <td>handful</td>\n",
              "      <td>of</td>\n",
              "      <td>such</td>\n",
              "      <td>reports</td>\n",
              "      <td>was</td>\n",
              "      <td>received</td>\n",
              "      <td>...</td>\n",
              "      <td>None</td>\n",
              "      <td>None</td>\n",
              "      <td>None</td>\n",
              "      <td>None</td>\n",
              "      <td>None</td>\n",
              "      <td>None</td>\n",
              "      <td>None</td>\n",
              "      <td>None</td>\n",
              "      <td>None</td>\n",
              "      <td>None</td>\n",
              "    </tr>\n",
              "    <tr>\n",
              "      <th>4</th>\n",
              "      <td>The</td>\n",
              "      <td>jury</td>\n",
              "      <td>said</td>\n",
              "      <td>it</td>\n",
              "      <td>did</td>\n",
              "      <td>find</td>\n",
              "      <td>that</td>\n",
              "      <td>many</td>\n",
              "      <td>of</td>\n",
              "      <td>Georgia's</td>\n",
              "      <td>...</td>\n",
              "      <td>None</td>\n",
              "      <td>None</td>\n",
              "      <td>None</td>\n",
              "      <td>None</td>\n",
              "      <td>None</td>\n",
              "      <td>None</td>\n",
              "      <td>None</td>\n",
              "      <td>None</td>\n",
              "      <td>None</td>\n",
              "      <td>None</td>\n",
              "    </tr>\n",
              "  </tbody>\n",
              "</table>\n",
              "<p>5 rows × 180 columns</p>\n",
              "</div>"
            ],
            "text/plain": [
              "   0                  1        2         3        4         5             6    \\\n",
              "0  The             Fulton   County     Grand     Jury      said        Friday   \n",
              "1  The               jury  further      said       in  term-end  presentments   \n",
              "2  The  September-October     term      jury      had      been       charged   \n",
              "3   ``               Only        a  relative  handful        of          such   \n",
              "4  The               jury     said        it      did      find          that   \n",
              "\n",
              "       7              8          9    ...   170   171   172   173   174   175  \\\n",
              "0       an  investigation         of  ...  None  None  None  None  None  None   \n",
              "1     that            the       City  ...  None  None  None  None  None  None   \n",
              "2       by         Fulton   Superior  ...  None  None  None  None  None  None   \n",
              "3  reports            was   received  ...  None  None  None  None  None  None   \n",
              "4     many             of  Georgia's  ...  None  None  None  None  None  None   \n",
              "\n",
              "    176   177   178   179  \n",
              "0  None  None  None  None  \n",
              "1  None  None  None  None  \n",
              "2  None  None  None  None  \n",
              "3  None  None  None  None  \n",
              "4  None  None  None  None  \n",
              "\n",
              "[5 rows x 180 columns]"
            ]
          },
          "metadata": {
            "tags": []
          },
          "execution_count": 7
        }
      ]
    },
    {
      "cell_type": "markdown",
      "metadata": {
        "papermill": {
          "duration": 0.082456,
          "end_time": "2021-06-17T13:07:19.840811",
          "exception": false,
          "start_time": "2021-06-17T13:07:19.758355",
          "status": "completed"
        },
        "tags": [],
        "id": "electrical-familiar"
      },
      "source": [
        "# Tokenization"
      ],
      "id": "electrical-familiar"
    },
    {
      "cell_type": "code",
      "metadata": {
        "execution": {
          "iopub.execute_input": "2021-06-17T13:07:20.015834Z",
          "iopub.status.busy": "2021-06-17T13:07:20.015099Z",
          "iopub.status.idle": "2021-06-17T13:07:40.051739Z",
          "shell.execute_reply": "2021-06-17T13:07:40.052516Z",
          "shell.execute_reply.started": "2021-06-17T12:54:53.833857Z"
        },
        "papermill": {
          "duration": 20.125567,
          "end_time": "2021-06-17T13:07:40.052765",
          "exception": false,
          "start_time": "2021-06-17T13:07:19.927198",
          "status": "completed"
        },
        "tags": [],
        "id": "adjusted-chaos",
        "outputId": "00fc1eb2-cbb1-4ae7-e3b1-7ef86de872b8"
      },
      "source": [
        "nltk.download('webtext')\n",
        "from nltk.corpus import webtext"
      ],
      "id": "adjusted-chaos",
      "execution_count": null,
      "outputs": [
        {
          "output_type": "stream",
          "text": [
            "[nltk_data] Error loading webtext: <urlopen error [Errno -3] Temporary\n",
            "[nltk_data]     failure in name resolution>\n"
          ],
          "name": "stdout"
        }
      ]
    },
    {
      "cell_type": "code",
      "metadata": {
        "execution": {
          "iopub.execute_input": "2021-06-17T13:07:40.230193Z",
          "iopub.status.busy": "2021-06-17T13:07:40.229337Z",
          "iopub.status.idle": "2021-06-17T13:07:40.232825Z",
          "shell.execute_reply": "2021-06-17T13:07:40.233458Z",
          "shell.execute_reply.started": "2021-06-17T12:55:13.872030Z"
        },
        "papermill": {
          "duration": 0.094745,
          "end_time": "2021-06-17T13:07:40.233638",
          "exception": false,
          "start_time": "2021-06-17T13:07:40.138893",
          "status": "completed"
        },
        "tags": [],
        "id": "romance-voice",
        "outputId": "0d98aca4-e48c-492d-948a-1b3fe3802689"
      },
      "source": [
        "char=\" I am Afaf\"\n",
        "type(char.strip())"
      ],
      "id": "romance-voice",
      "execution_count": null,
      "outputs": [
        {
          "output_type": "execute_result",
          "data": {
            "text/plain": [
              "str"
            ]
          },
          "metadata": {
            "tags": []
          },
          "execution_count": 9
        }
      ]
    },
    {
      "cell_type": "code",
      "metadata": {
        "execution": {
          "iopub.execute_input": "2021-06-17T13:07:40.407776Z",
          "iopub.status.busy": "2021-06-17T13:07:40.406738Z",
          "iopub.status.idle": "2021-06-17T13:07:40.415240Z",
          "shell.execute_reply": "2021-06-17T13:07:40.415848Z",
          "shell.execute_reply.started": "2021-06-17T12:55:13.880119Z"
        },
        "papermill": {
          "duration": 0.096339,
          "end_time": "2021-06-17T13:07:40.416027",
          "exception": false,
          "start_time": "2021-06-17T13:07:40.319688",
          "status": "completed"
        },
        "tags": [],
        "id": "periodic-belief",
        "outputId": "5df3a24d-ec62-4384-863f-74e0dde59ada"
      },
      "source": [
        "webtext.fileids() # fileids c'est le nombre de fichier"
      ],
      "id": "periodic-belief",
      "execution_count": null,
      "outputs": [
        {
          "output_type": "execute_result",
          "data": {
            "text/plain": [
              "['firefox.txt',\n",
              " 'grail.txt',\n",
              " 'overheard.txt',\n",
              " 'pirates.txt',\n",
              " 'singles.txt',\n",
              " 'wine.txt']"
            ]
          },
          "metadata": {
            "tags": []
          },
          "execution_count": 10
        }
      ]
    },
    {
      "cell_type": "markdown",
      "metadata": {
        "papermill": {
          "duration": 0.085226,
          "end_time": "2021-06-17T13:07:40.587154",
          "exception": false,
          "start_time": "2021-06-17T13:07:40.501928",
          "status": "completed"
        },
        "tags": [],
        "id": "retired-terrace"
      },
      "source": [
        "Webtext contient 5 fichiers"
      ],
      "id": "retired-terrace"
    },
    {
      "cell_type": "code",
      "metadata": {
        "execution": {
          "iopub.execute_input": "2021-06-17T13:07:40.776790Z",
          "iopub.status.busy": "2021-06-17T13:07:40.775794Z",
          "iopub.status.idle": "2021-06-17T13:07:41.111134Z",
          "shell.execute_reply": "2021-06-17T13:07:41.110250Z",
          "shell.execute_reply.started": "2021-06-17T12:55:13.896526Z"
        },
        "papermill": {
          "duration": 0.439258,
          "end_time": "2021-06-17T13:07:41.111374",
          "exception": false,
          "start_time": "2021-06-17T13:07:40.672116",
          "status": "completed"
        },
        "tags": [],
        "id": "informational-david",
        "outputId": "ac7511c7-e880-451d-8e0d-395f3e7cfa94"
      },
      "source": [
        "webtext.sents(fileids='firefox.txt')"
      ],
      "id": "informational-david",
      "execution_count": null,
      "outputs": [
        {
          "output_type": "execute_result",
          "data": {
            "text/plain": [
              "[['Cookie', 'Manager', ':', '\"', 'Don', \"'\", 't', 'allow', 'sites', 'that', 'set', 'removed', 'cookies', 'to', 'set', 'future', 'cookies', '\"', 'should', 'stay', 'checked', 'When', 'in', 'full', 'screen', 'mode', 'Pressing', 'Ctrl', '-', 'N', 'should', 'open', 'a', 'new', 'browser', 'when', 'only', 'download', 'dialog', 'is', 'left', 'open', 'add', 'icons', 'to', 'context', 'menu', 'So', 'called', '\"', 'tab', 'bar', '\"', 'should', 'be', 'made', 'a', 'proper', 'toolbar', 'or', 'given', 'the', 'ability', 'collapse', '/', 'expand', '.'], ['[', 'XUL', ']', 'Implement', 'Cocoa', '-', 'style', 'toolbar', 'customization', '.'], ...]"
            ]
          },
          "metadata": {
            "tags": []
          },
          "execution_count": 11
        }
      ]
    },
    {
      "cell_type": "code",
      "metadata": {
        "execution": {
          "iopub.execute_input": "2021-06-17T13:07:41.297067Z",
          "iopub.status.busy": "2021-06-17T13:07:41.296045Z",
          "iopub.status.idle": "2021-06-17T13:07:41.590693Z",
          "shell.execute_reply": "2021-06-17T13:07:41.591152Z",
          "shell.execute_reply.started": "2021-06-17T12:55:14.198963Z"
        },
        "papermill": {
          "duration": 0.386231,
          "end_time": "2021-06-17T13:07:41.591349",
          "exception": false,
          "start_time": "2021-06-17T13:07:41.205118",
          "status": "completed"
        },
        "tags": [],
        "id": "reverse-rwanda",
        "outputId": "f23f957a-f3d8-482c-f3a6-8bef754d47d8"
      },
      "source": [
        "len(webtext.sents(fileids='firefox.txt'))"
      ],
      "id": "reverse-rwanda",
      "execution_count": null,
      "outputs": [
        {
          "output_type": "execute_result",
          "data": {
            "text/plain": [
              "1142"
            ]
          },
          "metadata": {
            "tags": []
          },
          "execution_count": 12
        }
      ]
    },
    {
      "cell_type": "code",
      "metadata": {
        "execution": {
          "iopub.execute_input": "2021-06-17T13:07:41.764757Z",
          "iopub.status.busy": "2021-06-17T13:07:41.764086Z",
          "iopub.status.idle": "2021-06-17T13:07:41.772826Z",
          "shell.execute_reply": "2021-06-17T13:07:41.772254Z",
          "shell.execute_reply.started": "2021-06-17T12:55:14.497174Z"
        },
        "papermill": {
          "duration": 0.096292,
          "end_time": "2021-06-17T13:07:41.772981",
          "exception": false,
          "start_time": "2021-06-17T13:07:41.676689",
          "status": "completed"
        },
        "tags": [],
        "id": "sudden-infrared",
        "outputId": "ac7faa38-1e4a-4287-97cc-48510ef8dbd6"
      },
      "source": [
        "from nltk import sent_tokenize\n",
        "single_no9 = webtext.raw('singles.txt').split('\\n')[9]\n",
        "sent_tokenize(single_no9)"
      ],
      "id": "sudden-infrared",
      "execution_count": null,
      "outputs": [
        {
          "output_type": "execute_result",
          "data": {
            "text/plain": [
              "['AMIABLE 43 y.o.',\n",
              " 'gentleman with European background, 170 cm, medium build, employed, never married, no children.',\n",
              " 'Enjoys sports, music, cafes, beach &c. Seeks an honest, attractive lady with a European background, without children, who would like to get married and have chil dren in the future.',\n",
              " '29-39 y.o.',\n",
              " 'Prefer non-smoker and living in Adelaide.']"
            ]
          },
          "metadata": {
            "tags": []
          },
          "execution_count": 13
        }
      ]
    },
    {
      "cell_type": "code",
      "metadata": {
        "execution": {
          "iopub.execute_input": "2021-06-17T13:07:41.950936Z",
          "iopub.status.busy": "2021-06-17T13:07:41.949951Z",
          "iopub.status.idle": "2021-06-17T13:07:41.954872Z",
          "shell.execute_reply": "2021-06-17T13:07:41.955399Z",
          "shell.execute_reply.started": "2021-06-17T12:55:14.506355Z"
        },
        "papermill": {
          "duration": 0.095471,
          "end_time": "2021-06-17T13:07:41.955581",
          "exception": false,
          "start_time": "2021-06-17T13:07:41.860110",
          "status": "completed"
        },
        "tags": [],
        "id": "defined-uruguay",
        "outputId": "b5a149a6-c9d5-4938-aeb4-7a1852f9c89a"
      },
      "source": [
        "print(webtext.raw('singles.txt').split('\\n'))"
      ],
      "id": "defined-uruguay",
      "execution_count": null,
      "outputs": [
        {
          "output_type": "stream",
          "text": [
            "['25 SEXY MALE, seeks attrac older single lady, for discreet encounters.', '35YO Security Guard, seeking lady in uniform for fun times.', '40 yo SINGLE DAD, sincere friendly DTE seeks r/ship with fem age open S/E', '44yo tall seeks working single mum or lady below 45 fship rship. Nat Open', '6.2 35 yr old OUTGOING M seeks fem 28-35 for o/door sports - w/e away', 'A professional business male, late 40s, 6 feet tall, slim build, well groomed, great personality, home owner, interests include the arts travel and all things good, Ringwood area, is seeking a genuine female of similar age or older, in same area or surrounds, for a meaningful long term rship. Looking forward to hearing from you all.', 'ABLE young man seeks, sexy older women. Phone for fun ready to play', 'AFFECTIONATE LADY Sought by generous guy, 40s, mutual fulfillment', 'ARE YOU ALONE or lost in a r/ship too, with no hope in sight? Maybe we could explore new beginnings together? Im 45 Slim/Med build, GSOH, high needs and looking for someone similar. You WONT be disappointed.', 'AMIABLE 43 y.o. gentleman with European background, 170 cm, medium build, employed, never married, no children. Enjoys sports, music, cafes, beach &c. Seeks an honest, attractive lady with a European background, without children, who would like to get married and have chil dren in the future. 29-39 y.o. Prefer non-smoker and living in Adelaide.', 'ARE YOU A COPPER REDHEAD? I am 36 y.o. and looking for companionship/friendship. I enjoy the AFL, animals and dining out.', 'ATTRACTIVE 43 Y.O. 61, medium build, financially secure, no children, seeks attractive lady up to 40 y.o. with no children. I enjoy the beach, sports and music. View to permanent relationship.', 'ATTRACTIVE GUY Late 30s, 57, Taurus. Into fitness, cafes, movies, dinner parties. Seeks out there female for friendship and fun.', 'AUSSIE 39 Solid build, likes music, movies, walks on the beach, single, would like to meet lady for friendship view relationship.', 'AUSTRALIAN FATHER 58 With 11 y.o. son, living with me. Seeks nice, caring lady who likes children for permanent re lationship in coastal town on Eyre Peninsula. Age open to 55. ', 'AUSTRALIAN, SLIM, FUN 5 ft. 8. Enjoy BBQs, sport, fishing, going out for meal &c. Fun to be with. Looking for a com panion, aged between 35-50. Must be genuine and good fun. Possible relationship. ', 'BEAUTIFUL, INTELLIGENT CARING, MUSICAL Shy, late 20s, size 12, long blonde hair and likes to drink Guiness. If this is you then I want you.', 'BLONDE HAIR, BLUE EYES Medium build, Im in my early 30s. Am honest, caring, likes fishing, animals, golf, bike riding, TV and DVDs, quiet nights at home, kissing and cuddling up to a special person in my life. Looking for a caring, honest lady for friendship to relationship.', \"BUSINESSMAN 60''ish Looking for lady, non-smoker, 56 or taller with business outlook, no ties, be prepared to travel and enjoy outdoor sports (cars, boats etc.), wining/ dining. Must have s.o.h. and have modern outlook. \", 'CUDDLY FULL FIGURED LADY 50 plus sought by Australian gent, early 60s, financially secure, non-drinker, non smoker, for permanent relationship.', 'FIT ACTIVE EASYGOING 50 y.o. male, 6 ft 2, med. build, fit and healthy, fully employed no ties, non smoker, light drinker. Seeking female friend, 40s, attractive 5 ft 5+. Med. to slim build. View towards a permanent relationship. Give me a call lets have a chat.', 'GENUINE AND HONEST Hi Im 44 with a good sense of humour, am romantic and love drives, fishing, camping and music. Love my 2 kids. Am looking for a lady with similar interests, aged between 38-45 for friendship/ possible relationship.', 'GENUINE ATTRACTIVE MAN 40 y.o., no ties, secure, 5 ft. 9, slim build. I enjoy outdoors, gym, beach, country drives and quiet nights at home. Seeking an honest, caring woman, slim or med. build, who enjoys the simple things in life. Age open. ', 'GOOD LISTENER Well educated, tall, blue eyes, brown hair, Mid 20s, good looking, honest n/smoker. Likes movies, drives, nights in, looks not important, nor distance/ speed. Looking for someone to complete my social circles. Age open, friendship/relationship.', 'GREEK/AUST. MALE Early 30s, 57, slim build, non-smoker, enjoys dining out, movies, bbqs., football and quiet nights at home. Seeking slim, attractive female, 20-30 with similar interests for friend ship/relationship.', 'HANDSOME BUSINESSMAN Tall, slim, independant, under standing, mid 50s, looking for classy lady who wants to retain her privacy, still retain her independance and is looking for a special private relationship. ', 'HERE I AM PICK ME! PICK ME! Now that I have your attention Im a 35 y.o. 59 attractive guy, non-smoker/social drinker, fit and active, is seeking a slim- medium lady for friendship/ relationship. ', 'LIMESTONE COAST REGION Attractive, 6 fit and healthy 46 y.o. country guy. Interests incl. self sufficiencies, permaculture animals and travel would like to meet an attractive, non- smoking fun loving lady 35-45 for friendship view to permanent relationship', \"MALE LATE 50''s AUST Single, tall, prof. Interests: Music, theatre, dining, art, the beach and the environment. Seeking female with similar interests to share concerts, dining etc.\", 'OUTGOING GUY Late 30s, seeks lady, 25-50, size unimportant for fun and good times. ', 'RETIRED GENT Like to meet slim lady for long term caravan travel, heading Darwin in May, share driving. Must have sense of humour, non-smoker. Age open.', 'ROMANTIC 35 y.o. with one child. Likes dining, movies, beach, country drives, quiet nights, seeks employed 28 - 40 year old lady for relationship. Clare or Barossa region or northern suburbs.', 'TALL, ATTRACTIVE MALE 40s no ties, down to earth, easy going with a sense of humour, understanding, with varied interests seeks genuine female for friendship, relationship, and quality times.', 'VIETNAMESE MAN Single, never married, financially secure. Seeks Australian lady for genuine relationship, single mum welcome, aged up to 40.', \"WIDOW EARLY 60''s Self employed professional, well established, 55, slim build, UK born, many interests incl. Sports cars, sexy, young for age, looks and outlook seeks short or long term relationship with slim, petite lady, any age up to 60 years.\", '31 YO GUY Slim, Seeks 25-35 yo female for friendship/relationship, kids ok. Eastern Suburbs', '43 yo Male, blond, outgoing, genuine, friendly seeking female bet/w 30-35 yo, easygoing, friendly.', '50 YEAR OLD Working tall guy, Would like to meet attractive lady for long term relationship.', 'CENTRAL VICTORIAN single Dad with 2 teen daughters, 46 y.o. Looking for a special lady', 'FIT & HEALTHY 60 y.o. self emp. tradesman, NS, seeks Indian/Sri Lankan lady, NS, Olive to Dark Complexion, 48-60 y.o. for F/dship Poss. rel.', 'MATURE GENT. N/S. Non drinker. Looking for fship / rship with Asian or Indian lady. 35 - 50 years.', 'ROMANTIC Sexy country guy 58 NS seeks similar NS lady for fun and friendship.', 'WELL DRESSED emotionally healthy man 37 like to meet full figured woman for relationship.', '48 slim, shy, S/S, S/D, likes NRL, movies, outdoors, nature walks and quiet time. DtoE, SOH, seeks same 38-50, children ok. Fship, poss Rship, genuine replies only. ALA. Lots of friends, but lonely.', '57YRS N/S, S/D. WLTM attractive classy Lady, slim to med build for outings, weekends away and poss perm rship, if suited. Nationality and age open.', 'ATTRACTIVE 34yo, GSOH, S/D. WLTM at tractive prof Ladies 40-50 who are time poor from work / career and like fun times and nights in or out. Have always connected more with older Women.', \"E''TAINING & interesting 46yo Prof. Kind, generous and a great listener who enjoys having fun. Witty & humorous comb with caring and responsible. Enjoys movies, music, reading & being social. WLTM Lady to enjoy company with view to beginning an exciting new rship.\", 'GENT 57yrs of age, GSOH, N/S, S/D, 177cm. Likes movies and theatre. Looking forward to meeting Lady with sim int. Please send photo. Fship, possible rship.', 'GENTLEMAN is lonely, likes cooking, house work, gardening, wild life caring, and fishing. Would like to meet a lady to share this with me.', 'HI, SWM, med build, 54y, likes quiet nts at home, self supporting, happy nat, fun loving, likes cooking. GSOH, S/S, S/D, seeking F 45-55 for fship, poss rship, likes to pamper, c/music, r/roll, loves life, not in a hurry.', 'MALE 58 years old. Is there a Woman who would like to spend 1 weekend a month in Charters Towers especially country music festival weekend. If so please write. Ref 8826 ', 'PROFESSIONAL Male, tall, fit, 40s, new to area who enjoys walking, travel, outdoors, walks on bch, amongst many other interests. Seeking Christian Woman for fship, view to rship.', 'SWM 45 DtoE, honest, S/D, 178cm, 79kg. Clean cut, intelligent, natur ist seeks petite open minded red hd or brunette. Asian, eurasian welcome. Home bch drives. Fship, poss rship.', 'WLTM sincere, caring Lady to share life with. My age is 70 yrs. GSOH, easy going, honest, reliable, DtoE person. I like walks, the beach, fishing, the outdoors, movies, music, dining out, am a N/S, S/D. Looking for fship and a poss rship.', 'ASIAN LADY 25+ SOUGHT BY Aussie gent 40 for F/ship possible R/ship', 'ASIAN LADY sought. Kids OK as I love family. Nice & honest guy.', 'ASIAN LADY with GSOH sought by Businessman late 30s for f/ship r/ship', 'ATHLETIC tall slim gen prof 40s seeks friendly lady age open Morn Pen', 'Are you out there & working 35-50yo NS, SD, GSOH, DTE, Caring thats me 2.', 'Attractive young male seek ing casual meetings with mature ladies 30-50', 'BRIGHT Boy with good brain, great cook & Physique. 42, 5/11 fair.', 'BUSINESSMAN 60+ n/s s/d seeks lady age open for f/ship r/ship Im a good listener so lets have lunch and converse. Essendon area and inner suburbs', 'Bright happy positive prof male 48 fit/healthy n/s seeks lady same f/r/ship', 'CARING LOVING & generous, seeks petite Female up to 38.', 'CARING well dressed rom gent, seeks classy lady 35+ of elegance for r/ship', 'CASUAL discreet weekday meetings no obligation East Suburbs.', 'EUROPEAN Male 45, seeks married European lady for R/ship.', 'FIT 36yo MARRIED male seeks attr married female for discreet encounter.', \"GENT, 30''s, seeks attr lady, easygoing, GSOH, for long term fship/rship.\", 'GREEK 41yo seeks Greek lady 30 - 37 for fship & rship', 'GREEK GUY 46, seeking Greek lady up to 50yo', \"GREEK Male Late 30''s seeks Lady up to 37yrs for long term relationship\", 'Good Looking Male seeks larger lady for f/ship. Preferably nth subs', 'LIKE TO BE MISTRESS of YOUR MAN like to be treated well. Bold DTE not precious, available during the day, appreciate a generous guy? Lets Talk! (50yo)', 'LJ seeks JS of Bayswater Be mine.', 'MALE 26 tall n/s seeks female early 30s for fun times South East Suburbs.', 'MALE 38 seeking genuine lady s/s age open for f/ship possible r/ship', 'MALE 60 - burly beared seeks intimate woman for outings n/s s/d F/ston/Pen', \"MALE MID 30''S Looking for no strings attached fun times.\", 'MARRIED HANDYMAN seeks lady for casual fun any age', \"MARRIED MALE mid 40''s attr missing TLC, seeks lady in similar position\", 'MARRIED MAN 50, attrac. fit, seeks lady 40-50 to share special times.', 'MT ELIZA Business guy seeks gorg slim lady loves life with passion', 'Male 44 fit running/gym seeks slim lady n/s 40-45 f/ship LTR', 'Male Seeks nice girl 25 - 30 serious rship.', 'Man 46 attractive fit, assertive, and kind. Would like to meet attractive fit stylish female. For dinner and wine. Northcote', 'Married Asian likes to meet lady for good times, Call me!', 'PROF guy 68 GSOH casual seeks sexy lady n/s age open Mornington.', 'SCORPIO 47 seeks passionate woman for discreet intimate encounters', 'SEXY MARRIED MALE seeks married lady for discreet affair.', 'SINGLE DAD 44yo, 6ft, 95 kg, male, romantic, caring, sincere & honest seeks medium/slim attrac single mum 35-45 def non smoker. Knox area', 'SINGLE MALE 45 seeks female 40-50 for 4WD weekends away', 'SINGLE MALE 49 seeks Fe male for f/ship possible r/ship kids OK', 'SINGLE good looking 45 yo seeks 40+ lady casual f/ship & fun Married Ok', 'SLIM attractive 40 looking for fun pref Asian.', 'STERN HEADMASTER With a firm hand, seeks naughty lady', \"Sgl 49 yo Male 6'' ave build seeks bi curious fem for fun fship poss rship.\", 'Single dad. 42, East sub. 5\"9 seeks woman 30+ for f/ship relationship', \"TALL FAIR HAIR, mid 40''s gent, affectionate/loyal, seeks lady 35-45 - R/ship\", 'WANT TO BE SPOILT have fun, be sexy', 'Warm, natural sgl DTE 38yo, Prof. seeks similar lady, genuine fship/rship', 'YOUNG attractive girls under 23 sought by good looking 30s guy.', '39 YR OLD male DTE GSOH looking for lady fun times & outings', 'A BUSINESSMAN 47 seeks slim attract uni student for daytime meetings', 'A FRIEND, A LOVER Self employed single 47 yo romantic easy going GSOH honest reliable looking to find a friend.', 'ASIAN GUY, 47 prof, well presented athletic no ties, N/S seeks lady to 47 for r/ship, cuddly lady welcome.', 'ATTRACT 32 yo male seeks a younger 18-27 lady for f/ship relationship', 'CARING FIT SINGLE 52 yo Aust male. N/S GOSH financially secure seeks busty / curvaceous lady 42-48 for f/ship poss perm r/ship East suburbs.', 'DISCIPLINARIAN Seeks lady for fun times', 'Euro Guy Nth Subs seeks lady into cars, friendship, good times & family', 'GOOD Guy seeking Asian lady, 20-30 N/S for f/ship r/ship.', 'GUY SLIM FIT seeks lady, any age for intimate encounters', 'Genuine, caring 52yo Male seeking DTE, female 50+ poss. R/ship.', 'HARLEY RIDER 50 seeks casual affair with married lady.', 'HERPES male seeks fem under 36 for r/ship, enjoys, outdoors, movies, dinners.', 'JAPANESE/ASIAN 40-50 sought by Aussie mid 40s b/man f/ship r/ship', 'LOVE to meet widowed lady over 50, no children in North West Suburbs.', 'MALE 34 seeking DTE lady GSOH for casual fun, age & size open.', 'MARRIED 32 fit attractive travels a lot looking for women for fun', 'MARRIED 32 personal trainer looking for married woman age open for fun', 'MARRIED Dark guy 37 seeks married lady 30-48 for discreet times. Sth E Subs.', 'MARRIED MAN 42yo 6ft, fit, seeks Lady for discreet fun meetings.', \"Mid 30''s Aussie guy, 6ft 2'' olive skin, never married no kids, but I have a dog who thinks he is human. I would like to meet a sexy, honest, reliable partner who enjoys being spoilt and is ready for commitment\", 'OLDER LADY sought by 32 male for friendship relation ship', 'TALL MALE 35 European seeking fun, adventure & other things.', '2 NICE GUYS Aged 39 & 36 would like to meet two females for quality times, night clubbing, movies, dining out and friendship. TO', 'A COUNTRY BOY 50+, good soh, non smoker, social drinker, Harley rider, semi retired, secure. Looking for nice attractive lady, slim to medium build, under 55 yrs. Must be non smoker, good soh to share life and fun times with. Possible relationship.', 'A LITTLE MAGIC Looking for a lady, who is a non smoker, 45 - 52, slim to medium build, who likes long walks, articulate conversation, music, and a little fun with a 6 ft. 2 medium build blue/green eyed. gentleman.', 'ABOUND AND CAREFREE Vibrant personality, n-s, 5 ft. 11, 49 yrs. young, creative & adventurous, executive, articulate, intelligent & very flexible. Love a good laugh, love life & enjoy contrasts and the finer things in life. Seeks lady with same outlooks to 55 y.o.', 'ABOUT ME: 36 Easygoing, self employed, 511, medium build, smoker/social drinker, seeking slim-medium build woman who is happy in life, age open. ', 'ACTIVE 57 YEARS 5 ft. 8, slim build, non-smoker, social drinker, living Southern suburbs. I enjoy a healthy, active lifestyle. Interests are: Sports, travel, dining out, movies and quiet nights at home. Seeking an affectionate, slim, easy going lady to 57 years for relationship.', 'ADELAIDE HILLS Good looking, single, Aussie country guy, 43 y.o. med. build, 5 ft. 8., honest and sincere. Likes BBQs, fishing, camping, dining out. Seeking genuine 30-45 y.o. lady who enjoys the outdoors and country life.', 'ADVENTUROUS 42 y.o. sensitive, non smoker, vegetarian, slim, 511\", well travelled, beach loving. Seeks down to earth 25-43 y.o., slim, non smoker, into outdoor life, camping, walks and music. TO', 'AGED 36, single, outgoing, good looking, short dark hair. Interested in AFL, basketball, cricket, 10 pin bowling and enjoy SANFL, travelling, going out for dinner, movies and nightclubs.', '52 Y.O. TERTIARY Educated professional woman, seeks professional, employed man, with interests in theatre, dining, music, good conversation etc. ', 'ABOUT ME 53 y.o. lady, 5 ft 5, non smoker, social drinker. I enjoy gardening, music, movies, walking, dining out and quiet nights at home, V8 motor racing. I am an easygoing, honest and caring person, seeking gentleman 50 - 65 for friendship with view to relationship.', 'ATTRACTIVE EMPLOYED LADY Late 30s, seeking tall 5 ft. 10+ attractive to very attractive dark haired gentleman, strictly 37 - 41. No kids, working normal hours, not self employed, living near City.', \"ATTRACTIVE 50''ish LADY Easygoing, down to earth. I enjoy travelling, movies, dining, wining, weekends away. Seeking gent 58-65 with similar interests. \", 'ATTRACTIVE EASY GOING Intelligent, slim-medium build, 5 ft. 5, healthy living - exercise daily, employed and responsible. Seeking a trustworthy male 42-47 with integrity and good morals, non-smoker, social drinker. Children OK.', 'BALLROOM DANCING SEEKING DANCING PARTNER Me: Mid 60s, 55\", slimmish and after many years would like to enjoy dancing again. You must be taller than I and to avoid any complications, like me, unattached.', 'CITY GIRL SEEKS COUNTRY ROMANCE Attractive 38 y.o. brunette living in Adelaide seeks country farmer/land owner (36-45), pref. clean shaven, non smoker, honest with strong family values for social outings and companionship. Other callers welcome to reply.', 'DO YOU LOVE TO DANCE? Fun loving and employed, I enjoy gardening, BBQs, dining out, house parties &c. Looking for fit Rock N Roll dance partner. Friendship maybe leading to relationship.', \"EARLY 60''S Vibrant personality, good s.o.h. non-smoker/social drinker. Interests include beach walks, movies, fishing, dancing, looking for gent 510 plus. Prefer living western/southern suburbs. Friendship view to relationship.\", 'EASYGOING 53 Y.O. 5ft. 6 in. tall and of large build seeks a good man. I am a nonsmoker, social drinker, single mother of a 15 year old boy. Lives NE subs.', 'FEISTY FOXY & A YUMMY GRANDMUMMY Late 40s, working full time. Looking for love & laughter. Are you at least 59, non-smoker, adventurous enough for exciting travel & comfortable enough to just watch TV, secure, fit but not fanatical? A bonus would be a love of dancing.', 'GARDEN LOVER Hi! I am an Aust. lady, 62 yo, 5 ft. 1, slim-med., build, n-s, s-d. Interests: dining out, movies, entertain., quiet nights at home, walks on beach & gardening Seeks gentleman who is honest & looking for friendship, maybe lead to relationship.', 'SEEKING HONEST MAN I am 41 y.o., 5 ft.4, med. build, employed, fun loving lady with a good SOH. Enjoy movies, dining out, country drives & quiet times. Seeks 35-45, honest man with good SOH & similar interests, friendship poss. relation ship. Southern area.', 'VERY ROMANTIC LADY Attractive 54 y.o., medium build, who loves hugs and kisses and those special tingles when we click. No children but a home lover. Amongst other things I enjoy being by the river. Would like to meet a real romantic, age 50-65 y.o.', 'WOMAN OF SUBSTANCE 56, 59 kg., 50, fit, n-s, elegant, articulate, seeks honest, sincere, social, n-s, well preserved 6. prof, sgle. Prince Charming. Living city/inner subs to share a future filled with fun, travel, adventure, glorious sunsets, candlelight dinners, fine wine, romance & true love.', 'YORKE PENINSULA LADY Late 70s, 53, pleasingly plump, missing male conversation and company. My interests are: luncheons, cards, travel and indoor bowls. ', 'AFFECTIONATE loyal female, seeks tall male. 35-43 for genuine relationship/marriage. Melb. subs.', '43YO WLTM Male who enjoys life, dining in/ out, movies, long drives, car racing, gardening, travel. Must be employed, honest, and loving.', '48YO SWF WLTM a 42-54yo genuine, caring, honest and normal man for fship, poss rship. S/S, S/D, GSOH. Photo pls.', 'A tall attractive Lady, 40 yrs young looking for a Male companion to go dancing with. Could be light hearted dance classes or out and about. I have some experience in Ballroom and Jive.', 'LADY 51 WLTM SWM 50-57 for company and fship. S/S, S/D, enjoys movies, dining out and sedate outdoor walks. Photo appreciated.', 'LADY 63. WLTM a genu ine person DtoE, possibly religious, loves horses, dogs, natural food (vegetarian), beaches, reading, fish ing. Friendship please.', 'LADY, 43 well presented. WLTM Gent for dating, rship. Likes fishing, dining out, movies, life and wine. N/S, must be fin. secure. If you would like to meet a lovely, sexy lady please reply with a photo if poss. Genuine replies.', 'SLIM well presented Fem. Early 50s, outgoing, intelligent, independant, into fitness, outdoor activites, sport, beach, music, theatre, movies, read ing. WLTM N/S Male with sim. int to share outings. Poss rship.', 'SWF 40yo, S/D, S/S, sgl Mum. Looking to meet gen, honest, caring, non judgemental Guy up to 45yo. Must enjoy danc ing and life in general. Must be comfortable with themselves. Photo pls. Only gen enquiries.', 'ABBREVIATIONS GSOH Good sense of humour SOH Sense of humour N/D Non drinker S/D Social drinker S/S Social smoker N/S Non smoker ALA All letters answered WLTM Would like to meet DtoE Down to Earth DONT FORGET.. Its FREE to advertise in Perfect Match ! ', '']\n"
          ],
          "name": "stdout"
        }
      ]
    },
    {
      "cell_type": "code",
      "metadata": {
        "execution": {
          "iopub.execute_input": "2021-06-17T13:07:42.134909Z",
          "iopub.status.busy": "2021-06-17T13:07:42.134211Z",
          "iopub.status.idle": "2021-06-17T13:07:42.142151Z",
          "shell.execute_reply": "2021-06-17T13:07:42.141203Z",
          "shell.execute_reply.started": "2021-06-17T12:55:14.522924Z"
        },
        "papermill": {
          "duration": 0.098133,
          "end_time": "2021-06-17T13:07:42.142366",
          "exception": false,
          "start_time": "2021-06-17T13:07:42.044233",
          "status": "completed"
        },
        "tags": [],
        "id": "royal-boxing",
        "outputId": "90c1893d-2a5b-41bd-9a4a-814d671f6892"
      },
      "source": [
        "for i, line in enumerate (webtext.raw('singles.txt').split('\\n')):\n",
        "    print(str(i) + ':\\t' + line)\n",
        "    if i>10:\n",
        "        break"
      ],
      "id": "royal-boxing",
      "execution_count": null,
      "outputs": [
        {
          "output_type": "stream",
          "text": [
            "0:\t25 SEXY MALE, seeks attrac older single lady, for discreet encounters.\n",
            "1:\t35YO Security Guard, seeking lady in uniform for fun times.\n",
            "2:\t40 yo SINGLE DAD, sincere friendly DTE seeks r/ship with fem age open S/E\n",
            "3:\t44yo tall seeks working single mum or lady below 45 fship rship. Nat Open\n",
            "4:\t6.2 35 yr old OUTGOING M seeks fem 28-35 for o/door sports - w/e away\n",
            "5:\tA professional business male, late 40s, 6 feet tall, slim build, well groomed, great personality, home owner, interests include the arts travel and all things good, Ringwood area, is seeking a genuine female of similar age or older, in same area or surrounds, for a meaningful long term rship. Looking forward to hearing from you all.\n",
            "6:\tABLE young man seeks, sexy older women. Phone for fun ready to play\n",
            "7:\tAFFECTIONATE LADY Sought by generous guy, 40s, mutual fulfillment\n",
            "8:\tARE YOU ALONE or lost in a r/ship too, with no hope in sight? Maybe we could explore new beginnings together? Im 45 Slim/Med build, GSOH, high needs and looking for someone similar. You WONT be disappointed.\n",
            "9:\tAMIABLE 43 y.o. gentleman with European background, 170 cm, medium build, employed, never married, no children. Enjoys sports, music, cafes, beach &c. Seeks an honest, attractive lady with a European background, without children, who would like to get married and have chil dren in the future. 29-39 y.o. Prefer non-smoker and living in Adelaide.\n",
            "10:\tARE YOU A COPPER REDHEAD? I am 36 y.o. and looking for companionship/friendship. I enjoy the AFL, animals and dining out.\n",
            "11:\tATTRACTIVE 43 Y.O. 61, medium build, financially secure, no children, seeks attractive lady up to 40 y.o. with no children. I enjoy the beach, sports and music. View to permanent relationship.\n"
          ],
          "name": "stdout"
        }
      ]
    },
    {
      "cell_type": "code",
      "metadata": {
        "execution": {
          "iopub.execute_input": "2021-06-17T13:07:42.322376Z",
          "iopub.status.busy": "2021-06-17T13:07:42.321684Z",
          "iopub.status.idle": "2021-06-17T13:07:42.326520Z",
          "shell.execute_reply": "2021-06-17T13:07:42.325970Z",
          "shell.execute_reply.started": "2021-06-17T12:55:14.535774Z"
        },
        "papermill": {
          "duration": 0.095733,
          "end_time": "2021-06-17T13:07:42.326669",
          "exception": false,
          "start_time": "2021-06-17T13:07:42.230936",
          "status": "completed"
        },
        "tags": [],
        "id": "distinguished-immunology",
        "outputId": "12418a9a-ac3a-41be-bf48-dab71afc0684"
      },
      "source": [
        "sentence=webtext.raw('singles.txt').split('\\n')[8]\n",
        "sentence"
      ],
      "id": "distinguished-immunology",
      "execution_count": null,
      "outputs": [
        {
          "output_type": "execute_result",
          "data": {
            "text/plain": [
              "'ARE YOU ALONE or lost in a r/ship too, with no hope in sight? Maybe we could explore new beginnings together? Im 45 Slim/Med build, GSOH, high needs and looking for someone similar. You WONT be disappointed.'"
            ]
          },
          "metadata": {
            "tags": []
          },
          "execution_count": 16
        }
      ]
    },
    {
      "cell_type": "markdown",
      "metadata": {
        "papermill": {
          "duration": 0.086705,
          "end_time": "2021-06-17T13:07:42.500678",
          "exception": false,
          "start_time": "2021-06-17T13:07:42.413973",
          "status": "completed"
        },
        "tags": [],
        "id": "danish-programmer"
      },
      "source": [
        "# Sentence Tokenization"
      ],
      "id": "danish-programmer"
    },
    {
      "cell_type": "code",
      "metadata": {
        "execution": {
          "iopub.execute_input": "2021-06-17T13:07:42.682264Z",
          "iopub.status.busy": "2021-06-17T13:07:42.681574Z",
          "iopub.status.idle": "2021-06-17T13:07:42.686492Z",
          "shell.execute_reply": "2021-06-17T13:07:42.685821Z",
          "shell.execute_reply.started": "2021-06-17T12:55:14.548558Z"
        },
        "papermill": {
          "duration": 0.097686,
          "end_time": "2021-06-17T13:07:42.686637",
          "exception": false,
          "start_time": "2021-06-17T13:07:42.588951",
          "status": "completed"
        },
        "tags": [],
        "id": "average-understanding",
        "outputId": "d8ba8bf8-dc7a-4b76-b19e-688d9c776a21"
      },
      "source": [
        "from nltk import sent_tokenize\n",
        "sent_tokenize(sentence)"
      ],
      "id": "average-understanding",
      "execution_count": null,
      "outputs": [
        {
          "output_type": "execute_result",
          "data": {
            "text/plain": [
              "['ARE YOU ALONE or lost in a r/ship too, with no hope in sight?',\n",
              " 'Maybe we could explore new beginnings together?',\n",
              " 'Im 45 Slim/Med build, GSOH, high needs and looking for someone similar.',\n",
              " 'You WONT be disappointed.']"
            ]
          },
          "metadata": {
            "tags": []
          },
          "execution_count": 17
        }
      ]
    },
    {
      "cell_type": "markdown",
      "metadata": {
        "papermill": {
          "duration": 0.087332,
          "end_time": "2021-06-17T13:07:42.864467",
          "exception": false,
          "start_time": "2021-06-17T13:07:42.777135",
          "status": "completed"
        },
        "tags": [],
        "id": "southeast-lawsuit"
      },
      "source": [
        "# Word Tokenization"
      ],
      "id": "southeast-lawsuit"
    },
    {
      "cell_type": "code",
      "metadata": {
        "execution": {
          "iopub.execute_input": "2021-06-17T13:07:43.048700Z",
          "iopub.status.busy": "2021-06-17T13:07:43.047701Z",
          "iopub.status.idle": "2021-06-17T13:07:43.051563Z",
          "shell.execute_reply": "2021-06-17T13:07:43.052093Z",
          "shell.execute_reply.started": "2021-06-17T12:55:14.561762Z"
        },
        "papermill": {
          "duration": 0.100285,
          "end_time": "2021-06-17T13:07:43.052292",
          "exception": false,
          "start_time": "2021-06-17T13:07:42.952007",
          "status": "completed"
        },
        "tags": [],
        "id": "discrete-opinion",
        "outputId": "7177d04e-d821-425f-aeeb-a65cebe1dcd1"
      },
      "source": [
        "from nltk import word_tokenize\n",
        "Words=[]\n",
        "for sent in sent_tokenize(sentence):\n",
        "    Words.append(word_tokenize(sent))\n",
        "Words"
      ],
      "id": "discrete-opinion",
      "execution_count": null,
      "outputs": [
        {
          "output_type": "execute_result",
          "data": {
            "text/plain": [
              "[['ARE',\n",
              "  'YOU',\n",
              "  'ALONE',\n",
              "  'or',\n",
              "  'lost',\n",
              "  'in',\n",
              "  'a',\n",
              "  'r/ship',\n",
              "  'too',\n",
              "  ',',\n",
              "  'with',\n",
              "  'no',\n",
              "  'hope',\n",
              "  'in',\n",
              "  'sight',\n",
              "  '?'],\n",
              " ['Maybe', 'we', 'could', 'explore', 'new', 'beginnings', 'together', '?'],\n",
              " ['Im',\n",
              "  '45',\n",
              "  'Slim/Med',\n",
              "  'build',\n",
              "  ',',\n",
              "  'GSOH',\n",
              "  ',',\n",
              "  'high',\n",
              "  'needs',\n",
              "  'and',\n",
              "  'looking',\n",
              "  'for',\n",
              "  'someone',\n",
              "  'similar',\n",
              "  '.'],\n",
              " ['You', 'WONT', 'be', 'disappointed', '.']]"
            ]
          },
          "metadata": {
            "tags": []
          },
          "execution_count": 18
        }
      ]
    },
    {
      "cell_type": "markdown",
      "metadata": {
        "papermill": {
          "duration": 0.088012,
          "end_time": "2021-06-17T13:07:43.228219",
          "exception": false,
          "start_time": "2021-06-17T13:07:43.140207",
          "status": "completed"
        },
        "tags": [],
        "id": "violent-guyana"
      },
      "source": [
        "# Lowercasing\n"
      ],
      "id": "violent-guyana"
    },
    {
      "cell_type": "code",
      "metadata": {
        "execution": {
          "iopub.execute_input": "2021-06-17T13:07:43.408463Z",
          "iopub.status.busy": "2021-06-17T13:07:43.407418Z",
          "iopub.status.idle": "2021-06-17T13:07:43.416279Z",
          "shell.execute_reply": "2021-06-17T13:07:43.415709Z",
          "shell.execute_reply.started": "2021-06-17T12:55:14.577012Z"
        },
        "papermill": {
          "duration": 0.099976,
          "end_time": "2021-06-17T13:07:43.416540",
          "exception": false,
          "start_time": "2021-06-17T13:07:43.316564",
          "status": "completed"
        },
        "tags": [],
        "id": "preliminary-poland",
        "outputId": "056d39de-7aad-4a81-a55f-96bdaffaf345"
      },
      "source": [
        "for sent in sent_tokenize(sentence):\n",
        "    print([word.lower() for word in word_tokenize(sent)])\n",
        "    "
      ],
      "id": "preliminary-poland",
      "execution_count": null,
      "outputs": [
        {
          "output_type": "stream",
          "text": [
            "['are', 'you', 'alone', 'or', 'lost', 'in', 'a', 'r/ship', 'too', ',', 'with', 'no', 'hope', 'in', 'sight', '?']\n",
            "['maybe', 'we', 'could', 'explore', 'new', 'beginnings', 'together', '?']\n",
            "['im', '45', 'slim/med', 'build', ',', 'gsoh', ',', 'high', 'needs', 'and', 'looking', 'for', 'someone', 'similar', '.']\n",
            "['you', 'wont', 'be', 'disappointed', '.']\n"
          ],
          "name": "stdout"
        }
      ]
    },
    {
      "cell_type": "code",
      "metadata": {
        "execution": {
          "iopub.execute_input": "2021-06-17T13:07:43.600846Z",
          "iopub.status.busy": "2021-06-17T13:07:43.600127Z",
          "iopub.status.idle": "2021-06-17T13:07:43.603336Z",
          "shell.execute_reply": "2021-06-17T13:07:43.603879Z",
          "shell.execute_reply.started": "2021-06-17T12:55:14.589332Z"
        },
        "papermill": {
          "duration": 0.099076,
          "end_time": "2021-06-17T13:07:43.604068",
          "exception": false,
          "start_time": "2021-06-17T13:07:43.504992",
          "status": "completed"
        },
        "tags": [],
        "id": "under-nightmare",
        "outputId": "e278b73d-f251-4f87-b3d5-b432047c7759"
      },
      "source": [
        "sent_tokenize(sentence)"
      ],
      "id": "under-nightmare",
      "execution_count": null,
      "outputs": [
        {
          "output_type": "execute_result",
          "data": {
            "text/plain": [
              "['ARE YOU ALONE or lost in a r/ship too, with no hope in sight?',\n",
              " 'Maybe we could explore new beginnings together?',\n",
              " 'Im 45 Slim/Med build, GSOH, high needs and looking for someone similar.',\n",
              " 'You WONT be disappointed.']"
            ]
          },
          "metadata": {
            "tags": []
          },
          "execution_count": 20
        }
      ]
    },
    {
      "cell_type": "markdown",
      "metadata": {
        "papermill": {
          "duration": 0.087647,
          "end_time": "2021-06-17T13:07:43.780353",
          "exception": false,
          "start_time": "2021-06-17T13:07:43.692706",
          "status": "completed"
        },
        "tags": [],
        "id": "underlying-tender"
      },
      "source": [
        "# Stopwords"
      ],
      "id": "underlying-tender"
    },
    {
      "cell_type": "code",
      "metadata": {
        "execution": {
          "iopub.execute_input": "2021-06-17T13:07:44.018469Z",
          "iopub.status.busy": "2021-06-17T13:07:44.017748Z",
          "iopub.status.idle": "2021-06-17T13:07:44.038827Z",
          "shell.execute_reply": "2021-06-17T13:07:44.038208Z",
          "shell.execute_reply.started": "2021-06-17T12:55:14.607667Z"
        },
        "papermill": {
          "duration": 0.114762,
          "end_time": "2021-06-17T13:07:44.038989",
          "exception": false,
          "start_time": "2021-06-17T13:07:43.924227",
          "status": "completed"
        },
        "tags": [],
        "id": "corresponding-ballet",
        "outputId": "4b992be7-bf6d-4bff-e6e4-90b83b6c04ed"
      },
      "source": [
        "from nltk.corpus import stopwords\n",
        "\n",
        "stopwords_en = stopwords.words('english')\n",
        "print(stopwords_en)"
      ],
      "id": "corresponding-ballet",
      "execution_count": null,
      "outputs": [
        {
          "output_type": "stream",
          "text": [
            "['i', 'me', 'my', 'myself', 'we', 'our', 'ours', 'ourselves', 'you', \"you're\", \"you've\", \"you'll\", \"you'd\", 'your', 'yours', 'yourself', 'yourselves', 'he', 'him', 'his', 'himself', 'she', \"she's\", 'her', 'hers', 'herself', 'it', \"it's\", 'its', 'itself', 'they', 'them', 'their', 'theirs', 'themselves', 'what', 'which', 'who', 'whom', 'this', 'that', \"that'll\", 'these', 'those', 'am', 'is', 'are', 'was', 'were', 'be', 'been', 'being', 'have', 'has', 'had', 'having', 'do', 'does', 'did', 'doing', 'a', 'an', 'the', 'and', 'but', 'if', 'or', 'because', 'as', 'until', 'while', 'of', 'at', 'by', 'for', 'with', 'about', 'against', 'between', 'into', 'through', 'during', 'before', 'after', 'above', 'below', 'to', 'from', 'up', 'down', 'in', 'out', 'on', 'off', 'over', 'under', 'again', 'further', 'then', 'once', 'here', 'there', 'when', 'where', 'why', 'how', 'all', 'any', 'both', 'each', 'few', 'more', 'most', 'other', 'some', 'such', 'no', 'nor', 'not', 'only', 'own', 'same', 'so', 'than', 'too', 'very', 's', 't', 'can', 'will', 'just', 'don', \"don't\", 'should', \"should've\", 'now', 'd', 'll', 'm', 'o', 're', 've', 'y', 'ain', 'aren', \"aren't\", 'couldn', \"couldn't\", 'didn', \"didn't\", 'doesn', \"doesn't\", 'hadn', \"hadn't\", 'hasn', \"hasn't\", 'haven', \"haven't\", 'isn', \"isn't\", 'ma', 'mightn', \"mightn't\", 'mustn', \"mustn't\", 'needn', \"needn't\", 'shan', \"shan't\", 'shouldn', \"shouldn't\", 'wasn', \"wasn't\", 'weren', \"weren't\", 'won', \"won't\", 'wouldn', \"wouldn't\"]\n"
          ],
          "name": "stdout"
        }
      ]
    },
    {
      "cell_type": "markdown",
      "metadata": {
        "papermill": {
          "duration": 0.089502,
          "end_time": "2021-06-17T13:07:44.219705",
          "exception": false,
          "start_time": "2021-06-17T13:07:44.130203",
          "status": "completed"
        },
        "tags": [],
        "id": "alone-cause"
      },
      "source": [
        "# Lowering and removing stopwords"
      ],
      "id": "alone-cause"
    },
    {
      "cell_type": "code",
      "metadata": {
        "execution": {
          "iopub.execute_input": "2021-06-17T13:07:44.405181Z",
          "iopub.status.busy": "2021-06-17T13:07:44.404176Z",
          "iopub.status.idle": "2021-06-17T13:07:44.410136Z",
          "shell.execute_reply": "2021-06-17T13:07:44.410661Z",
          "shell.execute_reply.started": "2021-06-17T12:55:14.623247Z"
        },
        "papermill": {
          "duration": 0.101735,
          "end_time": "2021-06-17T13:07:44.410841",
          "exception": false,
          "start_time": "2021-06-17T13:07:44.309106",
          "status": "completed"
        },
        "tags": [],
        "id": "metallic-honduras",
        "outputId": "66695b50-a76a-4536-e333-2cb986dd216b"
      },
      "source": [
        "from nltk.corpus import stopwords\n",
        "from nltk import word_tokenize\n",
        "\n",
        "stopwords = stopwords.words('english')\n",
        "Data=\"This is a sample sentence, showing off the stop words filtration\"\n",
        "Words= word_tokenize(Data)\n",
        "Cleaned_Data=[word for word in Words if word.lower() not in stopwords]\n",
        "Cleaned_Data"
      ],
      "id": "metallic-honduras",
      "execution_count": null,
      "outputs": [
        {
          "output_type": "execute_result",
          "data": {
            "text/plain": [
              "['sample', 'sentence', ',', 'showing', 'stop', 'words', 'filtration']"
            ]
          },
          "metadata": {
            "tags": []
          },
          "execution_count": 22
        }
      ]
    },
    {
      "cell_type": "markdown",
      "metadata": {
        "papermill": {
          "duration": 0.090028,
          "end_time": "2021-06-17T13:07:44.589747",
          "exception": false,
          "start_time": "2021-06-17T13:07:44.499719",
          "status": "completed"
        },
        "tags": [],
        "id": "cheap-pontiac"
      },
      "source": [
        "# Fonction map : apply the given function to each item of a given iterable "
      ],
      "id": "cheap-pontiac"
    },
    {
      "cell_type": "code",
      "metadata": {
        "execution": {
          "iopub.execute_input": "2021-06-17T13:07:44.774871Z",
          "iopub.status.busy": "2021-06-17T13:07:44.774187Z",
          "iopub.status.idle": "2021-06-17T13:07:44.776815Z",
          "shell.execute_reply": "2021-06-17T13:07:44.777315Z",
          "shell.execute_reply.started": "2021-06-17T12:55:14.642595Z"
        },
        "papermill": {
          "duration": 0.098905,
          "end_time": "2021-06-17T13:07:44.777498",
          "exception": false,
          "start_time": "2021-06-17T13:07:44.678593",
          "status": "completed"
        },
        "tags": [],
        "id": "systematic-collins",
        "outputId": "cf360bde-0acc-4794-9fe5-15e9e4502df6"
      },
      "source": [
        "sentence_lowered_tokenized=list(map(str.lower,word_tokenize(single_no9)))\n",
        "sentence_lowered_tokenized"
      ],
      "id": "systematic-collins",
      "execution_count": null,
      "outputs": [
        {
          "output_type": "execute_result",
          "data": {
            "text/plain": [
              "['amiable',\n",
              " '43',\n",
              " 'y.o',\n",
              " '.',\n",
              " 'gentleman',\n",
              " 'with',\n",
              " 'european',\n",
              " 'background',\n",
              " ',',\n",
              " '170',\n",
              " 'cm',\n",
              " ',',\n",
              " 'medium',\n",
              " 'build',\n",
              " ',',\n",
              " 'employed',\n",
              " ',',\n",
              " 'never',\n",
              " 'married',\n",
              " ',',\n",
              " 'no',\n",
              " 'children',\n",
              " '.',\n",
              " 'enjoys',\n",
              " 'sports',\n",
              " ',',\n",
              " 'music',\n",
              " ',',\n",
              " 'cafes',\n",
              " ',',\n",
              " 'beach',\n",
              " '&',\n",
              " 'c.',\n",
              " 'seeks',\n",
              " 'an',\n",
              " 'honest',\n",
              " ',',\n",
              " 'attractive',\n",
              " 'lady',\n",
              " 'with',\n",
              " 'a',\n",
              " 'european',\n",
              " 'background',\n",
              " ',',\n",
              " 'without',\n",
              " 'children',\n",
              " ',',\n",
              " 'who',\n",
              " 'would',\n",
              " 'like',\n",
              " 'to',\n",
              " 'get',\n",
              " 'married',\n",
              " 'and',\n",
              " 'have',\n",
              " 'chil',\n",
              " 'dren',\n",
              " 'in',\n",
              " 'the',\n",
              " 'future',\n",
              " '.',\n",
              " '29-39',\n",
              " 'y.o',\n",
              " '.',\n",
              " 'prefer',\n",
              " 'non-smoker',\n",
              " 'and',\n",
              " 'living',\n",
              " 'in',\n",
              " 'adelaide',\n",
              " '.']"
            ]
          },
          "metadata": {
            "tags": []
          },
          "execution_count": 23
        }
      ]
    },
    {
      "cell_type": "code",
      "metadata": {
        "execution": {
          "iopub.execute_input": "2021-06-17T13:07:44.960104Z",
          "iopub.status.busy": "2021-06-17T13:07:44.959432Z",
          "iopub.status.idle": "2021-06-17T13:07:44.965618Z",
          "shell.execute_reply": "2021-06-17T13:07:44.965051Z",
          "shell.execute_reply.started": "2021-06-17T12:55:14.653564Z"
        },
        "papermill": {
          "duration": 0.099056,
          "end_time": "2021-06-17T13:07:44.965777",
          "exception": false,
          "start_time": "2021-06-17T13:07:44.866721",
          "status": "completed"
        },
        "tags": [],
        "id": "improving-robin",
        "outputId": "bf7861a7-54ba-4cf6-f8bd-4c3a1acd186d"
      },
      "source": [
        "#nltk.download('stopwords')\n",
        "#stopwords_en = set(stopwords.words('english')) # Set checking is faster in Python than list.\n",
        "print([word for word in sentence_lowered_tokenized if word not in stopwords_en])"
      ],
      "id": "improving-robin",
      "execution_count": null,
      "outputs": [
        {
          "output_type": "stream",
          "text": [
            "['amiable', '43', 'y.o', '.', 'gentleman', 'european', 'background', ',', '170', 'cm', ',', 'medium', 'build', ',', 'employed', ',', 'never', 'married', ',', 'children', '.', 'enjoys', 'sports', ',', 'music', ',', 'cafes', ',', 'beach', '&', 'c.', 'seeks', 'honest', ',', 'attractive', 'lady', 'european', 'background', ',', 'without', 'children', ',', 'would', 'like', 'get', 'married', 'chil', 'dren', 'future', '.', '29-39', 'y.o', '.', 'prefer', 'non-smoker', 'living', 'adelaide', '.']\n"
          ],
          "name": "stdout"
        }
      ]
    },
    {
      "cell_type": "code",
      "metadata": {
        "execution": {
          "iopub.execute_input": "2021-06-17T13:07:45.156167Z",
          "iopub.status.busy": "2021-06-17T13:07:45.155200Z",
          "iopub.status.idle": "2021-06-17T13:07:45.158857Z",
          "shell.execute_reply": "2021-06-17T13:07:45.159487Z",
          "shell.execute_reply.started": "2021-06-17T12:55:14.666004Z"
        },
        "papermill": {
          "duration": 0.10353,
          "end_time": "2021-06-17T13:07:45.159667",
          "exception": false,
          "start_time": "2021-06-17T13:07:45.056137",
          "status": "completed"
        },
        "tags": [],
        "id": "crazy-japanese",
        "outputId": "90f6a64e-c78d-4cf1-95d4-8af1310944e1"
      },
      "source": [
        "A={'a','c','b','b'} #non modifiable, non ordonné, non redondant\n",
        "A.add('e')\n",
        "A\n",
        "#A[0]=1 #error"
      ],
      "id": "crazy-japanese",
      "execution_count": null,
      "outputs": [
        {
          "output_type": "execute_result",
          "data": {
            "text/plain": [
              "{'a', 'b', 'c', 'e'}"
            ]
          },
          "metadata": {
            "tags": []
          },
          "execution_count": 25
        }
      ]
    },
    {
      "cell_type": "code",
      "metadata": {
        "execution": {
          "iopub.execute_input": "2021-06-17T13:07:45.347146Z",
          "iopub.status.busy": "2021-06-17T13:07:45.346121Z",
          "iopub.status.idle": "2021-06-17T13:07:45.350917Z",
          "shell.execute_reply": "2021-06-17T13:07:45.350260Z",
          "shell.execute_reply.started": "2021-06-17T12:55:14.681937Z"
        },
        "papermill": {
          "duration": 0.10073,
          "end_time": "2021-06-17T13:07:45.351059",
          "exception": false,
          "start_time": "2021-06-17T13:07:45.250329",
          "status": "completed"
        },
        "tags": [],
        "id": "dirty-feeling",
        "outputId": "3c280b45-5fd5-49c3-9707-ab9af8785072"
      },
      "source": [
        "tuple=(1,2)  # non modifiable\n",
        "#tuple[0]=3 # error\n",
        "tuple + (3,) # la seule manière d'ajouter un elt à un tuple"
      ],
      "id": "dirty-feeling",
      "execution_count": null,
      "outputs": [
        {
          "output_type": "execute_result",
          "data": {
            "text/plain": [
              "(1, 2, 3)"
            ]
          },
          "metadata": {
            "tags": []
          },
          "execution_count": 26
        }
      ]
    },
    {
      "cell_type": "markdown",
      "metadata": {
        "papermill": {
          "duration": 0.090046,
          "end_time": "2021-06-17T13:07:45.531879",
          "exception": false,
          "start_time": "2021-06-17T13:07:45.441833",
          "status": "completed"
        },
        "tags": [],
        "id": "crude-catch"
      },
      "source": [
        "# Pandas DataFrame vs Series"
      ],
      "id": "crude-catch"
    },
    {
      "cell_type": "code",
      "metadata": {
        "execution": {
          "iopub.execute_input": "2021-06-17T13:07:45.721290Z",
          "iopub.status.busy": "2021-06-17T13:07:45.720332Z",
          "iopub.status.idle": "2021-06-17T13:07:45.724751Z",
          "shell.execute_reply": "2021-06-17T13:07:45.724150Z",
          "shell.execute_reply.started": "2021-06-17T12:55:14.695271Z"
        },
        "papermill": {
          "duration": 0.102595,
          "end_time": "2021-06-17T13:07:45.724903",
          "exception": false,
          "start_time": "2021-06-17T13:07:45.622308",
          "status": "completed"
        },
        "tags": [],
        "id": "sitting-stevens",
        "outputId": "45a9fd76-10a4-4b15-a69a-60f7b2ead073"
      },
      "source": [
        "s = pd.Series(['lower', 'CAPITALS', 'this is a sentence', 'SwApCaSe'])  # serie objet unidimmentionnel\n",
        "m= pd.DataFrame(['lower', 'CAPITALS', 'this is a sentence', 'SwApCaSe']) # Dataframe objet bidimensionnel pouvant contenir des séries, des listes et des dictionnaires\n",
        "s,m    "
      ],
      "id": "sitting-stevens",
      "execution_count": null,
      "outputs": [
        {
          "output_type": "execute_result",
          "data": {
            "text/plain": [
              "(0                 lower\n",
              " 1              CAPITALS\n",
              " 2    this is a sentence\n",
              " 3              SwApCaSe\n",
              " dtype: object,\n",
              "                     0\n",
              " 0               lower\n",
              " 1            CAPITALS\n",
              " 2  this is a sentence\n",
              " 3            SwApCaSe)"
            ]
          },
          "metadata": {
            "tags": []
          },
          "execution_count": 27
        }
      ]
    },
    {
      "cell_type": "code",
      "metadata": {
        "execution": {
          "iopub.execute_input": "2021-06-17T13:07:45.927943Z",
          "iopub.status.busy": "2021-06-17T13:07:45.927171Z",
          "iopub.status.idle": "2021-06-17T13:07:45.931946Z",
          "shell.execute_reply": "2021-06-17T13:07:45.931297Z",
          "shell.execute_reply.started": "2021-06-17T12:55:14.712054Z"
        },
        "papermill": {
          "duration": 0.115316,
          "end_time": "2021-06-17T13:07:45.932086",
          "exception": false,
          "start_time": "2021-06-17T13:07:45.816770",
          "status": "completed"
        },
        "tags": [],
        "id": "above-logan",
        "outputId": "8a106561-c111-4ab6-cc44-5e7da3837276"
      },
      "source": [
        "d = {'one' : pd.Series([1., 2., 3.], index=['a', 'b', 'c']),\n",
        " 'two' : pd.Series([1., 2., 3., 4.], index=['a', 'b', 'c', 'd'])}\n",
        "pd.DataFrame(d)"
      ],
      "id": "above-logan",
      "execution_count": null,
      "outputs": [
        {
          "output_type": "execute_result",
          "data": {
            "text/html": [
              "<div>\n",
              "<style scoped>\n",
              "    .dataframe tbody tr th:only-of-type {\n",
              "        vertical-align: middle;\n",
              "    }\n",
              "\n",
              "    .dataframe tbody tr th {\n",
              "        vertical-align: top;\n",
              "    }\n",
              "\n",
              "    .dataframe thead th {\n",
              "        text-align: right;\n",
              "    }\n",
              "</style>\n",
              "<table border=\"1\" class=\"dataframe\">\n",
              "  <thead>\n",
              "    <tr style=\"text-align: right;\">\n",
              "      <th></th>\n",
              "      <th>one</th>\n",
              "      <th>two</th>\n",
              "    </tr>\n",
              "  </thead>\n",
              "  <tbody>\n",
              "    <tr>\n",
              "      <th>a</th>\n",
              "      <td>1.0</td>\n",
              "      <td>1.0</td>\n",
              "    </tr>\n",
              "    <tr>\n",
              "      <th>b</th>\n",
              "      <td>2.0</td>\n",
              "      <td>2.0</td>\n",
              "    </tr>\n",
              "    <tr>\n",
              "      <th>c</th>\n",
              "      <td>3.0</td>\n",
              "      <td>3.0</td>\n",
              "    </tr>\n",
              "    <tr>\n",
              "      <th>d</th>\n",
              "      <td>NaN</td>\n",
              "      <td>4.0</td>\n",
              "    </tr>\n",
              "  </tbody>\n",
              "</table>\n",
              "</div>"
            ],
            "text/plain": [
              "   one  two\n",
              "a  1.0  1.0\n",
              "b  2.0  2.0\n",
              "c  3.0  3.0\n",
              "d  NaN  4.0"
            ]
          },
          "metadata": {
            "tags": []
          },
          "execution_count": 28
        }
      ]
    },
    {
      "cell_type": "code",
      "metadata": {
        "execution": {
          "iopub.execute_input": "2021-06-17T13:07:46.126795Z",
          "iopub.status.busy": "2021-06-17T13:07:46.125952Z",
          "iopub.status.idle": "2021-06-17T13:07:46.129808Z",
          "shell.execute_reply": "2021-06-17T13:07:46.129160Z",
          "shell.execute_reply.started": "2021-06-17T12:55:14.731284Z"
        },
        "papermill": {
          "duration": 0.106187,
          "end_time": "2021-06-17T13:07:46.129960",
          "exception": false,
          "start_time": "2021-06-17T13:07:46.023773",
          "status": "completed"
        },
        "tags": [],
        "id": "classified-consortium",
        "outputId": "435e998f-4a35-4abb-da66-8803fbfef23e"
      },
      "source": [
        "pd.DataFrame(s,index=['a', 'b', 'c', 'd'], columns=['fist'])"
      ],
      "id": "classified-consortium",
      "execution_count": null,
      "outputs": [
        {
          "output_type": "execute_result",
          "data": {
            "text/html": [
              "<div>\n",
              "<style scoped>\n",
              "    .dataframe tbody tr th:only-of-type {\n",
              "        vertical-align: middle;\n",
              "    }\n",
              "\n",
              "    .dataframe tbody tr th {\n",
              "        vertical-align: top;\n",
              "    }\n",
              "\n",
              "    .dataframe thead th {\n",
              "        text-align: right;\n",
              "    }\n",
              "</style>\n",
              "<table border=\"1\" class=\"dataframe\">\n",
              "  <thead>\n",
              "    <tr style=\"text-align: right;\">\n",
              "      <th></th>\n",
              "      <th>fist</th>\n",
              "    </tr>\n",
              "  </thead>\n",
              "  <tbody>\n",
              "    <tr>\n",
              "      <th>a</th>\n",
              "      <td>NaN</td>\n",
              "    </tr>\n",
              "    <tr>\n",
              "      <th>b</th>\n",
              "      <td>NaN</td>\n",
              "    </tr>\n",
              "    <tr>\n",
              "      <th>c</th>\n",
              "      <td>NaN</td>\n",
              "    </tr>\n",
              "    <tr>\n",
              "      <th>d</th>\n",
              "      <td>NaN</td>\n",
              "    </tr>\n",
              "  </tbody>\n",
              "</table>\n",
              "</div>"
            ],
            "text/plain": [
              "  fist\n",
              "a  NaN\n",
              "b  NaN\n",
              "c  NaN\n",
              "d  NaN"
            ]
          },
          "metadata": {
            "tags": []
          },
          "execution_count": 29
        }
      ]
    },
    {
      "cell_type": "code",
      "metadata": {
        "execution": {
          "iopub.execute_input": "2021-06-17T13:07:46.324009Z",
          "iopub.status.busy": "2021-06-17T13:07:46.322967Z",
          "iopub.status.idle": "2021-06-17T13:07:46.327683Z",
          "shell.execute_reply": "2021-06-17T13:07:46.327002Z",
          "shell.execute_reply.started": "2021-06-17T12:55:14.751606Z"
        },
        "papermill": {
          "duration": 0.105017,
          "end_time": "2021-06-17T13:07:46.327831",
          "exception": false,
          "start_time": "2021-06-17T13:07:46.222814",
          "status": "completed"
        },
        "tags": [],
        "id": "processed-snowboard",
        "outputId": "3d1298e8-3bb0-4c0d-fe17-8451c581e824"
      },
      "source": [
        "s.to_frame(name=\"vals\") # Convert Series to DataFrame"
      ],
      "id": "processed-snowboard",
      "execution_count": null,
      "outputs": [
        {
          "output_type": "execute_result",
          "data": {
            "text/html": [
              "<div>\n",
              "<style scoped>\n",
              "    .dataframe tbody tr th:only-of-type {\n",
              "        vertical-align: middle;\n",
              "    }\n",
              "\n",
              "    .dataframe tbody tr th {\n",
              "        vertical-align: top;\n",
              "    }\n",
              "\n",
              "    .dataframe thead th {\n",
              "        text-align: right;\n",
              "    }\n",
              "</style>\n",
              "<table border=\"1\" class=\"dataframe\">\n",
              "  <thead>\n",
              "    <tr style=\"text-align: right;\">\n",
              "      <th></th>\n",
              "      <th>vals</th>\n",
              "    </tr>\n",
              "  </thead>\n",
              "  <tbody>\n",
              "    <tr>\n",
              "      <th>0</th>\n",
              "      <td>lower</td>\n",
              "    </tr>\n",
              "    <tr>\n",
              "      <th>1</th>\n",
              "      <td>CAPITALS</td>\n",
              "    </tr>\n",
              "    <tr>\n",
              "      <th>2</th>\n",
              "      <td>this is a sentence</td>\n",
              "    </tr>\n",
              "    <tr>\n",
              "      <th>3</th>\n",
              "      <td>SwApCaSe</td>\n",
              "    </tr>\n",
              "  </tbody>\n",
              "</table>\n",
              "</div>"
            ],
            "text/plain": [
              "                 vals\n",
              "0               lower\n",
              "1            CAPITALS\n",
              "2  this is a sentence\n",
              "3            SwApCaSe"
            ]
          },
          "metadata": {
            "tags": []
          },
          "execution_count": 30
        }
      ]
    },
    {
      "cell_type": "markdown",
      "metadata": {
        "papermill": {
          "duration": 0.093816,
          "end_time": "2021-06-17T13:07:46.516078",
          "exception": false,
          "start_time": "2021-06-17T13:07:46.422262",
          "status": "completed"
        },
        "tags": [],
        "id": "emerging-toddler"
      },
      "source": [
        ""
      ],
      "id": "emerging-toddler"
    },
    {
      "cell_type": "code",
      "metadata": {
        "execution": {
          "iopub.execute_input": "2021-06-17T13:07:46.710067Z",
          "iopub.status.busy": "2021-06-17T13:07:46.709154Z",
          "iopub.status.idle": "2021-06-17T13:07:46.713874Z",
          "shell.execute_reply": "2021-06-17T13:07:46.713361Z",
          "shell.execute_reply.started": "2021-06-17T12:55:14.768097Z"
        },
        "papermill": {
          "duration": 0.104063,
          "end_time": "2021-06-17T13:07:46.714031",
          "exception": false,
          "start_time": "2021-06-17T13:07:46.609968",
          "status": "completed"
        },
        "tags": [],
        "id": "seventh-midnight",
        "outputId": "877fcd89-2475-4092-f47e-dad16eb45a50"
      },
      "source": [
        "set([1,2])"
      ],
      "id": "seventh-midnight",
      "execution_count": null,
      "outputs": [
        {
          "output_type": "execute_result",
          "data": {
            "text/plain": [
              "{1, 2}"
            ]
          },
          "metadata": {
            "tags": []
          },
          "execution_count": 31
        }
      ]
    },
    {
      "cell_type": "markdown",
      "metadata": {
        "papermill": {
          "duration": 0.092794,
          "end_time": "2021-06-17T13:07:46.900175",
          "exception": false,
          "start_time": "2021-06-17T13:07:46.807381",
          "status": "completed"
        },
        "tags": [],
        "id": "superb-alignment"
      },
      "source": [
        "# Stopwords-json"
      ],
      "id": "superb-alignment"
    },
    {
      "cell_type": "code",
      "metadata": {
        "execution": {
          "iopub.execute_input": "2021-06-17T13:07:47.111328Z",
          "iopub.status.busy": "2021-06-17T13:07:47.100475Z",
          "iopub.status.idle": "2021-06-17T13:07:47.128782Z",
          "shell.execute_reply": "2021-06-17T13:07:47.129831Z",
          "shell.execute_reply.started": "2021-06-17T12:55:14.777193Z"
        },
        "papermill": {
          "duration": 0.135868,
          "end_time": "2021-06-17T13:07:47.130197",
          "exception": false,
          "start_time": "2021-06-17T13:07:46.994329",
          "status": "completed"
        },
        "tags": [],
        "id": "electronic-samoa",
        "outputId": "1657e82b-dce5-4fc8-91f0-1f68cfe66272"
      },
      "source": [
        "from string import punctuation\n",
        "print('From string.punctuation:', punctuation)\n",
        "# stopwords_json existe dans https://github.com/6/stopwords-json/blob/master/stopwords-all.json\n",
        "stopwords_json = {\"en\":[\"a\",\"a's\",\"able\",\"about\",\"above\",\"according\",\"accordingly\",\"across\",\"actually\",\"after\",\"afterwards\",\"again\",\"against\",\"ain't\",\"all\",\"allow\",\"allows\",\"almost\",\"alone\",\"along\",\"already\",\"also\",\"although\",\"always\",\"am\",\"among\",\"amongst\",\"an\",\"and\",\"another\",\"any\",\"anybody\",\"anyhow\",\"anyone\",\"anything\",\"anyway\",\"anyways\",\"anywhere\",\"apart\",\"appear\",\"appreciate\",\"appropriate\",\"are\",\"aren't\",\"around\",\"as\",\"aside\",\"ask\",\"asking\",\"associated\",\"at\",\"available\",\"away\",\"awfully\",\"b\",\"be\",\"became\",\"because\",\"become\",\"becomes\",\"becoming\",\"been\",\"before\",\"beforehand\",\"behind\",\"being\",\"believe\",\"below\",\"beside\",\"besides\",\"best\",\"better\",\"between\",\"beyond\",\"both\",\"brief\",\"but\",\"by\",\"c\",\"c'mon\",\"c's\",\"came\",\"can\",\"can't\",\"cannot\",\"cant\",\"cause\",\"causes\",\"certain\",\"certainly\",\"changes\",\"clearly\",\"co\",\"com\",\"come\",\"comes\",\"concerning\",\"consequently\",\"consider\",\"considering\",\"contain\",\"containing\",\"contains\",\"corresponding\",\"could\",\"couldn't\",\"course\",\"currently\",\"d\",\"definitely\",\"described\",\"despite\",\"did\",\"didn't\",\"different\",\"do\",\"does\",\"doesn't\",\"doing\",\"don't\",\"done\",\"down\",\"downwards\",\"during\",\"e\",\"each\",\"edu\",\"eg\",\"eight\",\"either\",\"else\",\"elsewhere\",\"enough\",\"entirely\",\"especially\",\"et\",\"etc\",\"even\",\"ever\",\"every\",\"everybody\",\"everyone\",\"everything\",\"everywhere\",\"ex\",\"exactly\",\"example\",\"except\",\"f\",\"far\",\"few\",\"fifth\",\"first\",\"five\",\"followed\",\"following\",\"follows\",\"for\",\"former\",\"formerly\",\"forth\",\"four\",\"from\",\"further\",\"furthermore\",\"g\",\"get\",\"gets\",\"getting\",\"given\",\"gives\",\"go\",\"goes\",\"going\",\"gone\",\"got\",\"gotten\",\"greetings\",\"h\",\"had\",\"hadn't\",\"happens\",\"hardly\",\"has\",\"hasn't\",\"have\",\"haven't\",\"having\",\"he\",\"he's\",\"hello\",\"help\",\"hence\",\"her\",\"here\",\"here's\",\"hereafter\",\"hereby\",\"herein\",\"hereupon\",\"hers\",\"herself\",\"hi\",\"him\",\"himself\",\"his\",\"hither\",\"hopefully\",\"how\",\"howbeit\",\"however\",\"i\",\"i'd\",\"i'll\",\"i'm\",\"i've\",\"ie\",\"if\",\"ignored\",\"immediate\",\"in\",\"inasmuch\",\"inc\",\"indeed\",\"indicate\",\"indicated\",\"indicates\",\"inner\",\"insofar\",\"instead\",\"into\",\"inward\",\"is\",\"isn't\",\"it\",\"it'd\",\"it'll\",\"it's\",\"its\",\"itself\",\"j\",\"just\",\"k\",\"keep\",\"keeps\",\"kept\",\"know\",\"known\",\"knows\",\"l\",\"last\",\"lately\",\"later\",\"latter\",\"latterly\",\"least\",\"less\",\"lest\",\"let\",\"let's\",\"like\",\"liked\",\"likely\",\"little\",\"look\",\"looking\",\"looks\",\"ltd\",\"m\",\"mainly\",\"many\",\"may\",\"maybe\",\"me\",\"mean\",\"meanwhile\",\"merely\",\"might\",\"more\",\"moreover\",\"most\",\"mostly\",\"much\",\"must\",\"my\",\"myself\",\"n\",\"name\",\"namely\",\"nd\",\"near\",\"nearly\",\"necessary\",\"need\",\"needs\",\"neither\",\"never\",\"nevertheless\",\"new\",\"next\",\"nine\",\"no\",\"nobody\",\"non\",\"none\",\"noone\",\"nor\",\"normally\",\"not\",\"nothing\",\"novel\",\"now\",\"nowhere\",\"o\",\"obviously\",\"of\",\"off\",\"often\",\"oh\",\"ok\",\"okay\",\"old\",\"on\",\"once\",\"one\",\"ones\",\"only\",\"onto\",\"or\",\"other\",\"others\",\"otherwise\",\"ought\",\"our\",\"ours\",\"ourselves\",\"out\",\"outside\",\"over\",\"overall\",\"own\",\"p\",\"particular\",\"particularly\",\"per\",\"perhaps\",\"placed\",\"please\",\"plus\",\"possible\",\"presumably\",\"probably\",\"provides\",\"q\",\"que\",\"quite\",\"qv\",\"r\",\"rather\",\"rd\",\"re\",\"really\",\"reasonably\",\"regarding\",\"regardless\",\"regards\",\"relatively\",\"respectively\",\"right\",\"s\",\"said\",\"same\",\"saw\",\"say\",\"saying\",\"says\",\"second\",\"secondly\",\"see\",\"seeing\",\"seem\",\"seemed\",\"seeming\",\"seems\",\"seen\",\"self\",\"selves\",\"sensible\",\"sent\",\"serious\",\"seriously\",\"seven\",\"several\",\"shall\",\"she\",\"should\",\"shouldn't\",\"since\",\"six\",\"so\",\"some\",\"somebody\",\"somehow\",\"someone\",\"something\",\"sometime\",\"sometimes\",\"somewhat\",\"somewhere\",\"soon\",\"sorry\",\"specified\",\"specify\",\"specifying\",\"still\",\"sub\",\"such\",\"sup\",\"sure\",\"t\",\"t's\",\"take\",\"taken\",\"tell\",\"tends\",\"th\",\"than\",\"thank\",\"thanks\",\"thanx\",\"that\",\"that's\",\"thats\",\"the\",\"their\",\"theirs\",\"them\",\"themselves\",\"then\",\"thence\",\"there\",\"there's\",\"thereafter\",\"thereby\",\"therefore\",\"therein\",\"theres\",\"thereupon\",\"these\",\"they\",\"they'd\",\"they'll\",\"they're\",\"they've\",\"think\",\"third\",\"this\",\"thorough\",\"thoroughly\",\"those\",\"though\",\"three\",\"through\",\"throughout\",\"thru\",\"thus\",\"to\",\"together\",\"too\",\"took\",\"toward\",\"towards\",\"tried\",\"tries\",\"truly\",\"try\",\"trying\",\"twice\",\"two\",\"u\",\"un\",\"under\",\"unfortunately\",\"unless\",\"unlikely\",\"until\",\"unto\",\"up\",\"upon\",\"us\",\"use\",\"used\",\"useful\",\"uses\",\"using\",\"usually\",\"uucp\",\"v\",\"value\",\"various\",\"very\",\"via\",\"viz\",\"vs\",\"w\",\"want\",\"wants\",\"was\",\"wasn't\",\"way\",\"we\",\"we'd\",\"we'll\",\"we're\",\"we've\",\"welcome\",\"well\",\"went\",\"were\",\"weren't\",\"what\",\"what's\",\"whatever\",\"when\",\"whence\",\"whenever\",\"where\",\"where's\",\"whereafter\",\"whereas\",\"whereby\",\"wherein\",\"whereupon\",\"wherever\",\"whether\",\"which\",\"while\",\"whither\",\"who\",\"who's\",\"whoever\",\"whole\",\"whom\",\"whose\",\"why\",\"will\",\"willing\",\"wish\",\"with\",\"within\",\"without\",\"won't\",\"wonder\",\"would\",\"wouldn't\",\"x\",\"y\",\"yes\",\"yet\",\"you\",\"you'd\",\"you'll\",\"you're\",\"you've\",\"your\",\"yours\",\"yourself\",\"yourselves\",\"z\",\"zero\"]}\n",
        "stopwords_json_en = set(stopwords_json['en'])\n",
        "stopwords_nltk_en = set(stopwords_en)\n",
        "\n",
        "stopwords_punct = set(punctuation)\n",
        "stoplist=set.union(stopwords_nltk_en,stopwords_punct,stopwords_json_en)\n",
        "\n",
        "print([word for word in sentence_lowered_tokenized if word not in stoplist])"
      ],
      "id": "electronic-samoa",
      "execution_count": null,
      "outputs": [
        {
          "output_type": "stream",
          "text": [
            "From string.punctuation: !\"#$%&'()*+,-./:;<=>?@[\\]^_`{|}~\n",
            "['amiable', '43', 'y.o', 'gentleman', 'european', 'background', '170', 'cm', 'medium', 'build', 'employed', 'married', 'children', 'enjoys', 'sports', 'music', 'cafes', 'beach', 'c.', 'seeks', 'honest', 'attractive', 'lady', 'european', 'background', 'children', 'married', 'chil', 'dren', 'future', '29-39', 'y.o', 'prefer', 'non-smoker', 'living', 'adelaide']\n"
          ],
          "name": "stdout"
        }
      ]
    },
    {
      "cell_type": "code",
      "metadata": {
        "execution": {
          "iopub.execute_input": "2021-06-17T13:07:47.334545Z",
          "iopub.status.busy": "2021-06-17T13:07:47.333850Z",
          "iopub.status.idle": "2021-06-17T13:07:47.337852Z",
          "shell.execute_reply": "2021-06-17T13:07:47.337212Z",
          "shell.execute_reply.started": "2021-06-17T12:55:14.814040Z"
        },
        "papermill": {
          "duration": 0.113555,
          "end_time": "2021-06-17T13:07:47.337992",
          "exception": false,
          "start_time": "2021-06-17T13:07:47.224437",
          "status": "completed"
        },
        "tags": [],
        "id": "boxed-carol",
        "outputId": "a5e5cfda-e365-463e-a8da-f03ce81936bc"
      },
      "source": [
        "stoplist"
      ],
      "id": "boxed-carol",
      "execution_count": null,
      "outputs": [
        {
          "output_type": "execute_result",
          "data": {
            "text/plain": [
              "{'!',\n",
              " '\"',\n",
              " '#',\n",
              " '$',\n",
              " '%',\n",
              " '&',\n",
              " \"'\",\n",
              " '(',\n",
              " ')',\n",
              " '*',\n",
              " '+',\n",
              " ',',\n",
              " '-',\n",
              " '.',\n",
              " '/',\n",
              " ':',\n",
              " ';',\n",
              " '<',\n",
              " '=',\n",
              " '>',\n",
              " '?',\n",
              " '@',\n",
              " '[',\n",
              " '\\\\',\n",
              " ']',\n",
              " '^',\n",
              " '_',\n",
              " '`',\n",
              " 'a',\n",
              " \"a's\",\n",
              " 'able',\n",
              " 'about',\n",
              " 'above',\n",
              " 'according',\n",
              " 'accordingly',\n",
              " 'across',\n",
              " 'actually',\n",
              " 'after',\n",
              " 'afterwards',\n",
              " 'again',\n",
              " 'against',\n",
              " 'ain',\n",
              " \"ain't\",\n",
              " 'all',\n",
              " 'allow',\n",
              " 'allows',\n",
              " 'almost',\n",
              " 'alone',\n",
              " 'along',\n",
              " 'already',\n",
              " 'also',\n",
              " 'although',\n",
              " 'always',\n",
              " 'am',\n",
              " 'among',\n",
              " 'amongst',\n",
              " 'an',\n",
              " 'and',\n",
              " 'another',\n",
              " 'any',\n",
              " 'anybody',\n",
              " 'anyhow',\n",
              " 'anyone',\n",
              " 'anything',\n",
              " 'anyway',\n",
              " 'anyways',\n",
              " 'anywhere',\n",
              " 'apart',\n",
              " 'appear',\n",
              " 'appreciate',\n",
              " 'appropriate',\n",
              " 'are',\n",
              " 'aren',\n",
              " \"aren't\",\n",
              " 'around',\n",
              " 'as',\n",
              " 'aside',\n",
              " 'ask',\n",
              " 'asking',\n",
              " 'associated',\n",
              " 'at',\n",
              " 'available',\n",
              " 'away',\n",
              " 'awfully',\n",
              " 'b',\n",
              " 'be',\n",
              " 'became',\n",
              " 'because',\n",
              " 'become',\n",
              " 'becomes',\n",
              " 'becoming',\n",
              " 'been',\n",
              " 'before',\n",
              " 'beforehand',\n",
              " 'behind',\n",
              " 'being',\n",
              " 'believe',\n",
              " 'below',\n",
              " 'beside',\n",
              " 'besides',\n",
              " 'best',\n",
              " 'better',\n",
              " 'between',\n",
              " 'beyond',\n",
              " 'both',\n",
              " 'brief',\n",
              " 'but',\n",
              " 'by',\n",
              " 'c',\n",
              " \"c'mon\",\n",
              " \"c's\",\n",
              " 'came',\n",
              " 'can',\n",
              " \"can't\",\n",
              " 'cannot',\n",
              " 'cant',\n",
              " 'cause',\n",
              " 'causes',\n",
              " 'certain',\n",
              " 'certainly',\n",
              " 'changes',\n",
              " 'clearly',\n",
              " 'co',\n",
              " 'com',\n",
              " 'come',\n",
              " 'comes',\n",
              " 'concerning',\n",
              " 'consequently',\n",
              " 'consider',\n",
              " 'considering',\n",
              " 'contain',\n",
              " 'containing',\n",
              " 'contains',\n",
              " 'corresponding',\n",
              " 'could',\n",
              " 'couldn',\n",
              " \"couldn't\",\n",
              " 'course',\n",
              " 'currently',\n",
              " 'd',\n",
              " 'definitely',\n",
              " 'described',\n",
              " 'despite',\n",
              " 'did',\n",
              " 'didn',\n",
              " \"didn't\",\n",
              " 'different',\n",
              " 'do',\n",
              " 'does',\n",
              " 'doesn',\n",
              " \"doesn't\",\n",
              " 'doing',\n",
              " 'don',\n",
              " \"don't\",\n",
              " 'done',\n",
              " 'down',\n",
              " 'downwards',\n",
              " 'during',\n",
              " 'e',\n",
              " 'each',\n",
              " 'edu',\n",
              " 'eg',\n",
              " 'eight',\n",
              " 'either',\n",
              " 'else',\n",
              " 'elsewhere',\n",
              " 'enough',\n",
              " 'entirely',\n",
              " 'especially',\n",
              " 'et',\n",
              " 'etc',\n",
              " 'even',\n",
              " 'ever',\n",
              " 'every',\n",
              " 'everybody',\n",
              " 'everyone',\n",
              " 'everything',\n",
              " 'everywhere',\n",
              " 'ex',\n",
              " 'exactly',\n",
              " 'example',\n",
              " 'except',\n",
              " 'f',\n",
              " 'far',\n",
              " 'few',\n",
              " 'fifth',\n",
              " 'first',\n",
              " 'five',\n",
              " 'followed',\n",
              " 'following',\n",
              " 'follows',\n",
              " 'for',\n",
              " 'former',\n",
              " 'formerly',\n",
              " 'forth',\n",
              " 'four',\n",
              " 'from',\n",
              " 'further',\n",
              " 'furthermore',\n",
              " 'g',\n",
              " 'get',\n",
              " 'gets',\n",
              " 'getting',\n",
              " 'given',\n",
              " 'gives',\n",
              " 'go',\n",
              " 'goes',\n",
              " 'going',\n",
              " 'gone',\n",
              " 'got',\n",
              " 'gotten',\n",
              " 'greetings',\n",
              " 'h',\n",
              " 'had',\n",
              " 'hadn',\n",
              " \"hadn't\",\n",
              " 'happens',\n",
              " 'hardly',\n",
              " 'has',\n",
              " 'hasn',\n",
              " \"hasn't\",\n",
              " 'have',\n",
              " 'haven',\n",
              " \"haven't\",\n",
              " 'having',\n",
              " 'he',\n",
              " \"he's\",\n",
              " 'hello',\n",
              " 'help',\n",
              " 'hence',\n",
              " 'her',\n",
              " 'here',\n",
              " \"here's\",\n",
              " 'hereafter',\n",
              " 'hereby',\n",
              " 'herein',\n",
              " 'hereupon',\n",
              " 'hers',\n",
              " 'herself',\n",
              " 'hi',\n",
              " 'him',\n",
              " 'himself',\n",
              " 'his',\n",
              " 'hither',\n",
              " 'hopefully',\n",
              " 'how',\n",
              " 'howbeit',\n",
              " 'however',\n",
              " 'i',\n",
              " \"i'd\",\n",
              " \"i'll\",\n",
              " \"i'm\",\n",
              " \"i've\",\n",
              " 'ie',\n",
              " 'if',\n",
              " 'ignored',\n",
              " 'immediate',\n",
              " 'in',\n",
              " 'inasmuch',\n",
              " 'inc',\n",
              " 'indeed',\n",
              " 'indicate',\n",
              " 'indicated',\n",
              " 'indicates',\n",
              " 'inner',\n",
              " 'insofar',\n",
              " 'instead',\n",
              " 'into',\n",
              " 'inward',\n",
              " 'is',\n",
              " 'isn',\n",
              " \"isn't\",\n",
              " 'it',\n",
              " \"it'd\",\n",
              " \"it'll\",\n",
              " \"it's\",\n",
              " 'its',\n",
              " 'itself',\n",
              " 'j',\n",
              " 'just',\n",
              " 'k',\n",
              " 'keep',\n",
              " 'keeps',\n",
              " 'kept',\n",
              " 'know',\n",
              " 'known',\n",
              " 'knows',\n",
              " 'l',\n",
              " 'last',\n",
              " 'lately',\n",
              " 'later',\n",
              " 'latter',\n",
              " 'latterly',\n",
              " 'least',\n",
              " 'less',\n",
              " 'lest',\n",
              " 'let',\n",
              " \"let's\",\n",
              " 'like',\n",
              " 'liked',\n",
              " 'likely',\n",
              " 'little',\n",
              " 'll',\n",
              " 'look',\n",
              " 'looking',\n",
              " 'looks',\n",
              " 'ltd',\n",
              " 'm',\n",
              " 'ma',\n",
              " 'mainly',\n",
              " 'many',\n",
              " 'may',\n",
              " 'maybe',\n",
              " 'me',\n",
              " 'mean',\n",
              " 'meanwhile',\n",
              " 'merely',\n",
              " 'might',\n",
              " 'mightn',\n",
              " \"mightn't\",\n",
              " 'more',\n",
              " 'moreover',\n",
              " 'most',\n",
              " 'mostly',\n",
              " 'much',\n",
              " 'must',\n",
              " 'mustn',\n",
              " \"mustn't\",\n",
              " 'my',\n",
              " 'myself',\n",
              " 'n',\n",
              " 'name',\n",
              " 'namely',\n",
              " 'nd',\n",
              " 'near',\n",
              " 'nearly',\n",
              " 'necessary',\n",
              " 'need',\n",
              " 'needn',\n",
              " \"needn't\",\n",
              " 'needs',\n",
              " 'neither',\n",
              " 'never',\n",
              " 'nevertheless',\n",
              " 'new',\n",
              " 'next',\n",
              " 'nine',\n",
              " 'no',\n",
              " 'nobody',\n",
              " 'non',\n",
              " 'none',\n",
              " 'noone',\n",
              " 'nor',\n",
              " 'normally',\n",
              " 'not',\n",
              " 'nothing',\n",
              " 'novel',\n",
              " 'now',\n",
              " 'nowhere',\n",
              " 'o',\n",
              " 'obviously',\n",
              " 'of',\n",
              " 'off',\n",
              " 'often',\n",
              " 'oh',\n",
              " 'ok',\n",
              " 'okay',\n",
              " 'old',\n",
              " 'on',\n",
              " 'once',\n",
              " 'one',\n",
              " 'ones',\n",
              " 'only',\n",
              " 'onto',\n",
              " 'or',\n",
              " 'other',\n",
              " 'others',\n",
              " 'otherwise',\n",
              " 'ought',\n",
              " 'our',\n",
              " 'ours',\n",
              " 'ourselves',\n",
              " 'out',\n",
              " 'outside',\n",
              " 'over',\n",
              " 'overall',\n",
              " 'own',\n",
              " 'p',\n",
              " 'particular',\n",
              " 'particularly',\n",
              " 'per',\n",
              " 'perhaps',\n",
              " 'placed',\n",
              " 'please',\n",
              " 'plus',\n",
              " 'possible',\n",
              " 'presumably',\n",
              " 'probably',\n",
              " 'provides',\n",
              " 'q',\n",
              " 'que',\n",
              " 'quite',\n",
              " 'qv',\n",
              " 'r',\n",
              " 'rather',\n",
              " 'rd',\n",
              " 're',\n",
              " 'really',\n",
              " 'reasonably',\n",
              " 'regarding',\n",
              " 'regardless',\n",
              " 'regards',\n",
              " 'relatively',\n",
              " 'respectively',\n",
              " 'right',\n",
              " 's',\n",
              " 'said',\n",
              " 'same',\n",
              " 'saw',\n",
              " 'say',\n",
              " 'saying',\n",
              " 'says',\n",
              " 'second',\n",
              " 'secondly',\n",
              " 'see',\n",
              " 'seeing',\n",
              " 'seem',\n",
              " 'seemed',\n",
              " 'seeming',\n",
              " 'seems',\n",
              " 'seen',\n",
              " 'self',\n",
              " 'selves',\n",
              " 'sensible',\n",
              " 'sent',\n",
              " 'serious',\n",
              " 'seriously',\n",
              " 'seven',\n",
              " 'several',\n",
              " 'shall',\n",
              " 'shan',\n",
              " \"shan't\",\n",
              " 'she',\n",
              " \"she's\",\n",
              " 'should',\n",
              " \"should've\",\n",
              " 'shouldn',\n",
              " \"shouldn't\",\n",
              " 'since',\n",
              " 'six',\n",
              " 'so',\n",
              " 'some',\n",
              " 'somebody',\n",
              " 'somehow',\n",
              " 'someone',\n",
              " 'something',\n",
              " 'sometime',\n",
              " 'sometimes',\n",
              " 'somewhat',\n",
              " 'somewhere',\n",
              " 'soon',\n",
              " 'sorry',\n",
              " 'specified',\n",
              " 'specify',\n",
              " 'specifying',\n",
              " 'still',\n",
              " 'sub',\n",
              " 'such',\n",
              " 'sup',\n",
              " 'sure',\n",
              " 't',\n",
              " \"t's\",\n",
              " 'take',\n",
              " 'taken',\n",
              " 'tell',\n",
              " 'tends',\n",
              " 'th',\n",
              " 'than',\n",
              " 'thank',\n",
              " 'thanks',\n",
              " 'thanx',\n",
              " 'that',\n",
              " \"that'll\",\n",
              " \"that's\",\n",
              " 'thats',\n",
              " 'the',\n",
              " 'their',\n",
              " 'theirs',\n",
              " 'them',\n",
              " 'themselves',\n",
              " 'then',\n",
              " 'thence',\n",
              " 'there',\n",
              " \"there's\",\n",
              " 'thereafter',\n",
              " 'thereby',\n",
              " 'therefore',\n",
              " 'therein',\n",
              " 'theres',\n",
              " 'thereupon',\n",
              " 'these',\n",
              " 'they',\n",
              " \"they'd\",\n",
              " \"they'll\",\n",
              " \"they're\",\n",
              " \"they've\",\n",
              " 'think',\n",
              " 'third',\n",
              " 'this',\n",
              " 'thorough',\n",
              " 'thoroughly',\n",
              " 'those',\n",
              " 'though',\n",
              " 'three',\n",
              " 'through',\n",
              " 'throughout',\n",
              " 'thru',\n",
              " 'thus',\n",
              " 'to',\n",
              " 'together',\n",
              " 'too',\n",
              " 'took',\n",
              " 'toward',\n",
              " 'towards',\n",
              " 'tried',\n",
              " 'tries',\n",
              " 'truly',\n",
              " 'try',\n",
              " 'trying',\n",
              " 'twice',\n",
              " 'two',\n",
              " 'u',\n",
              " 'un',\n",
              " 'under',\n",
              " 'unfortunately',\n",
              " 'unless',\n",
              " 'unlikely',\n",
              " 'until',\n",
              " 'unto',\n",
              " 'up',\n",
              " 'upon',\n",
              " 'us',\n",
              " 'use',\n",
              " 'used',\n",
              " 'useful',\n",
              " 'uses',\n",
              " 'using',\n",
              " 'usually',\n",
              " 'uucp',\n",
              " 'v',\n",
              " 'value',\n",
              " 'various',\n",
              " 've',\n",
              " 'very',\n",
              " 'via',\n",
              " 'viz',\n",
              " 'vs',\n",
              " 'w',\n",
              " 'want',\n",
              " 'wants',\n",
              " 'was',\n",
              " 'wasn',\n",
              " \"wasn't\",\n",
              " 'way',\n",
              " 'we',\n",
              " \"we'd\",\n",
              " \"we'll\",\n",
              " \"we're\",\n",
              " \"we've\",\n",
              " 'welcome',\n",
              " 'well',\n",
              " 'went',\n",
              " 'were',\n",
              " 'weren',\n",
              " \"weren't\",\n",
              " 'what',\n",
              " \"what's\",\n",
              " 'whatever',\n",
              " 'when',\n",
              " 'whence',\n",
              " 'whenever',\n",
              " 'where',\n",
              " \"where's\",\n",
              " 'whereafter',\n",
              " 'whereas',\n",
              " 'whereby',\n",
              " 'wherein',\n",
              " 'whereupon',\n",
              " 'wherever',\n",
              " 'whether',\n",
              " 'which',\n",
              " 'while',\n",
              " 'whither',\n",
              " 'who',\n",
              " \"who's\",\n",
              " 'whoever',\n",
              " 'whole',\n",
              " 'whom',\n",
              " 'whose',\n",
              " 'why',\n",
              " 'will',\n",
              " 'willing',\n",
              " 'wish',\n",
              " 'with',\n",
              " 'within',\n",
              " 'without',\n",
              " 'won',\n",
              " \"won't\",\n",
              " 'wonder',\n",
              " 'would',\n",
              " 'wouldn',\n",
              " \"wouldn't\",\n",
              " 'x',\n",
              " 'y',\n",
              " 'yes',\n",
              " 'yet',\n",
              " 'you',\n",
              " \"you'd\",\n",
              " \"you'll\",\n",
              " \"you're\",\n",
              " \"you've\",\n",
              " 'your',\n",
              " 'yours',\n",
              " 'yourself',\n",
              " 'yourselves',\n",
              " 'z',\n",
              " 'zero',\n",
              " '{',\n",
              " '|',\n",
              " '}',\n",
              " '~'}"
            ]
          },
          "metadata": {
            "tags": []
          },
          "execution_count": 33
        }
      ]
    },
    {
      "cell_type": "markdown",
      "metadata": {
        "papermill": {
          "duration": 0.093803,
          "end_time": "2021-06-17T13:07:47.525909",
          "exception": false,
          "start_time": "2021-06-17T13:07:47.432106",
          "status": "completed"
        },
        "tags": [],
        "id": "professional-pavilion"
      },
      "source": [
        "# Stemming and Lemmatization"
      ],
      "id": "professional-pavilion"
    },
    {
      "cell_type": "code",
      "metadata": {
        "execution": {
          "iopub.execute_input": "2021-06-17T13:07:47.718134Z",
          "iopub.status.busy": "2021-06-17T13:07:47.717433Z",
          "iopub.status.idle": "2021-06-17T13:07:47.723235Z",
          "shell.execute_reply": "2021-06-17T13:07:47.723962Z",
          "shell.execute_reply.started": "2021-06-17T12:55:14.841083Z"
        },
        "papermill": {
          "duration": 0.102689,
          "end_time": "2021-06-17T13:07:47.724216",
          "exception": false,
          "start_time": "2021-06-17T13:07:47.621527",
          "status": "completed"
        },
        "tags": [],
        "id": "equipped-idaho",
        "outputId": "74a4d279-4892-409f-ff78-be8cabe0e034"
      },
      "source": [
        "from nltk.stem import PorterStemmer\n",
        "stemmer=PorterStemmer()\n",
        "print([stemmer.stem(word) for word in ['go','going','gone','went']])"
      ],
      "id": "equipped-idaho",
      "execution_count": null,
      "outputs": [
        {
          "output_type": "stream",
          "text": [
            "['go', 'go', 'gone', 'went']\n"
          ],
          "name": "stdout"
        }
      ]
    },
    {
      "cell_type": "code",
      "metadata": {
        "execution": {
          "iopub.execute_input": "2021-06-17T13:07:47.919463Z",
          "iopub.status.busy": "2021-06-17T13:07:47.918605Z",
          "iopub.status.idle": "2021-06-17T13:07:50.006685Z",
          "shell.execute_reply": "2021-06-17T13:07:50.006014Z",
          "shell.execute_reply.started": "2021-06-17T12:55:14.853924Z"
        },
        "papermill": {
          "duration": 2.186361,
          "end_time": "2021-06-17T13:07:50.006853",
          "exception": false,
          "start_time": "2021-06-17T13:07:47.820492",
          "status": "completed"
        },
        "tags": [],
        "id": "vocal-jungle",
        "outputId": "27be416c-244e-43f7-e778-b0204dc07148"
      },
      "source": [
        "from nltk.stem import WordNetLemmatizer\n",
        "lemmatizer=WordNetLemmatizer()\n",
        "print([lemmatizer.lemmatize(word) for word in ['go','going','gone','went']])"
      ],
      "id": "vocal-jungle",
      "execution_count": null,
      "outputs": [
        {
          "output_type": "stream",
          "text": [
            "['go', 'going', 'gone', 'went']\n"
          ],
          "name": "stdout"
        }
      ]
    },
    {
      "cell_type": "markdown",
      "metadata": {
        "papermill": {
          "duration": 0.095657,
          "end_time": "2021-06-17T13:07:50.197919",
          "exception": false,
          "start_time": "2021-06-17T13:07:50.102262",
          "status": "completed"
        },
        "tags": [],
        "id": "introductory-medicine"
      },
      "source": [
        "# nltk.pos_tag"
      ],
      "id": "introductory-medicine"
    },
    {
      "cell_type": "markdown",
      "metadata": {
        "papermill": {
          "duration": 0.095373,
          "end_time": "2021-06-17T13:07:50.390032",
          "exception": false,
          "start_time": "2021-06-17T13:07:50.294659",
          "status": "completed"
        },
        "tags": [],
        "id": "meaningful-accounting"
      },
      "source": [
        "By default, the WordNetLemmatizer.lemmatize() function will assume that the word is a Noun if there's no explict POS tag in the input.\n",
        "IF so it won't give us what we want\n",
        "so we need to"
      ],
      "id": "meaningful-accounting"
    },
    {
      "cell_type": "code",
      "metadata": {
        "execution": {
          "iopub.execute_input": "2021-06-17T13:07:50.588724Z",
          "iopub.status.busy": "2021-06-17T13:07:50.587771Z",
          "iopub.status.idle": "2021-06-17T13:07:50.748529Z",
          "shell.execute_reply": "2021-06-17T13:07:50.747718Z",
          "shell.execute_reply.started": "2021-06-17T12:55:14.865665Z"
        },
        "papermill": {
          "duration": 0.263318,
          "end_time": "2021-06-17T13:07:50.748710",
          "exception": false,
          "start_time": "2021-06-17T13:07:50.485392",
          "status": "completed"
        },
        "tags": [],
        "id": "medium-translator",
        "outputId": "5b02f600-3240-47cf-bf64-e635e9bad1b9"
      },
      "source": [
        "from nltk.corpus import wordnet\n",
        "sentence= \"Yesterday I went to school by foot\"\n",
        "sentence1= \"went go gone going\"\n",
        "nltk_tagged = nltk.pos_tag(nltk.word_tokenize(sentence1)) #returns a tuple of (word, tg)\n",
        "\n",
        "nltk_tagged # tg is ntlk_tag"
      ],
      "id": "medium-translator",
      "execution_count": null,
      "outputs": [
        {
          "output_type": "execute_result",
          "data": {
            "text/plain": [
              "[('went', 'VBD'), ('go', 'VB'), ('gone', 'VBN'), ('going', 'VBG')]"
            ]
          },
          "metadata": {
            "tags": []
          },
          "execution_count": 36
        }
      ]
    },
    {
      "cell_type": "code",
      "metadata": {
        "execution": {
          "iopub.execute_input": "2021-06-17T13:07:50.957672Z",
          "iopub.status.busy": "2021-06-17T13:07:50.956791Z",
          "iopub.status.idle": "2021-06-17T13:07:50.960500Z",
          "shell.execute_reply": "2021-06-17T13:07:50.960973Z",
          "shell.execute_reply.started": "2021-06-17T12:55:14.879057Z"
        },
        "papermill": {
          "duration": 0.115435,
          "end_time": "2021-06-17T13:07:50.961169",
          "exception": false,
          "start_time": "2021-06-17T13:07:50.845734",
          "status": "completed"
        },
        "tags": [],
        "id": "sustained-tolerance",
        "outputId": "c031a641-b0e5-4b6f-d1b3-6140ee15e11e"
      },
      "source": [
        "def penn2morphy(penntag):\n",
        "    \"\"\" Converts Penn Treebank tags to WordNet. \"\"\"\n",
        "    morphy_tag = {'NN':'n', 'JJ':'a',\n",
        "                  'VB':'v', 'RB':'r'}\n",
        "    try:\n",
        "        return morphy_tag[penntag[:2]]\n",
        "    except:\n",
        "        return 'n' # if mapping isn't found, fall back to Noun.\n",
        "\n",
        "    \n",
        "[lemmatizer.lemmatize(word.lower(), pos=penn2morphy(tag)) for word, tag in nltk_tagged]"
      ],
      "id": "sustained-tolerance",
      "execution_count": null,
      "outputs": [
        {
          "output_type": "execute_result",
          "data": {
            "text/plain": [
              "['go', 'go', 'go', 'go']"
            ]
          },
          "metadata": {
            "tags": []
          },
          "execution_count": 37
        }
      ]
    },
    {
      "cell_type": "markdown",
      "metadata": {
        "papermill": {
          "duration": 0.104294,
          "end_time": "2021-06-17T13:07:51.189365",
          "exception": false,
          "start_time": "2021-06-17T13:07:51.085071",
          "status": "completed"
        },
        "tags": [],
        "id": "certain-truth"
      },
      "source": [
        "# Un autre exemple"
      ],
      "id": "certain-truth"
    },
    {
      "cell_type": "code",
      "metadata": {
        "execution": {
          "iopub.execute_input": "2021-06-17T13:07:51.392662Z",
          "iopub.status.busy": "2021-06-17T13:07:51.391934Z",
          "iopub.status.idle": "2021-06-17T13:07:51.399588Z",
          "shell.execute_reply": "2021-06-17T13:07:51.400136Z",
          "shell.execute_reply.started": "2021-06-17T12:55:14.894188Z"
        },
        "papermill": {
          "duration": 0.110617,
          "end_time": "2021-06-17T13:07:51.400398",
          "exception": false,
          "start_time": "2021-06-17T13:07:51.289781",
          "status": "completed"
        },
        "tags": [],
        "id": "foreign-surrey",
        "outputId": "08e0bc5f-fa8a-4dd7-b159-c2e0e8ee727d"
      },
      "source": [
        "def lemmatize_sent(text): \n",
        "    # Text input is string, returns lowercased strings.\n",
        "    return [lemmatizer.lemmatize(word.lower(), pos=penn2morphy(tag)) \n",
        "            for word, tag in nltk.pos_tag(word_tokenize(text))]\n",
        "\n",
        "lemmatize_sent('I was going to tell you anyway')"
      ],
      "id": "foreign-surrey",
      "execution_count": null,
      "outputs": [
        {
          "output_type": "execute_result",
          "data": {
            "text/plain": [
              "['i', 'be', 'go', 'to', 'tell', 'you', 'anyway']"
            ]
          },
          "metadata": {
            "tags": []
          },
          "execution_count": 38
        }
      ]
    },
    {
      "cell_type": "markdown",
      "metadata": {
        "papermill": {
          "duration": 0.101737,
          "end_time": "2021-06-17T13:07:51.603394",
          "exception": false,
          "start_time": "2021-06-17T13:07:51.501657",
          "status": "completed"
        },
        "tags": [],
        "id": "abstract-progressive"
      },
      "source": [
        "# Let's do all of this to sentence single_no9"
      ],
      "id": "abstract-progressive"
    },
    {
      "cell_type": "code",
      "metadata": {
        "execution": {
          "iopub.execute_input": "2021-06-17T13:07:51.799793Z",
          "iopub.status.busy": "2021-06-17T13:07:51.799044Z",
          "iopub.status.idle": "2021-06-17T13:07:51.813549Z",
          "shell.execute_reply": "2021-06-17T13:07:51.812928Z",
          "shell.execute_reply.started": "2021-06-17T12:55:14.907161Z"
        },
        "papermill": {
          "duration": 0.113358,
          "end_time": "2021-06-17T13:07:51.813698",
          "exception": false,
          "start_time": "2021-06-17T13:07:51.700340",
          "status": "completed"
        },
        "tags": [],
        "id": "gross-milwaukee",
        "outputId": "55aef7c1-cfb7-489c-85e2-7cd93452218d"
      },
      "source": [
        "def preprocessing(text):\n",
        "    stoplist_gen=set.union(stoplist,{'http'})\n",
        "    preproccessed_text=[word for word in lemmatize_sent(text) if word not in stoplist_gen]\n",
        "    for word in preproccessed_text:\n",
        "        if '//t.co/' in word:\n",
        "            preproccessed_text.remove(word)\n",
        "    return(preproccessed_text)\n",
        "    \n",
        "single_no9_preprocessed=preprocessing(single_no9)\n",
        "single_no9_preprocessed[0:5]"
      ],
      "id": "gross-milwaukee",
      "execution_count": null,
      "outputs": [
        {
          "output_type": "execute_result",
          "data": {
            "text/plain": [
              "['amiable', '43', 'y.o', 'gentleman', 'european']"
            ]
          },
          "metadata": {
            "tags": []
          },
          "execution_count": 39
        }
      ]
    },
    {
      "cell_type": "markdown",
      "metadata": {
        "papermill": {
          "duration": 0.100525,
          "end_time": "2021-06-17T13:07:52.012790",
          "exception": false,
          "start_time": "2021-06-17T13:07:51.912265",
          "status": "completed"
        },
        "tags": [],
        "id": "radio-relation"
      },
      "source": [
        "# CountVectorizer"
      ],
      "id": "radio-relation"
    },
    {
      "cell_type": "code",
      "metadata": {
        "execution": {
          "iopub.execute_input": "2021-06-17T13:07:52.216215Z",
          "iopub.status.busy": "2021-06-17T13:07:52.215381Z",
          "iopub.status.idle": "2021-06-17T13:07:52.239485Z",
          "shell.execute_reply": "2021-06-17T13:07:52.238773Z",
          "shell.execute_reply.started": "2021-06-17T12:55:14.927309Z"
        },
        "papermill": {
          "duration": 0.126382,
          "end_time": "2021-06-17T13:07:52.239651",
          "exception": false,
          "start_time": "2021-06-17T13:07:52.113269",
          "status": "completed"
        },
        "tags": [],
        "id": "hairy-balloon",
        "outputId": "7d99943e-0e6b-4fda-84ba-4909dacdd19e"
      },
      "source": [
        "from sklearn.feature_extraction.text import CountVectorizer\n",
        "import pandas as pd\n",
        "sent1 = \"The quick brown fox jumps over the lazy brown dog.\"\n",
        "sent2 = \"Mr brown jumps over the lazy fox.\"\n",
        "corpus=[sent1,sent2]\n",
        "print(corpus)\n",
        "vectorizer=CountVectorizer()\n",
        "doc_term_matrix=vectorizer.fit_transform(corpus)\n",
        "data=doc_term_matrix.toarray()\n",
        "print(vectorizer.get_feature_names())\n",
        "pd.DataFrame(data,columns=vectorizer.get_feature_names())\n",
        "\n"
      ],
      "id": "hairy-balloon",
      "execution_count": null,
      "outputs": [
        {
          "output_type": "stream",
          "text": [
            "['The quick brown fox jumps over the lazy brown dog.', 'Mr brown jumps over the lazy fox.']\n",
            "['brown', 'dog', 'fox', 'jumps', 'lazy', 'mr', 'over', 'quick', 'the']\n"
          ],
          "name": "stdout"
        },
        {
          "output_type": "execute_result",
          "data": {
            "text/html": [
              "<div>\n",
              "<style scoped>\n",
              "    .dataframe tbody tr th:only-of-type {\n",
              "        vertical-align: middle;\n",
              "    }\n",
              "\n",
              "    .dataframe tbody tr th {\n",
              "        vertical-align: top;\n",
              "    }\n",
              "\n",
              "    .dataframe thead th {\n",
              "        text-align: right;\n",
              "    }\n",
              "</style>\n",
              "<table border=\"1\" class=\"dataframe\">\n",
              "  <thead>\n",
              "    <tr style=\"text-align: right;\">\n",
              "      <th></th>\n",
              "      <th>brown</th>\n",
              "      <th>dog</th>\n",
              "      <th>fox</th>\n",
              "      <th>jumps</th>\n",
              "      <th>lazy</th>\n",
              "      <th>mr</th>\n",
              "      <th>over</th>\n",
              "      <th>quick</th>\n",
              "      <th>the</th>\n",
              "    </tr>\n",
              "  </thead>\n",
              "  <tbody>\n",
              "    <tr>\n",
              "      <th>0</th>\n",
              "      <td>2</td>\n",
              "      <td>1</td>\n",
              "      <td>1</td>\n",
              "      <td>1</td>\n",
              "      <td>1</td>\n",
              "      <td>0</td>\n",
              "      <td>1</td>\n",
              "      <td>1</td>\n",
              "      <td>2</td>\n",
              "    </tr>\n",
              "    <tr>\n",
              "      <th>1</th>\n",
              "      <td>1</td>\n",
              "      <td>0</td>\n",
              "      <td>1</td>\n",
              "      <td>1</td>\n",
              "      <td>1</td>\n",
              "      <td>1</td>\n",
              "      <td>1</td>\n",
              "      <td>0</td>\n",
              "      <td>1</td>\n",
              "    </tr>\n",
              "  </tbody>\n",
              "</table>\n",
              "</div>"
            ],
            "text/plain": [
              "   brown  dog  fox  jumps  lazy  mr  over  quick  the\n",
              "0      2    1    1      1     1   0     1      1    2\n",
              "1      1    0    1      1     1   1     1      0    1"
            ]
          },
          "metadata": {
            "tags": []
          },
          "execution_count": 40
        }
      ]
    },
    {
      "cell_type": "code",
      "metadata": {
        "execution": {
          "iopub.execute_input": "2021-06-17T13:07:52.442054Z",
          "iopub.status.busy": "2021-06-17T13:07:52.441069Z",
          "iopub.status.idle": "2021-06-17T13:07:52.446535Z",
          "shell.execute_reply": "2021-06-17T13:07:52.447109Z",
          "shell.execute_reply.started": "2021-06-17T12:55:14.953694Z"
        },
        "papermill": {
          "duration": 0.107757,
          "end_time": "2021-06-17T13:07:52.447306",
          "exception": false,
          "start_time": "2021-06-17T13:07:52.339549",
          "status": "completed"
        },
        "tags": [],
        "id": "addressed-status",
        "outputId": "97cacef1-4854-44a5-b638-3abeab67101c"
      },
      "source": [
        "doc_term_matrix.count_nonzero()"
      ],
      "id": "addressed-status",
      "execution_count": null,
      "outputs": [
        {
          "output_type": "execute_result",
          "data": {
            "text/plain": [
              "15"
            ]
          },
          "metadata": {
            "tags": []
          },
          "execution_count": 41
        }
      ]
    },
    {
      "cell_type": "code",
      "metadata": {
        "execution": {
          "iopub.execute_input": "2021-06-17T13:07:52.647564Z",
          "iopub.status.busy": "2021-06-17T13:07:52.646581Z",
          "iopub.status.idle": "2021-06-17T13:07:52.664699Z",
          "shell.execute_reply": "2021-06-17T13:07:52.663875Z",
          "shell.execute_reply.started": "2021-06-17T12:55:14.960589Z"
        },
        "papermill": {
          "duration": 0.11994,
          "end_time": "2021-06-17T13:07:52.664888",
          "exception": false,
          "start_time": "2021-06-17T13:07:52.544948",
          "status": "completed"
        },
        "tags": [],
        "id": "periodic-improvement",
        "outputId": "64c99709-7ad2-48ba-9f23-43ae01f7c9a7"
      },
      "source": [
        "from sklearn.feature_extraction.text import CountVectorizer\n",
        "import pandas as pd\n",
        "sent1 = \"The quick brown fox jumps over the lazy brown dog.\"\n",
        "sent2 = \"Mr brown jumps over the lazy fox.\"\n",
        "corpus=[sent1,sent2]\n",
        "print(corpus)\n",
        "vectorizer=CountVectorizer()\n",
        "doc_term_matrix=vectorizer.fit_transform(corpus)\n",
        "data=doc_term_matrix.toarray()\n",
        "print(vectorizer.get_feature_names())\n",
        "pd.DataFrame(data,columns=vectorizer.get_feature_names())\n",
        "\n"
      ],
      "id": "periodic-improvement",
      "execution_count": null,
      "outputs": [
        {
          "output_type": "stream",
          "text": [
            "['The quick brown fox jumps over the lazy brown dog.', 'Mr brown jumps over the lazy fox.']\n",
            "['brown', 'dog', 'fox', 'jumps', 'lazy', 'mr', 'over', 'quick', 'the']\n"
          ],
          "name": "stdout"
        },
        {
          "output_type": "execute_result",
          "data": {
            "text/html": [
              "<div>\n",
              "<style scoped>\n",
              "    .dataframe tbody tr th:only-of-type {\n",
              "        vertical-align: middle;\n",
              "    }\n",
              "\n",
              "    .dataframe tbody tr th {\n",
              "        vertical-align: top;\n",
              "    }\n",
              "\n",
              "    .dataframe thead th {\n",
              "        text-align: right;\n",
              "    }\n",
              "</style>\n",
              "<table border=\"1\" class=\"dataframe\">\n",
              "  <thead>\n",
              "    <tr style=\"text-align: right;\">\n",
              "      <th></th>\n",
              "      <th>brown</th>\n",
              "      <th>dog</th>\n",
              "      <th>fox</th>\n",
              "      <th>jumps</th>\n",
              "      <th>lazy</th>\n",
              "      <th>mr</th>\n",
              "      <th>over</th>\n",
              "      <th>quick</th>\n",
              "      <th>the</th>\n",
              "    </tr>\n",
              "  </thead>\n",
              "  <tbody>\n",
              "    <tr>\n",
              "      <th>0</th>\n",
              "      <td>2</td>\n",
              "      <td>1</td>\n",
              "      <td>1</td>\n",
              "      <td>1</td>\n",
              "      <td>1</td>\n",
              "      <td>0</td>\n",
              "      <td>1</td>\n",
              "      <td>1</td>\n",
              "      <td>2</td>\n",
              "    </tr>\n",
              "    <tr>\n",
              "      <th>1</th>\n",
              "      <td>1</td>\n",
              "      <td>0</td>\n",
              "      <td>1</td>\n",
              "      <td>1</td>\n",
              "      <td>1</td>\n",
              "      <td>1</td>\n",
              "      <td>1</td>\n",
              "      <td>0</td>\n",
              "      <td>1</td>\n",
              "    </tr>\n",
              "  </tbody>\n",
              "</table>\n",
              "</div>"
            ],
            "text/plain": [
              "   brown  dog  fox  jumps  lazy  mr  over  quick  the\n",
              "0      2    1    1      1     1   0     1      1    2\n",
              "1      1    0    1      1     1   1     1      0    1"
            ]
          },
          "metadata": {
            "tags": []
          },
          "execution_count": 42
        }
      ]
    },
    {
      "cell_type": "markdown",
      "metadata": {
        "papermill": {
          "duration": 0.097332,
          "end_time": "2021-06-17T13:07:52.859816",
          "exception": false,
          "start_time": "2021-06-17T13:07:52.762484",
          "status": "completed"
        },
        "tags": [],
        "id": "sacred-easter"
      },
      "source": [
        ""
      ],
      "id": "sacred-easter"
    },
    {
      "cell_type": "code",
      "metadata": {
        "execution": {
          "iopub.execute_input": "2021-06-17T13:07:53.071016Z",
          "iopub.status.busy": "2021-06-17T13:07:53.070126Z",
          "iopub.status.idle": "2021-06-17T13:07:53.073617Z",
          "shell.execute_reply": "2021-06-17T13:07:53.074112Z",
          "shell.execute_reply.started": "2021-06-17T12:55:14.980455Z"
        },
        "papermill": {
          "duration": 0.113115,
          "end_time": "2021-06-17T13:07:53.074308",
          "exception": false,
          "start_time": "2021-06-17T13:07:52.961193",
          "status": "completed"
        },
        "tags": [],
        "id": "conservative-hollywood",
        "outputId": "5d75c9fe-9feb-464f-aa18-d2ecc77d11c0"
      },
      "source": [
        "sparse_matrix=vectorizer.transform([sent1, sent2])\n",
        "\n",
        "sparse_matrix.toarray()"
      ],
      "id": "conservative-hollywood",
      "execution_count": null,
      "outputs": [
        {
          "output_type": "execute_result",
          "data": {
            "text/plain": [
              "array([[2, 1, 1, 1, 1, 0, 1, 1, 2],\n",
              "       [1, 0, 1, 1, 1, 1, 1, 0, 1]])"
            ]
          },
          "metadata": {
            "tags": []
          },
          "execution_count": 43
        }
      ]
    },
    {
      "cell_type": "markdown",
      "metadata": {
        "papermill": {
          "duration": 0.098146,
          "end_time": "2021-06-17T13:07:53.273038",
          "exception": false,
          "start_time": "2021-06-17T13:07:53.174892",
          "status": "completed"
        },
        "tags": [],
        "id": "widespread-angle"
      },
      "source": [
        "#  Preprocessing && Vectorizing a Dataset of Sentiment Analysis"
      ],
      "id": "widespread-angle"
    },
    {
      "cell_type": "markdown",
      "metadata": {
        "papermill": {
          "duration": 0.100533,
          "end_time": "2021-06-17T13:07:53.473947",
          "exception": false,
          "start_time": "2021-06-17T13:07:53.373414",
          "status": "completed"
        },
        "tags": [],
        "id": "marine-breach"
      },
      "source": [
        "Dataset : fichier train :\"training.json\"\n",
        "          fichier test  :\"develop.json\"\n",
        "Analyse-des-sentiments-des-Tweets en 3 classes : neg--> -1 pos-->1 neutre-->0"
      ],
      "id": "marine-breach"
    },
    {
      "cell_type": "code",
      "metadata": {
        "execution": {
          "iopub.execute_input": "2021-06-17T13:07:53.676620Z",
          "iopub.status.busy": "2021-06-17T13:07:53.675470Z",
          "iopub.status.idle": "2021-06-17T13:07:53.683063Z",
          "shell.execute_reply": "2021-06-17T13:07:53.682393Z",
          "shell.execute_reply.started": "2021-06-17T12:55:14.990339Z"
        },
        "papermill": {
          "duration": 0.109336,
          "end_time": "2021-06-17T13:07:53.683212",
          "exception": false,
          "start_time": "2021-06-17T13:07:53.573876",
          "status": "completed"
        },
        "tags": [],
        "id": "portuguese-daisy"
      },
      "source": [
        "def preprocess_file(filename):\n",
        "    tweets = []\n",
        "    labels = []\n",
        "    f = open(filename)\n",
        "    for line in f:\n",
        "        tweet_dict = json.loads(line)\n",
        "        #print(tweet_dict)\n",
        "        tweets.append(preprocessing(tweet_dict[\"text\"]))\n",
        "        labels.append(int(tweet_dict[\"label\"]))\n",
        "    return tweets,labels\n"
      ],
      "id": "portuguese-daisy",
      "execution_count": null,
      "outputs": []
    },
    {
      "cell_type": "code",
      "metadata": {
        "execution": {
          "iopub.execute_input": "2021-06-17T13:07:53.889959Z",
          "iopub.status.busy": "2021-06-17T13:07:53.889265Z",
          "iopub.status.idle": "2021-06-17T13:08:28.203621Z",
          "shell.execute_reply": "2021-06-17T13:08:28.204186Z",
          "shell.execute_reply.started": "2021-06-17T12:55:14.999252Z"
        },
        "papermill": {
          "duration": 34.419867,
          "end_time": "2021-06-17T13:08:28.204402",
          "exception": false,
          "start_time": "2021-06-17T13:07:53.784535",
          "status": "completed"
        },
        "tags": [],
        "id": "consistent-classification"
      },
      "source": [
        "import json\n",
        "train_data = preprocess_file('../input/dataset-analyse-des-sentiments/training.json')\n",
        "train_data=pd.DataFrame({\"tweets\":train_data[0],\"labels\":train_data[1]})"
      ],
      "id": "consistent-classification",
      "execution_count": null,
      "outputs": []
    },
    {
      "cell_type": "code",
      "metadata": {
        "execution": {
          "iopub.execute_input": "2021-06-17T13:08:28.403022Z",
          "iopub.status.busy": "2021-06-17T13:08:28.402409Z",
          "iopub.status.idle": "2021-06-17T13:08:32.169129Z",
          "shell.execute_reply": "2021-06-17T13:08:32.169649Z",
          "shell.execute_reply.started": "2021-06-17T12:55:47.198084Z"
        },
        "papermill": {
          "duration": 3.867632,
          "end_time": "2021-06-17T13:08:32.169854",
          "exception": false,
          "start_time": "2021-06-17T13:08:28.302222",
          "status": "completed"
        },
        "tags": [],
        "id": "bigger-richardson"
      },
      "source": [
        "test_data = preprocess_file('../input/dataset-analyse-des-sentiments/develop.json')\n",
        "test_data=pd.DataFrame({\"tweets\":test_data[0],\"labels\":test_data[1]})"
      ],
      "id": "bigger-richardson",
      "execution_count": null,
      "outputs": []
    },
    {
      "cell_type": "code",
      "metadata": {
        "execution": {
          "iopub.execute_input": "2021-06-17T13:08:32.370024Z",
          "iopub.status.busy": "2021-06-17T13:08:32.369371Z",
          "iopub.status.idle": "2021-06-17T13:08:32.381622Z",
          "shell.execute_reply": "2021-06-17T13:08:32.380936Z",
          "shell.execute_reply.started": "2021-06-17T12:55:50.721186Z"
        },
        "papermill": {
          "duration": 0.113422,
          "end_time": "2021-06-17T13:08:32.381771",
          "exception": false,
          "start_time": "2021-06-17T13:08:32.268349",
          "status": "completed"
        },
        "tags": [],
        "id": "major-combat",
        "outputId": "1efa51e4-98db-4959-a700-bb8655dbf0d6"
      },
      "source": [
        "train_data.head()"
      ],
      "id": "major-combat",
      "execution_count": null,
      "outputs": [
        {
          "output_type": "execute_result",
          "data": {
            "text/html": [
              "<div>\n",
              "<style scoped>\n",
              "    .dataframe tbody tr th:only-of-type {\n",
              "        vertical-align: middle;\n",
              "    }\n",
              "\n",
              "    .dataframe tbody tr th {\n",
              "        vertical-align: top;\n",
              "    }\n",
              "\n",
              "    .dataframe thead th {\n",
              "        text-align: right;\n",
              "    }\n",
              "</style>\n",
              "<table border=\"1\" class=\"dataframe\">\n",
              "  <thead>\n",
              "    <tr style=\"text-align: right;\">\n",
              "      <th></th>\n",
              "      <th>tweets</th>\n",
              "      <th>labels</th>\n",
              "    </tr>\n",
              "  </thead>\n",
              "  <tbody>\n",
              "    <tr>\n",
              "      <th>0</th>\n",
              "      <td>[dear, microsoft, newooffice, mac, great, lync...</td>\n",
              "      <td>-1</td>\n",
              "    </tr>\n",
              "    <tr>\n",
              "      <th>1</th>\n",
              "      <td>[microsoft, make, system, n't, eat, friggin, d...</td>\n",
              "      <td>-1</td>\n",
              "    </tr>\n",
              "    <tr>\n",
              "      <th>2</th>\n",
              "      <td>[make, game, windows10, universal, app, xboxon...</td>\n",
              "      <td>0</td>\n",
              "    </tr>\n",
              "    <tr>\n",
              "      <th>3</th>\n",
              "      <td>[microsoft, prefer, game, branch, business, ma...</td>\n",
              "      <td>1</td>\n",
              "    </tr>\n",
              "    <tr>\n",
              "      <th>4</th>\n",
              "      <td>[mikewolf1980, microsoft, downgrade, windows10...</td>\n",
              "      <td>-1</td>\n",
              "    </tr>\n",
              "  </tbody>\n",
              "</table>\n",
              "</div>"
            ],
            "text/plain": [
              "                                              tweets  labels\n",
              "0  [dear, microsoft, newooffice, mac, great, lync...      -1\n",
              "1  [microsoft, make, system, n't, eat, friggin, d...      -1\n",
              "2  [make, game, windows10, universal, app, xboxon...       0\n",
              "3  [microsoft, prefer, game, branch, business, ma...       1\n",
              "4  [mikewolf1980, microsoft, downgrade, windows10...      -1"
            ]
          },
          "metadata": {
            "tags": []
          },
          "execution_count": 47
        }
      ]
    },
    {
      "cell_type": "code",
      "metadata": {
        "execution": {
          "iopub.execute_input": "2021-06-17T13:08:32.590939Z",
          "iopub.status.busy": "2021-06-17T13:08:32.590229Z",
          "iopub.status.idle": "2021-06-17T13:08:32.593999Z",
          "shell.execute_reply": "2021-06-17T13:08:32.594554Z",
          "shell.execute_reply.started": "2021-06-17T12:55:50.736157Z"
        },
        "papermill": {
          "duration": 0.113682,
          "end_time": "2021-06-17T13:08:32.594775",
          "exception": false,
          "start_time": "2021-06-17T13:08:32.481093",
          "status": "completed"
        },
        "tags": [],
        "id": "premier-period",
        "outputId": "9ab5513e-2d15-40fd-cdfe-3ec1adb42ec6"
      },
      "source": [
        "train_data['tweets']\n"
      ],
      "id": "premier-period",
      "execution_count": null,
      "outputs": [
        {
          "output_type": "execute_result",
          "data": {
            "text/plain": [
              "0        [dear, microsoft, newooffice, mac, great, lync...\n",
              "1        [microsoft, make, system, n't, eat, friggin, d...\n",
              "2        [make, game, windows10, universal, app, xboxon...\n",
              "3        [microsoft, prefer, game, branch, business, ma...\n",
              "4        [mikewolf1980, microsoft, downgrade, windows10...\n",
              "                               ...                        \n",
              "16800    [web, youtube, improve, upload, process, optio...\n",
              "16801    [gon, na, change, tumblr, theme, hope, finish,...\n",
              "16802    ['m, jealous, justin, bieber, concert, worry, ...\n",
              "16803    [jim, harbaugh, alex, smith, drive, giant, wor...\n",
              "16804    [trending, tim, tebow, date, cave, woman, 10,0...\n",
              "Name: tweets, Length: 16805, dtype: object"
            ]
          },
          "metadata": {
            "tags": []
          },
          "execution_count": 48
        }
      ]
    },
    {
      "cell_type": "code",
      "metadata": {
        "execution": {
          "iopub.execute_input": "2021-06-17T13:08:32.797644Z",
          "iopub.status.busy": "2021-06-17T13:08:32.796625Z",
          "iopub.status.idle": "2021-06-17T13:08:32.809655Z",
          "shell.execute_reply": "2021-06-17T13:08:32.808985Z",
          "shell.execute_reply.started": "2021-06-17T12:55:50.754233Z"
        },
        "papermill": {
          "duration": 0.115808,
          "end_time": "2021-06-17T13:08:32.809810",
          "exception": false,
          "start_time": "2021-06-17T13:08:32.694002",
          "status": "completed"
        },
        "tags": [],
        "id": "funded-humanitarian",
        "outputId": "ada110e5-9264-4096-e4f7-3ae69feaf4f4"
      },
      "source": [
        "test_data.head()"
      ],
      "id": "funded-humanitarian",
      "execution_count": null,
      "outputs": [
        {
          "output_type": "execute_result",
          "data": {
            "text/html": [
              "<div>\n",
              "<style scoped>\n",
              "    .dataframe tbody tr th:only-of-type {\n",
              "        vertical-align: middle;\n",
              "    }\n",
              "\n",
              "    .dataframe tbody tr th {\n",
              "        vertical-align: top;\n",
              "    }\n",
              "\n",
              "    .dataframe thead th {\n",
              "        text-align: right;\n",
              "    }\n",
              "</style>\n",
              "<table border=\"1\" class=\"dataframe\">\n",
              "  <thead>\n",
              "    <tr style=\"text-align: right;\">\n",
              "      <th></th>\n",
              "      <th>tweets</th>\n",
              "      <th>labels</th>\n",
              "    </tr>\n",
              "  </thead>\n",
              "  <tbody>\n",
              "    <tr>\n",
              "      <th>0</th>\n",
              "      <td>[05, beat, michael, jackson, thriller, 25th, a...</td>\n",
              "      <td>0</td>\n",
              "    </tr>\n",
              "    <tr>\n",
              "      <th>1</th>\n",
              "      <td>[jay, join, instagram, nostalgic, tribute, mic...</td>\n",
              "      <td>1</td>\n",
              "    </tr>\n",
              "    <tr>\n",
              "      <th>2</th>\n",
              "      <td>[michael, jackson, bad, 25th, anniversary, edi...</td>\n",
              "      <td>0</td>\n",
              "    </tr>\n",
              "    <tr>\n",
              "      <th>3</th>\n",
              "      <td>[18th, anniv, princess, diana, 's, death, live...</td>\n",
              "      <td>1</td>\n",
              "    </tr>\n",
              "    <tr>\n",
              "      <th>4</th>\n",
              "      <td>[oridaganjazz, 1st, time, hear, michael, jacks...</td>\n",
              "      <td>1</td>\n",
              "    </tr>\n",
              "  </tbody>\n",
              "</table>\n",
              "</div>"
            ],
            "text/plain": [
              "                                              tweets  labels\n",
              "0  [05, beat, michael, jackson, thriller, 25th, a...       0\n",
              "1  [jay, join, instagram, nostalgic, tribute, mic...       1\n",
              "2  [michael, jackson, bad, 25th, anniversary, edi...       0\n",
              "3  [18th, anniv, princess, diana, 's, death, live...       1\n",
              "4  [oridaganjazz, 1st, time, hear, michael, jacks...       1"
            ]
          },
          "metadata": {
            "tags": []
          },
          "execution_count": 49
        }
      ]
    },
    {
      "cell_type": "code",
      "metadata": {
        "execution": {
          "iopub.execute_input": "2021-06-17T13:08:33.016969Z",
          "iopub.status.busy": "2021-06-17T13:08:33.016288Z",
          "iopub.status.idle": "2021-06-17T13:08:33.018878Z",
          "shell.execute_reply": "2021-06-17T13:08:33.019400Z",
          "shell.execute_reply.started": "2021-06-17T12:55:50.772415Z"
        },
        "papermill": {
          "duration": 0.109886,
          "end_time": "2021-06-17T13:08:33.019583",
          "exception": false,
          "start_time": "2021-06-17T13:08:32.909697",
          "status": "completed"
        },
        "tags": [],
        "id": "apparent-thompson",
        "outputId": "79d1657c-866c-42fb-d9d6-c35873e2ce65"
      },
      "source": [
        "train_data.iloc[16804,0]"
      ],
      "id": "apparent-thompson",
      "execution_count": null,
      "outputs": [
        {
          "output_type": "execute_result",
          "data": {
            "text/plain": [
              "['trending',\n",
              " 'tim',\n",
              " 'tebow',\n",
              " 'date',\n",
              " 'cave',\n",
              " 'woman',\n",
              " '10,000',\n",
              " 'bc',\n",
              " '1st',\n",
              " 'date',\n",
              " 'question',\n",
              " '``',\n",
              " 'time',\n",
              " 'jesus',\n",
              " \"''\",\n",
              " 'tebowmania']"
            ]
          },
          "metadata": {
            "tags": []
          },
          "execution_count": 50
        }
      ]
    },
    {
      "cell_type": "code",
      "metadata": {
        "execution": {
          "iopub.execute_input": "2021-06-17T13:08:33.222588Z",
          "iopub.status.busy": "2021-06-17T13:08:33.221877Z",
          "iopub.status.idle": "2021-06-17T13:08:33.228439Z",
          "shell.execute_reply": "2021-06-17T13:08:33.227888Z",
          "shell.execute_reply.started": "2021-06-17T12:55:50.784895Z"
        },
        "papermill": {
          "duration": 0.108609,
          "end_time": "2021-06-17T13:08:33.228584",
          "exception": false,
          "start_time": "2021-06-17T13:08:33.119975",
          "status": "completed"
        },
        "tags": [],
        "id": "convertible-count",
        "outputId": "0cb4c4d8-b03c-4f76-84df-9bb5819b9c16"
      },
      "source": [
        "train_data.iloc[0,0]"
      ],
      "id": "convertible-count",
      "execution_count": null,
      "outputs": [
        {
          "output_type": "execute_result",
          "data": {
            "text/plain": [
              "['dear', 'microsoft', 'newooffice', 'mac', 'great', 'lync', 'update']"
            ]
          },
          "metadata": {
            "tags": []
          },
          "execution_count": 51
        }
      ]
    },
    {
      "cell_type": "code",
      "metadata": {
        "execution": {
          "iopub.execute_input": "2021-06-17T13:08:33.435652Z",
          "iopub.status.busy": "2021-06-17T13:08:33.434927Z",
          "iopub.status.idle": "2021-06-17T13:08:33.437521Z",
          "shell.execute_reply": "2021-06-17T13:08:33.438035Z",
          "shell.execute_reply.started": "2021-06-17T12:55:50.798618Z"
        },
        "papermill": {
          "duration": 0.109049,
          "end_time": "2021-06-17T13:08:33.438204",
          "exception": false,
          "start_time": "2021-06-17T13:08:33.329155",
          "status": "completed"
        },
        "tags": [],
        "id": "expanded-ghana",
        "outputId": "59762177-eb9b-407b-dc96-2c9bc03868ad"
      },
      "source": [
        "train_data.iloc[12,0]"
      ],
      "id": "expanded-ghana",
      "execution_count": null,
      "outputs": [
        {
          "output_type": "execute_result",
          "data": {
            "text/plain": [
              "['innovation',\n",
              " 'job',\n",
              " 'corner',\n",
              " 'exact',\n",
              " 'wednesday',\n",
              " '8/19',\n",
              " 'microsoft',\n",
              " '//t.co/l2wozcwgrb']"
            ]
          },
          "metadata": {
            "tags": []
          },
          "execution_count": 52
        }
      ]
    },
    {
      "cell_type": "code",
      "metadata": {
        "execution": {
          "iopub.execute_input": "2021-06-17T13:08:33.643005Z",
          "iopub.status.busy": "2021-06-17T13:08:33.642238Z",
          "iopub.status.idle": "2021-06-17T13:08:33.647183Z",
          "shell.execute_reply": "2021-06-17T13:08:33.647812Z",
          "shell.execute_reply.started": "2021-06-17T12:55:50.810865Z"
        },
        "papermill": {
          "duration": 0.109935,
          "end_time": "2021-06-17T13:08:33.648019",
          "exception": false,
          "start_time": "2021-06-17T13:08:33.538084",
          "status": "completed"
        },
        "tags": [],
        "id": "professional-preview",
        "outputId": "31677534-b698-4436-cc57-a85388ff8975"
      },
      "source": [
        "train_data.iloc[93,0]"
      ],
      "id": "professional-preview",
      "execution_count": null,
      "outputs": [
        {
          "output_type": "execute_result",
          "data": {
            "text/plain": [
              "['shocking',\n",
              " 'moment',\n",
              " 'today',\n",
              " 'appleevent',\n",
              " 'microsoft',\n",
              " 'demo',\n",
              " 'ipadpro',\n",
              " '...',\n",
              " '..']"
            ]
          },
          "metadata": {
            "tags": []
          },
          "execution_count": 53
        }
      ]
    },
    {
      "cell_type": "code",
      "metadata": {
        "execution": {
          "iopub.execute_input": "2021-06-17T13:08:33.852959Z",
          "iopub.status.busy": "2021-06-17T13:08:33.852157Z",
          "iopub.status.idle": "2021-06-17T13:08:33.943455Z",
          "shell.execute_reply": "2021-06-17T13:08:33.942777Z",
          "shell.execute_reply.started": "2021-06-17T12:55:50.824313Z"
        },
        "papermill": {
          "duration": 0.194154,
          "end_time": "2021-06-17T13:08:33.943598",
          "exception": false,
          "start_time": "2021-06-17T13:08:33.749444",
          "status": "completed"
        },
        "tags": [],
        "id": "virgin-demand",
        "outputId": "addcb652-e73a-4715-b3b5-63836a10ecbd"
      },
      "source": [
        "from mpmath import mpf, mpc, mp\n",
        "mp.dps = 40\n",
        "0+mpf(2e-26)"
      ],
      "id": "virgin-demand",
      "execution_count": null,
      "outputs": [
        {
          "output_type": "execute_result",
          "data": {
            "text/plain": [
              "mpf('2.000000000000000076989739498383678162743979e-26')"
            ]
          },
          "metadata": {
            "tags": []
          },
          "execution_count": 54
        }
      ]
    },
    {
      "cell_type": "code",
      "metadata": {
        "execution": {
          "iopub.execute_input": "2021-06-17T13:08:34.155496Z",
          "iopub.status.busy": "2021-06-17T13:08:34.154742Z",
          "iopub.status.idle": "2021-06-17T13:08:34.463871Z",
          "shell.execute_reply": "2021-06-17T13:08:34.463262Z",
          "shell.execute_reply.started": "2021-06-17T12:55:50.836050Z"
        },
        "papermill": {
          "duration": 0.418512,
          "end_time": "2021-06-17T13:08:34.464015",
          "exception": false,
          "start_time": "2021-06-17T13:08:34.045503",
          "status": "completed"
        },
        "tags": [],
        "id": "affecting-certification",
        "outputId": "ca2008fc-c5ce-4f92-827d-e3cbc16e4991"
      },
      "source": [
        "from sklearn.feature_extraction.text import TfidfVectorizer\n",
        "\n",
        "\n",
        "def None_Function(doc):\n",
        "    return doc\n",
        "vectorizer = TfidfVectorizer(\n",
        "                             tokenizer=None_Function,\n",
        "                             preprocessor=None_Function,\n",
        "                             sublinear_tf = True,\n",
        "                             use_idf = True)\n",
        "train_vectors = vectorizer.fit_transform(train_data['tweets'])\n",
        "\n",
        "len(vectorizer.vocabulary_)\n"
      ],
      "id": "affecting-certification",
      "execution_count": null,
      "outputs": [
        {
          "output_type": "execute_result",
          "data": {
            "text/plain": [
              "29954"
            ]
          },
          "metadata": {
            "tags": []
          },
          "execution_count": 55
        }
      ]
    },
    {
      "cell_type": "code",
      "metadata": {
        "execution": {
          "iopub.execute_input": "2021-06-17T13:08:34.676427Z",
          "iopub.status.busy": "2021-06-17T13:08:34.675411Z",
          "iopub.status.idle": "2021-06-17T13:08:35.567228Z",
          "shell.execute_reply": "2021-06-17T13:08:35.566559Z",
          "shell.execute_reply.started": "2021-06-17T12:55:51.125442Z"
        },
        "papermill": {
          "duration": 1.001525,
          "end_time": "2021-06-17T13:08:35.567419",
          "exception": false,
          "start_time": "2021-06-17T13:08:34.565894",
          "status": "completed"
        },
        "tags": [],
        "id": "broken-saint",
        "outputId": "669b53ce-90e8-4795-cb17-ac465148a1a7"
      },
      "source": [
        "train_vectors.toarray()\n",
        "#pd.DataFrame(data,columns=vec.get_feature_names())"
      ],
      "id": "broken-saint",
      "execution_count": null,
      "outputs": [
        {
          "output_type": "execute_result",
          "data": {
            "text/plain": [
              "array([[0.        , 0.        , 0.        , ..., 0.        , 0.        ,\n",
              "        0.        ],\n",
              "       [0.        , 0.        , 0.        , ..., 0.        , 0.        ,\n",
              "        0.        ],\n",
              "       [0.        , 0.        , 0.        , ..., 0.        , 0.        ,\n",
              "        0.        ],\n",
              "       ...,\n",
              "       [0.        , 0.        , 0.        , ..., 0.        , 0.        ,\n",
              "        0.        ],\n",
              "       [0.        , 0.        , 0.        , ..., 0.        , 0.        ,\n",
              "        0.        ],\n",
              "       [0.13034518, 0.        , 0.        , ..., 0.        , 0.        ,\n",
              "        0.        ]])"
            ]
          },
          "metadata": {
            "tags": []
          },
          "execution_count": 56
        }
      ]
    },
    {
      "cell_type": "code",
      "metadata": {
        "execution": {
          "iopub.execute_input": "2021-06-17T13:08:35.777228Z",
          "iopub.status.busy": "2021-06-17T13:08:35.776509Z",
          "iopub.status.idle": "2021-06-17T13:08:35.785875Z",
          "shell.execute_reply": "2021-06-17T13:08:35.785263Z",
          "shell.execute_reply.started": "2021-06-17T12:55:51.936504Z"
        },
        "papermill": {
          "duration": 0.114832,
          "end_time": "2021-06-17T13:08:35.786024",
          "exception": false,
          "start_time": "2021-06-17T13:08:35.671192",
          "status": "completed"
        },
        "tags": [],
        "id": "gentle-stand",
        "outputId": "9eb3bd47-8f02-461f-c344-bd8c5546da0d"
      },
      "source": [
        "train_vectors.count_nonzero()"
      ],
      "id": "gentle-stand",
      "execution_count": null,
      "outputs": [
        {
          "output_type": "execute_result",
          "data": {
            "text/plain": [
              "176473"
            ]
          },
          "metadata": {
            "tags": []
          },
          "execution_count": 57
        }
      ]
    },
    {
      "cell_type": "code",
      "metadata": {
        "execution": {
          "iopub.execute_input": "2021-06-17T13:08:35.994876Z",
          "iopub.status.busy": "2021-06-17T13:08:35.994131Z",
          "iopub.status.idle": "2021-06-17T13:08:35.998435Z",
          "shell.execute_reply": "2021-06-17T13:08:35.997763Z",
          "shell.execute_reply.started": "2021-06-17T12:55:51.950317Z"
        },
        "papermill": {
          "duration": 0.110504,
          "end_time": "2021-06-17T13:08:35.998581",
          "exception": false,
          "start_time": "2021-06-17T13:08:35.888077",
          "status": "completed"
        },
        "tags": [],
        "id": "overall-jewel",
        "outputId": "977b94e5-833f-4221-ad76-02d1f47c756c"
      },
      "source": [
        "train_vectors.shape"
      ],
      "id": "overall-jewel",
      "execution_count": null,
      "outputs": [
        {
          "output_type": "execute_result",
          "data": {
            "text/plain": [
              "(16805, 29954)"
            ]
          },
          "metadata": {
            "tags": []
          },
          "execution_count": 58
        }
      ]
    },
    {
      "cell_type": "code",
      "metadata": {
        "execution": {
          "iopub.execute_input": "2021-06-17T13:08:36.231923Z",
          "iopub.status.busy": "2021-06-17T13:08:36.230851Z",
          "iopub.status.idle": "2021-06-17T13:08:36.321752Z",
          "shell.execute_reply": "2021-06-17T13:08:36.321212Z",
          "shell.execute_reply.started": "2021-06-17T12:55:51.960180Z"
        },
        "papermill": {
          "duration": 0.219016,
          "end_time": "2021-06-17T13:08:36.321900",
          "exception": false,
          "start_time": "2021-06-17T13:08:36.102884",
          "status": "completed"
        },
        "tags": [],
        "id": "electrical-ratio",
        "outputId": "8bf1ab9b-c872-4953-f2a5-a5ad29780d41"
      },
      "source": [
        "test_vectors = vectorizer.transform(test_data['tweets'])\n",
        "test_vectors.toarray()"
      ],
      "id": "electrical-ratio",
      "execution_count": null,
      "outputs": [
        {
          "output_type": "execute_result",
          "data": {
            "text/plain": [
              "array([[0., 0., 0., ..., 0., 0., 0.],\n",
              "       [0., 0., 0., ..., 0., 0., 0.],\n",
              "       [0., 0., 0., ..., 0., 0., 0.],\n",
              "       ...,\n",
              "       [0., 0., 0., ..., 0., 0., 0.],\n",
              "       [0., 0., 0., ..., 0., 0., 0.],\n",
              "       [0., 0., 0., ..., 0., 0., 0.]])"
            ]
          },
          "metadata": {
            "tags": []
          },
          "execution_count": 59
        }
      ]
    },
    {
      "cell_type": "code",
      "metadata": {
        "execution": {
          "iopub.execute_input": "2021-06-17T13:08:36.531695Z",
          "iopub.status.busy": "2021-06-17T13:08:36.530668Z",
          "iopub.status.idle": "2021-06-17T13:08:36.535499Z",
          "shell.execute_reply": "2021-06-17T13:08:36.535936Z",
          "shell.execute_reply.started": "2021-06-17T12:55:52.088142Z"
        },
        "papermill": {
          "duration": 0.111903,
          "end_time": "2021-06-17T13:08:36.536110",
          "exception": false,
          "start_time": "2021-06-17T13:08:36.424207",
          "status": "completed"
        },
        "tags": [],
        "id": "turned-cartoon",
        "outputId": "25eb8b5c-7846-48c2-c655-2d8cdb6f9a28"
      },
      "source": [
        "test_vectors.count_nonzero()"
      ],
      "id": "turned-cartoon",
      "execution_count": null,
      "outputs": [
        {
          "output_type": "execute_result",
          "data": {
            "text/plain": [
              "15870"
            ]
          },
          "metadata": {
            "tags": []
          },
          "execution_count": 60
        }
      ]
    },
    {
      "cell_type": "code",
      "metadata": {
        "execution": {
          "iopub.execute_input": "2021-06-17T13:08:36.747392Z",
          "iopub.status.busy": "2021-06-17T13:08:36.746678Z",
          "iopub.status.idle": "2021-06-17T13:08:36.749827Z",
          "shell.execute_reply": "2021-06-17T13:08:36.749234Z",
          "shell.execute_reply.started": "2021-06-17T12:55:52.098497Z"
        },
        "papermill": {
          "duration": 0.110604,
          "end_time": "2021-06-17T13:08:36.749966",
          "exception": false,
          "start_time": "2021-06-17T13:08:36.639362",
          "status": "completed"
        },
        "tags": [],
        "id": "round-wiring",
        "outputId": "e5a56e03-e417-456e-af23-a8888c6e85d5"
      },
      "source": [
        "test_vectors.shape"
      ],
      "id": "round-wiring",
      "execution_count": null,
      "outputs": [
        {
          "output_type": "execute_result",
          "data": {
            "text/plain": [
              "(1829, 29954)"
            ]
          },
          "metadata": {
            "tags": []
          },
          "execution_count": 61
        }
      ]
    },
    {
      "cell_type": "code",
      "metadata": {
        "execution": {
          "iopub.execute_input": "2021-06-17T13:08:36.960879Z",
          "iopub.status.busy": "2021-06-17T13:08:36.959833Z",
          "iopub.status.idle": "2021-06-17T13:08:36.964242Z",
          "shell.execute_reply": "2021-06-17T13:08:36.963718Z",
          "shell.execute_reply.started": "2021-06-17T12:55:52.109842Z"
        },
        "papermill": {
          "duration": 0.111794,
          "end_time": "2021-06-17T13:08:36.964430",
          "exception": false,
          "start_time": "2021-06-17T13:08:36.852636",
          "status": "completed"
        },
        "tags": [],
        "id": "separated-heritage",
        "outputId": "06f44382-c442-4252-ab7a-808035cb74bc"
      },
      "source": [
        "train_tags=train_data['labels']\n",
        "train_tags[0]"
      ],
      "id": "separated-heritage",
      "execution_count": null,
      "outputs": [
        {
          "output_type": "execute_result",
          "data": {
            "text/plain": [
              "-1"
            ]
          },
          "metadata": {
            "tags": []
          },
          "execution_count": 62
        }
      ]
    },
    {
      "cell_type": "code",
      "metadata": {
        "execution": {
          "iopub.execute_input": "2021-06-17T13:08:37.188052Z",
          "iopub.status.busy": "2021-06-17T13:08:37.187330Z",
          "iopub.status.idle": "2021-06-17T13:08:37.291961Z",
          "shell.execute_reply": "2021-06-17T13:08:37.292524Z",
          "shell.execute_reply.started": "2021-06-17T12:55:52.124608Z"
        },
        "papermill": {
          "duration": 0.223282,
          "end_time": "2021-06-17T13:08:37.292734",
          "exception": false,
          "start_time": "2021-06-17T13:08:37.069452",
          "status": "completed"
        },
        "tags": [],
        "id": "terminal-cooking",
        "outputId": "86217115-c0ae-434a-8127-4355af7db513"
      },
      "source": [
        "import numpy as np\n",
        "train_tags=np.array([[train_tags[i]] for i in range(len(train_tags))])\n",
        "train_tags"
      ],
      "id": "terminal-cooking",
      "execution_count": null,
      "outputs": [
        {
          "output_type": "execute_result",
          "data": {
            "text/plain": [
              "array([[-1],\n",
              "       [-1],\n",
              "       [ 0],\n",
              "       ...,\n",
              "       [ 0],\n",
              "       [ 0],\n",
              "       [ 0]])"
            ]
          },
          "metadata": {
            "tags": []
          },
          "execution_count": 63
        }
      ]
    },
    {
      "cell_type": "code",
      "metadata": {
        "execution": {
          "iopub.execute_input": "2021-06-17T13:08:37.508625Z",
          "iopub.status.busy": "2021-06-17T13:08:37.507771Z",
          "iopub.status.idle": "2021-06-17T13:08:37.525587Z",
          "shell.execute_reply": "2021-06-17T13:08:37.526156Z",
          "shell.execute_reply.started": "2021-06-17T12:55:52.249345Z"
        },
        "papermill": {
          "duration": 0.127846,
          "end_time": "2021-06-17T13:08:37.526365",
          "exception": false,
          "start_time": "2021-06-17T13:08:37.398519",
          "status": "completed"
        },
        "tags": [],
        "id": "bronze-engagement",
        "outputId": "c4dd5669-2926-46cd-ed05-248fc526f646"
      },
      "source": [
        "test_tags=test_data['labels']\n",
        "test_tags=np.array([[test_tags[i]] for i in range(len(test_tags))])\n",
        "test_tags"
      ],
      "id": "bronze-engagement",
      "execution_count": null,
      "outputs": [
        {
          "output_type": "execute_result",
          "data": {
            "text/plain": [
              "array([[0],\n",
              "       [1],\n",
              "       [0],\n",
              "       ...,\n",
              "       [0],\n",
              "       [1],\n",
              "       [1]])"
            ]
          },
          "metadata": {
            "tags": []
          },
          "execution_count": 64
        }
      ]
    },
    {
      "cell_type": "markdown",
      "metadata": {
        "papermill": {
          "duration": 0.103865,
          "end_time": "2021-06-17T13:08:37.734395",
          "exception": false,
          "start_time": "2021-06-17T13:08:37.630530",
          "status": "completed"
        },
        "tags": [],
        "id": "departmental-remark"
      },
      "source": [
        ""
      ],
      "id": "departmental-remark"
    },
    {
      "cell_type": "markdown",
      "metadata": {
        "papermill": {
          "duration": 0.105322,
          "end_time": "2021-06-17T13:08:37.943120",
          "exception": false,
          "start_time": "2021-06-17T13:08:37.837798",
          "status": "completed"
        },
        "tags": [],
        "id": "relative-algeria"
      },
      "source": [
        "# Classification\n",
        "# Naive Bayes"
      ],
      "id": "relative-algeria"
    },
    {
      "cell_type": "code",
      "metadata": {
        "execution": {
          "iopub.execute_input": "2021-06-17T13:08:38.154988Z",
          "iopub.status.busy": "2021-06-17T13:08:38.154324Z",
          "iopub.status.idle": "2021-06-17T13:08:38.176599Z",
          "shell.execute_reply": "2021-06-17T13:08:38.177086Z",
          "shell.execute_reply.started": "2021-06-17T12:55:52.269522Z"
        },
        "papermill": {
          "duration": 0.129211,
          "end_time": "2021-06-17T13:08:38.177257",
          "exception": false,
          "start_time": "2021-06-17T13:08:38.048046",
          "status": "completed"
        },
        "tags": [],
        "id": "minute-shopping",
        "outputId": "ee7f5e60-5f34-4ace-d6e4-faf1e3c202fa"
      },
      "source": [
        "from sklearn.naive_bayes import MultinomialNB\n",
        "clf = MultinomialNB() \n",
        "\n",
        "# To train the classifier, simple do \n",
        "clf.fit(train_vectors, train_tags) "
      ],
      "id": "minute-shopping",
      "execution_count": null,
      "outputs": [
        {
          "output_type": "stream",
          "text": [
            "/opt/conda/lib/python3.7/site-packages/sklearn/utils/validation.py:63: DataConversionWarning: A column-vector y was passed when a 1d array was expected. Please change the shape of y to (n_samples, ), for example using ravel().\n",
            "  return f(*args, **kwargs)\n"
          ],
          "name": "stderr"
        },
        {
          "output_type": "execute_result",
          "data": {
            "text/plain": [
              "MultinomialNB()"
            ]
          },
          "metadata": {
            "tags": []
          },
          "execution_count": 65
        }
      ]
    },
    {
      "cell_type": "code",
      "metadata": {
        "execution": {
          "iopub.execute_input": "2021-06-17T13:08:38.391145Z",
          "iopub.status.busy": "2021-06-17T13:08:38.390468Z",
          "iopub.status.idle": "2021-06-17T13:08:38.397717Z",
          "shell.execute_reply": "2021-06-17T13:08:38.398446Z",
          "shell.execute_reply.started": "2021-06-17T12:55:52.295707Z"
        },
        "papermill": {
          "duration": 0.116937,
          "end_time": "2021-06-17T13:08:38.398632",
          "exception": false,
          "start_time": "2021-06-17T13:08:38.281695",
          "status": "completed"
        },
        "tags": [],
        "id": "complete-spotlight",
        "outputId": "51a9ef16-22dc-41a8-b8b1-39d58e7b8bc1"
      },
      "source": [
        "from sklearn.metrics import accuracy_score\n",
        "\n",
        "predictions= clf.predict(test_vectors)\n",
        "\n",
        "print('Polarity prediction accuracy = {}'.format(\n",
        "        accuracy_score(predictions, test_tags) * 100)\n",
        "     )"
      ],
      "id": "complete-spotlight",
      "execution_count": null,
      "outputs": [
        {
          "output_type": "stream",
          "text": [
            "Polarity prediction accuracy = 49.699289229086936\n"
          ],
          "name": "stdout"
        }
      ]
    },
    {
      "cell_type": "code",
      "metadata": {
        "execution": {
          "iopub.execute_input": "2021-06-17T13:08:38.612701Z",
          "iopub.status.busy": "2021-06-17T13:08:38.612038Z",
          "iopub.status.idle": "2021-06-17T13:08:38.620663Z",
          "shell.execute_reply": "2021-06-17T13:08:38.621194Z",
          "shell.execute_reply.started": "2021-06-17T12:55:52.303943Z"
        },
        "papermill": {
          "duration": 0.117688,
          "end_time": "2021-06-17T13:08:38.621416",
          "exception": false,
          "start_time": "2021-06-17T13:08:38.503728",
          "status": "completed"
        },
        "tags": [],
        "id": "bridal-designation",
        "outputId": "07e2b345-644b-4487-ebe5-9a98df78b3e2"
      },
      "source": [
        "predictions_train= clf.predict(train_vectors)\n",
        "\n",
        "print('Polarity prediction train_accuracy = {}'.format(\n",
        "        accuracy_score(predictions_train, train_tags) * 100)\n",
        "     )"
      ],
      "id": "bridal-designation",
      "execution_count": null,
      "outputs": [
        {
          "output_type": "stream",
          "text": [
            "Polarity prediction train_accuracy = 76.08449866111276\n"
          ],
          "name": "stdout"
        }
      ]
    },
    {
      "cell_type": "markdown",
      "metadata": {
        "papermill": {
          "duration": 0.106508,
          "end_time": "2021-06-17T13:08:38.835940",
          "exception": false,
          "start_time": "2021-06-17T13:08:38.729432",
          "status": "completed"
        },
        "tags": [],
        "id": "detailed-evanescence"
      },
      "source": [
        "# K-means"
      ],
      "id": "detailed-evanescence"
    },
    {
      "cell_type": "code",
      "metadata": {
        "execution": {
          "iopub.execute_input": "2021-06-17T13:08:39.051937Z",
          "iopub.status.busy": "2021-06-17T13:08:39.050950Z",
          "iopub.status.idle": "2021-06-17T13:08:42.429575Z",
          "shell.execute_reply": "2021-06-17T13:08:42.430577Z",
          "shell.execute_reply.started": "2021-06-17T12:55:52.325069Z"
        },
        "papermill": {
          "duration": 3.489131,
          "end_time": "2021-06-17T13:08:42.431014",
          "exception": false,
          "start_time": "2021-06-17T13:08:38.941883",
          "status": "completed"
        },
        "tags": [],
        "id": "committed-wealth",
        "outputId": "7d4e5302-9d05-4528-bbb7-859b6de6975f"
      },
      "source": [
        "#Réduction de dimension \n",
        "from sklearn.decomposition import TruncatedSVD\n",
        "train_vectors = TruncatedSVD(n_components=90).fit_transform(train_vectors)\n",
        "test_vectors= TruncatedSVD(n_components=90).fit_transform(test_vectors)\n",
        "train_vectors"
      ],
      "id": "committed-wealth",
      "execution_count": null,
      "outputs": [
        {
          "output_type": "execute_result",
          "data": {
            "text/plain": [
              "array([[ 0.02667092,  0.00882502, -0.00769906, ...,  0.00413662,\n",
              "         0.02972355,  0.01749381],\n",
              "       [ 0.10379161, -0.00481027,  0.01299317, ..., -0.00531165,\n",
              "        -0.00818042,  0.00194537],\n",
              "       [ 0.06457394, -0.00487706, -0.01053894, ..., -0.01550755,\n",
              "         0.01569618, -0.00384561],\n",
              "       ...,\n",
              "       [ 0.05889074, -0.03669363,  0.0170002 , ...,  0.05789818,\n",
              "         0.01974637, -0.05538628],\n",
              "       [ 0.05892083,  0.02841554, -0.0371971 , ...,  0.00106504,\n",
              "        -0.00908661, -0.01000465],\n",
              "       [ 0.08787908,  0.13025805,  0.13294055, ...,  0.01854985,\n",
              "        -0.01650435, -0.00926126]])"
            ]
          },
          "metadata": {
            "tags": []
          },
          "execution_count": 68
        }
      ]
    },
    {
      "cell_type": "code",
      "metadata": {
        "execution": {
          "iopub.execute_input": "2021-06-17T13:08:42.669679Z",
          "iopub.status.busy": "2021-06-17T13:08:42.668380Z",
          "iopub.status.idle": "2021-06-17T13:08:42.808773Z",
          "shell.execute_reply": "2021-06-17T13:08:42.809757Z",
          "shell.execute_reply.started": "2021-06-17T12:55:56.238578Z"
        },
        "papermill": {
          "duration": 0.255326,
          "end_time": "2021-06-17T13:08:42.810015",
          "exception": false,
          "start_time": "2021-06-17T13:08:42.554689",
          "status": "completed"
        },
        "tags": [],
        "id": "victorian-supervision",
        "outputId": "65895426-07af-4553-b18a-3f36f0084ca0"
      },
      "source": [
        "train_vectors_2D = TruncatedSVD(n_components=2).fit_transform(train_vectors)\n",
        "train_vectors_2D"
      ],
      "id": "victorian-supervision",
      "execution_count": null,
      "outputs": [
        {
          "output_type": "execute_result",
          "data": {
            "text/plain": [
              "array([[ 0.0266777 ,  0.0084687 ],\n",
              "       [ 0.10382312, -0.003237  ],\n",
              "       [ 0.06458297, -0.00429649],\n",
              "       ...,\n",
              "       [ 0.05884782, -0.03734961],\n",
              "       [ 0.05894191,  0.02898386],\n",
              "       [ 0.087908  ,  0.13249667]])"
            ]
          },
          "metadata": {
            "tags": []
          },
          "execution_count": 69
        }
      ]
    },
    {
      "cell_type": "code",
      "metadata": {
        "execution": {
          "iopub.execute_input": "2021-06-17T13:08:43.092065Z",
          "iopub.status.busy": "2021-06-17T13:08:43.091261Z",
          "iopub.status.idle": "2021-06-17T13:08:44.519735Z",
          "shell.execute_reply": "2021-06-17T13:08:44.520369Z",
          "shell.execute_reply.started": "2021-06-17T12:55:56.427180Z"
        },
        "papermill": {
          "duration": 1.541689,
          "end_time": "2021-06-17T13:08:44.520576",
          "exception": false,
          "start_time": "2021-06-17T13:08:42.978887",
          "status": "completed"
        },
        "tags": [],
        "id": "subjective-insulin",
        "outputId": "9a52e3fe-b3ea-42f2-f443-b40c4ca846cb"
      },
      "source": [
        "from sklearn.cluster import KMeans\n",
        "kmeans = KMeans(n_clusters=3,n_init=10,max_iter=300)\n",
        "kmeans.fit(train_vectors_2D)"
      ],
      "id": "subjective-insulin",
      "execution_count": null,
      "outputs": [
        {
          "output_type": "execute_result",
          "data": {
            "text/plain": [
              "KMeans(n_clusters=3)"
            ]
          },
          "metadata": {
            "tags": []
          },
          "execution_count": 70
        }
      ]
    },
    {
      "cell_type": "code",
      "metadata": {
        "execution": {
          "iopub.execute_input": "2021-06-17T13:08:44.742093Z",
          "iopub.status.busy": "2021-06-17T13:08:44.741227Z",
          "iopub.status.idle": "2021-06-17T13:08:44.750452Z",
          "shell.execute_reply": "2021-06-17T13:08:44.751029Z",
          "shell.execute_reply.started": "2021-06-17T12:55:57.825668Z"
        },
        "papermill": {
          "duration": 0.122592,
          "end_time": "2021-06-17T13:08:44.751256",
          "exception": false,
          "start_time": "2021-06-17T13:08:44.628664",
          "status": "completed"
        },
        "tags": [],
        "id": "monetary-linux"
      },
      "source": [
        "Y_kmeans = kmeans.predict(train_vectors_2D)"
      ],
      "id": "monetary-linux",
      "execution_count": null,
      "outputs": []
    },
    {
      "cell_type": "code",
      "metadata": {
        "execution": {
          "iopub.execute_input": "2021-06-17T13:08:44.976069Z",
          "iopub.status.busy": "2021-06-17T13:08:44.975245Z",
          "iopub.status.idle": "2021-06-17T13:08:44.979368Z",
          "shell.execute_reply": "2021-06-17T13:08:44.978746Z",
          "shell.execute_reply.started": "2021-06-17T12:55:57.835868Z"
        },
        "papermill": {
          "duration": 0.118414,
          "end_time": "2021-06-17T13:08:44.979526",
          "exception": false,
          "start_time": "2021-06-17T13:08:44.861112",
          "status": "completed"
        },
        "tags": [],
        "id": "latter-million",
        "outputId": "057bfbf3-bc8e-44e7-df0a-452eb8019f44"
      },
      "source": [
        "Y_kmeans"
      ],
      "id": "latter-million",
      "execution_count": null,
      "outputs": [
        {
          "output_type": "execute_result",
          "data": {
            "text/plain": [
              "array([0, 0, 0, ..., 0, 0, 2], dtype=int32)"
            ]
          },
          "metadata": {
            "tags": []
          },
          "execution_count": 72
        }
      ]
    },
    {
      "cell_type": "code",
      "metadata": {
        "execution": {
          "iopub.execute_input": "2021-06-17T13:08:45.198139Z",
          "iopub.status.busy": "2021-06-17T13:08:45.197488Z",
          "iopub.status.idle": "2021-06-17T13:08:45.200874Z",
          "shell.execute_reply": "2021-06-17T13:08:45.201406Z",
          "shell.execute_reply.started": "2021-06-17T12:55:57.844835Z"
        },
        "papermill": {
          "duration": 0.114846,
          "end_time": "2021-06-17T13:08:45.201590",
          "exception": false,
          "start_time": "2021-06-17T13:08:45.086744",
          "status": "completed"
        },
        "tags": [],
        "id": "fuzzy-header",
        "outputId": "000be314-fc2d-472d-bbb9-5009f3f5c30d"
      },
      "source": [
        "# The lowest SSE value\n",
        "kmeans.inertia_"
      ],
      "id": "fuzzy-header",
      "execution_count": null,
      "outputs": [
        {
          "output_type": "execute_result",
          "data": {
            "text/plain": [
              "37.49132767478637"
            ]
          },
          "metadata": {
            "tags": []
          },
          "execution_count": 73
        }
      ]
    },
    {
      "cell_type": "code",
      "metadata": {
        "execution": {
          "iopub.execute_input": "2021-06-17T13:08:45.419385Z",
          "iopub.status.busy": "2021-06-17T13:08:45.418695Z",
          "iopub.status.idle": "2021-06-17T13:08:45.423511Z",
          "shell.execute_reply": "2021-06-17T13:08:45.422697Z",
          "shell.execute_reply.started": "2021-06-17T12:55:57.854595Z"
        },
        "papermill": {
          "duration": 0.114429,
          "end_time": "2021-06-17T13:08:45.423659",
          "exception": false,
          "start_time": "2021-06-17T13:08:45.309230",
          "status": "completed"
        },
        "tags": [],
        "id": "quality-forty"
      },
      "source": [
        "# Final locations of the centroid\n",
        "centers=kmeans.cluster_centers_"
      ],
      "id": "quality-forty",
      "execution_count": null,
      "outputs": []
    },
    {
      "cell_type": "code",
      "metadata": {
        "execution": {
          "iopub.execute_input": "2021-06-17T13:08:45.643508Z",
          "iopub.status.busy": "2021-06-17T13:08:45.642805Z",
          "iopub.status.idle": "2021-06-17T13:08:45.645707Z",
          "shell.execute_reply": "2021-06-17T13:08:45.646236Z",
          "shell.execute_reply.started": "2021-06-17T12:55:57.865306Z"
        },
        "papermill": {
          "duration": 0.115442,
          "end_time": "2021-06-17T13:08:45.646441",
          "exception": false,
          "start_time": "2021-06-17T13:08:45.530999",
          "status": "completed"
        },
        "tags": [],
        "id": "adjusted-parameter",
        "outputId": "bde54270-ab6f-4eca-cd54-3fdc6092dcba"
      },
      "source": [
        "# The number of iterations required to converge\n",
        "kmeans.n_iter_"
      ],
      "id": "adjusted-parameter",
      "execution_count": null,
      "outputs": [
        {
          "output_type": "execute_result",
          "data": {
            "text/plain": [
              "11"
            ]
          },
          "metadata": {
            "tags": []
          },
          "execution_count": 75
        }
      ]
    },
    {
      "cell_type": "code",
      "metadata": {
        "execution": {
          "iopub.execute_input": "2021-06-17T13:08:45.867664Z",
          "iopub.status.busy": "2021-06-17T13:08:45.867012Z",
          "iopub.status.idle": "2021-06-17T13:08:45.871342Z",
          "shell.execute_reply": "2021-06-17T13:08:45.871855Z",
          "shell.execute_reply.started": "2021-06-17T12:55:57.875113Z"
        },
        "papermill": {
          "duration": 0.115666,
          "end_time": "2021-06-17T13:08:45.872027",
          "exception": false,
          "start_time": "2021-06-17T13:08:45.756361",
          "status": "completed"
        },
        "tags": [],
        "id": "regular-burke"
      },
      "source": [
        "import matplotlib.pyplot as plt"
      ],
      "id": "regular-burke",
      "execution_count": null,
      "outputs": []
    },
    {
      "cell_type": "code",
      "metadata": {
        "execution": {
          "iopub.execute_input": "2021-06-17T13:08:46.157644Z",
          "iopub.status.busy": "2021-06-17T13:08:46.155959Z",
          "iopub.status.idle": "2021-06-17T13:08:46.372107Z",
          "shell.execute_reply": "2021-06-17T13:08:46.371467Z",
          "shell.execute_reply.started": "2021-06-17T12:55:57.887695Z"
        },
        "papermill": {
          "duration": 0.369093,
          "end_time": "2021-06-17T13:08:46.372245",
          "exception": false,
          "start_time": "2021-06-17T13:08:46.003152",
          "status": "completed"
        },
        "tags": [],
        "id": "worldwide-wages",
        "outputId": "01cc3251-e718-4b14-b0ab-4a42fbfab7a4"
      },
      "source": [
        "plt.scatter(train_vectors_2D[Y_kmeans=='0',0],train_vectors_2D[Y_kmeans=='0',1],s=20,c='red')\n",
        "plt.scatter(train_vectors_2D[Y_kmeans=='1',0],train_vectors_2D[Y_kmeans=='1',1],s=20,c='blue')\n",
        "plt.scatter(train_vectors_2D[Y_kmeans=='2',0],train_vectors_2D[Y_kmeans=='2',1],s=20,c='green')\n",
        "\n",
        "plt.scatter(centers[0][0],centers[0][1],marker=\"*\",s=100,c='red')\n",
        "plt.scatter(centers[1][0],centers[1][1],marker=\"*\",s=100,c='blue')\n",
        "plt.scatter(centers[2][0],centers[2][1],marker=\"*\",s=100,c='green')\n"
      ],
      "id": "worldwide-wages",
      "execution_count": null,
      "outputs": [
        {
          "output_type": "stream",
          "text": [
            "/opt/conda/lib/python3.7/site-packages/ipykernel_launcher.py:1: FutureWarning: elementwise comparison failed; returning scalar instead, but in the future will perform elementwise comparison\n",
            "  \"\"\"Entry point for launching an IPython kernel.\n",
            "/opt/conda/lib/python3.7/site-packages/ipykernel_launcher.py:2: FutureWarning: elementwise comparison failed; returning scalar instead, but in the future will perform elementwise comparison\n",
            "  \n",
            "/opt/conda/lib/python3.7/site-packages/ipykernel_launcher.py:3: FutureWarning: elementwise comparison failed; returning scalar instead, but in the future will perform elementwise comparison\n",
            "  This is separate from the ipykernel package so we can avoid doing imports until\n"
          ],
          "name": "stderr"
        },
        {
          "output_type": "execute_result",
          "data": {
            "text/plain": [
              "<matplotlib.collections.PathCollection at 0x7f462dda5d90>"
            ]
          },
          "metadata": {
            "tags": []
          },
          "execution_count": 77
        },
        {
          "output_type": "display_data",
          "data": {
            "image/png": "[encoded data removed]",
            "text/plain": [
              "<Figure size 432x288 with 1 Axes>"
            ]
          },
          "metadata": {
            "tags": [],
            "needs_background": "light"
          }
        }
      ]
    },
    {
      "cell_type": "code",
      "metadata": {
        "execution": {
          "iopub.execute_input": "2021-06-17T13:08:46.594845Z",
          "iopub.status.busy": "2021-06-17T13:08:46.593855Z",
          "iopub.status.idle": "2021-06-17T13:08:46.600034Z",
          "shell.execute_reply": "2021-06-17T13:08:46.599407Z",
          "shell.execute_reply.started": "2021-06-17T12:55:58.112042Z"
        },
        "papermill": {
          "duration": 0.119202,
          "end_time": "2021-06-17T13:08:46.600169",
          "exception": false,
          "start_time": "2021-06-17T13:08:46.480967",
          "status": "completed"
        },
        "tags": [],
        "id": "outdoor-connection",
        "outputId": "d4789059-1ba7-4777-a79f-89c3cc1c638c"
      },
      "source": [
        "from sklearn.metrics import accuracy_score\n",
        "accuracy_score=accuracy_score(Y_kmeans,train_tags)\n",
        "accuracy_score"
      ],
      "id": "outdoor-connection",
      "execution_count": null,
      "outputs": [
        {
          "output_type": "execute_result",
          "data": {
            "text/plain": [
              "0.3996429634037489"
            ]
          },
          "metadata": {
            "tags": []
          },
          "execution_count": 78
        }
      ]
    },
    {
      "cell_type": "markdown",
      "metadata": {
        "papermill": {
          "duration": 0.133844,
          "end_time": "2021-06-17T13:08:46.849027",
          "exception": false,
          "start_time": "2021-06-17T13:08:46.715183",
          "status": "completed"
        },
        "tags": [],
        "id": "verified-jungle"
      },
      "source": [
        "## Random forest"
      ],
      "id": "verified-jungle"
    },
    {
      "cell_type": "code",
      "metadata": {
        "execution": {
          "iopub.execute_input": "2021-06-17T13:08:47.098922Z",
          "iopub.status.busy": "2021-06-17T13:08:47.097928Z",
          "iopub.status.idle": "2021-06-17T13:08:49.056348Z",
          "shell.execute_reply": "2021-06-17T13:08:49.057007Z",
          "shell.execute_reply.started": "2021-06-17T12:55:58.122846Z"
        },
        "papermill": {
          "duration": 2.084267,
          "end_time": "2021-06-17T13:08:49.057179",
          "exception": false,
          "start_time": "2021-06-17T13:08:46.972912",
          "status": "completed"
        },
        "tags": [],
        "id": "differential-certificate",
        "outputId": "d3cd66d3-e634-45b6-b005-4fd9e8f03bbc"
      },
      "source": [
        "from sklearn.ensemble import RandomForestClassifier\n",
        "\n",
        "#prediction=rf.predict(test_vectors)\n",
        "\n",
        "#accuracy_score=accuracy_score(prediction,test_tags)\n",
        "#accuracy_score\n",
        "\n",
        "rf=RandomForestClassifier(n_estimators=10,max_features='sqrt',random_state=42)\n",
        "rf.fit(train_vectors, train_tags.ravel())\n",
        "rf.score(test_vectors,test_tags)\n"
      ],
      "id": "differential-certificate",
      "execution_count": null,
      "outputs": [
        {
          "output_type": "execute_result",
          "data": {
            "text/plain": [
              "0.3739748496446145"
            ]
          },
          "metadata": {
            "tags": []
          },
          "execution_count": 79
        }
      ]
    },
    {
      "cell_type": "code",
      "metadata": {
        "execution": {
          "iopub.execute_input": "2021-06-17T13:08:49.278706Z",
          "iopub.status.busy": "2021-06-17T13:08:49.277730Z",
          "iopub.status.idle": "2021-06-17T13:12:57.024178Z",
          "shell.execute_reply": "2021-06-17T13:12:57.024753Z",
          "shell.execute_reply.started": "2021-06-17T12:56:00.072434Z"
        },
        "papermill": {
          "duration": 247.858792,
          "end_time": "2021-06-17T13:12:57.024949",
          "exception": false,
          "start_time": "2021-06-17T13:08:49.166157",
          "status": "completed"
        },
        "tags": [],
        "id": "accessible-hazard",
        "outputId": "957c50be-f884-4c70-c365-9df6b982c580"
      },
      "source": [
        "import matplotlib.pyplot as plt \n",
        "from sklearn.ensemble import RandomForestClassifier\n",
        "\n",
        "#prediction=rf.predict(test_vectors)\n",
        "\n",
        "#accuracy_score=accuracy_score(prediction,test_tags)\n",
        "#accuracy_score\n",
        "n_estimators=[10,50,70,100,150,200,300,400]\n",
        "score=[]\n",
        "for x in n_estimators:\n",
        "    rf=RandomForestClassifier(n_estimators=x,max_features='sqrt',random_state=0)\n",
        "    rf.fit(train_vectors, train_tags.ravel())\n",
        "    score.append(rf.score(test_vectors,test_tags))\n",
        "\n",
        "plt.plot(n_estimators,score)\n",
        "plt.show()"
      ],
      "id": "accessible-hazard",
      "execution_count": null,
      "outputs": [
        {
          "output_type": "display_data",
          "data": {
            "image/png": "[encoded data removed]",
            "text/plain": [
              "<Figure size 432x288 with 1 Axes>"
            ]
          },
          "metadata": {
            "tags": [],
            "needs_background": "light"
          }
        }
      ]
    },
    {
      "cell_type": "markdown",
      "metadata": {
        "papermill": {
          "duration": 0.109894,
          "end_time": "2021-06-17T13:12:57.245526",
          "exception": false,
          "start_time": "2021-06-17T13:12:57.135632",
          "status": "completed"
        },
        "tags": [],
        "id": "transsexual-douglas"
      },
      "source": [
        "# Hyperparameter Tuning the Random Forest"
      ],
      "id": "transsexual-douglas"
    },
    {
      "cell_type": "code",
      "metadata": {
        "execution": {
          "iopub.execute_input": "2021-06-17T13:12:57.476750Z",
          "iopub.status.busy": "2021-06-17T13:12:57.476069Z",
          "iopub.status.idle": "2021-06-17T13:12:57.483486Z",
          "shell.execute_reply": "2021-06-17T13:12:57.482844Z",
          "shell.execute_reply.started": "2021-06-17T13:00:02.722430Z"
        },
        "papermill": {
          "duration": 0.127551,
          "end_time": "2021-06-17T13:12:57.483641",
          "exception": false,
          "start_time": "2021-06-17T13:12:57.356090",
          "status": "completed"
        },
        "tags": [],
        "id": "elementary-pipeline",
        "outputId": "03943523-2d22-4615-8d1d-7a26a09824bf"
      },
      "source": [
        "from sklearn.ensemble import RandomForestClassifier\n",
        "rf = RandomForestClassifier(random_state = 42)\n",
        "from pprint import pprint\n",
        "# Look at parameters used by our current forest\n",
        "print('Parameters currently in use:\\n')\n",
        "pprint(rf.get_params())"
      ],
      "id": "elementary-pipeline",
      "execution_count": null,
      "outputs": [
        {
          "output_type": "stream",
          "text": [
            "Parameters currently in use:\n",
            "\n",
            "{'bootstrap': True,\n",
            " 'ccp_alpha': 0.0,\n",
            " 'class_weight': None,\n",
            " 'criterion': 'gini',\n",
            " 'max_depth': None,\n",
            " 'max_features': 'auto',\n",
            " 'max_leaf_nodes': None,\n",
            " 'max_samples': None,\n",
            " 'min_impurity_decrease': 0.0,\n",
            " 'min_impurity_split': None,\n",
            " 'min_samples_leaf': 1,\n",
            " 'min_samples_split': 2,\n",
            " 'min_weight_fraction_leaf': 0.0,\n",
            " 'n_estimators': 100,\n",
            " 'n_jobs': None,\n",
            " 'oob_score': False,\n",
            " 'random_state': 42,\n",
            " 'verbose': 0,\n",
            " 'warm_start': False}\n"
          ],
          "name": "stdout"
        }
      ]
    },
    {
      "cell_type": "code",
      "metadata": {
        "execution": {
          "iopub.execute_input": "2021-06-17T13:12:57.714860Z",
          "iopub.status.busy": "2021-06-17T13:12:57.713730Z",
          "iopub.status.idle": "2021-06-17T13:12:57.719365Z",
          "shell.execute_reply": "2021-06-17T13:12:57.718815Z",
          "shell.execute_reply.started": "2021-06-17T13:00:02.745342Z"
        },
        "papermill": {
          "duration": 0.125415,
          "end_time": "2021-06-17T13:12:57.719519",
          "exception": false,
          "start_time": "2021-06-17T13:12:57.594104",
          "status": "completed"
        },
        "tags": [],
        "id": "atomic-speed",
        "outputId": "72d3fd8b-001a-4737-89d5-1d3563579d4e"
      },
      "source": [
        "from sklearn.model_selection import RandomizedSearchCV\n",
        "\n",
        "# Number of trees in random forest\n",
        "n_estimators = [int(x) for x in np.linspace(start = 200, stop = 2000, num = 10)]\n",
        "# Number of features to consider at every split\n",
        "max_features = ['auto', 'sqrt']\n",
        "# Maximum number of levels in tree\n",
        "max_depth = [int(x) for x in np.linspace(10, 110, num = 11)]\n",
        "max_depth.append(None)\n",
        "# Minimum number of samples required to split a node\n",
        "min_samples_split = [2, 5, 10]\n",
        "# Minimum number of samples required at each leaf node\n",
        "min_samples_leaf = [1, 2, 4]\n",
        "# Method of selecting samples for training each tree\n",
        "bootstrap = [True, False]\n",
        "# Create the random grid\n",
        "random_grid = {'n_estimators': n_estimators,\n",
        "               'max_features': max_features,\n",
        "               'max_depth': max_depth,\n",
        "               'min_samples_split': min_samples_split,\n",
        "               'min_samples_leaf': min_samples_leaf,\n",
        "               'bootstrap': bootstrap}\n",
        "pprint(random_grid)"
      ],
      "id": "atomic-speed",
      "execution_count": null,
      "outputs": [
        {
          "output_type": "stream",
          "text": [
            "{'bootstrap': [True, False],\n",
            " 'max_depth': [10, 20, 30, 40, 50, 60, 70, 80, 90, 100, 110, None],\n",
            " 'max_features': ['auto', 'sqrt'],\n",
            " 'min_samples_leaf': [1, 2, 4],\n",
            " 'min_samples_split': [2, 5, 10],\n",
            " 'n_estimators': [200, 400, 600, 800, 1000, 1200, 1400, 1600, 1800, 2000]}\n"
          ],
          "name": "stdout"
        }
      ]
    },
    {
      "cell_type": "code",
      "metadata": {
        "execution": {
          "iopub.execute_input": "2021-06-17T13:12:57.951663Z",
          "iopub.status.busy": "2021-06-17T13:12:57.950702Z",
          "iopub.status.idle": "2021-06-17T13:12:57.954761Z",
          "shell.execute_reply": "2021-06-17T13:12:57.955207Z",
          "shell.execute_reply.started": "2021-06-17T13:00:02.758076Z"
        },
        "papermill": {
          "duration": 0.121739,
          "end_time": "2021-06-17T13:12:57.955418",
          "exception": false,
          "start_time": "2021-06-17T13:12:57.833679",
          "status": "completed"
        },
        "tags": [],
        "id": "obvious-karma",
        "outputId": "45a77d55-b097-4a1b-a9b5-5bc068d63e54"
      },
      "source": [
        "train_vectors.shape"
      ],
      "id": "obvious-karma",
      "execution_count": null,
      "outputs": [
        {
          "output_type": "execute_result",
          "data": {
            "text/plain": [
              "(16805, 90)"
            ]
          },
          "metadata": {
            "tags": []
          },
          "execution_count": 83
        }
      ]
    },
    {
      "cell_type": "code",
      "metadata": {
        "execution": {
          "iopub.execute_input": "2021-06-17T13:12:58.184592Z",
          "iopub.status.busy": "2021-06-17T13:12:58.183532Z",
          "iopub.status.idle": "2021-06-17T13:39:50.107544Z",
          "shell.execute_reply": "2021-06-17T13:39:50.108183Z"
        },
        "papermill": {
          "duration": 1612.042436,
          "end_time": "2021-06-17T13:39:50.109301",
          "exception": false,
          "start_time": "2021-06-17T13:12:58.066865",
          "status": "completed"
        },
        "tags": [],
        "id": "ecological-labor",
        "outputId": "6a837080-029d-48b1-c102-ca38575dbfd7"
      },
      "source": [
        "# Use the random grid to search for best hyperparameters\n",
        "# First create the base model to tune\n",
        "rf = RandomForestClassifier()\n",
        "# Random search of parameters, using 3 fold cross validation, \n",
        "# search across 100 different combinations, and use all available cores\n",
        "rf_random = RandomizedSearchCV(estimator = rf, param_distributions = random_grid, n_iter = 10, cv =3 , verbose=2, random_state=42, n_jobs = -1)\n",
        "# n_jobs = Number of jobs to run in parallel\n",
        "#n_iter: controls the number of different combinations to try\n",
        "#cv : number of folds to use for cross validation\n",
        "\n",
        "# Fit the random search model\n",
        "rf_random.fit(train_vectors, train_tags.ravel())"
      ],
      "id": "ecological-labor",
      "execution_count": null,
      "outputs": [
        {
          "output_type": "stream",
          "text": [
            "Fitting 3 folds for each of 10 candidates, totalling 30 fits\n"
          ],
          "name": "stdout"
        },
        {
          "output_type": "stream",
          "text": [
            "/opt/conda/lib/python3.7/site-packages/joblib/externals/loky/process_executor.py:691: UserWarning: A worker stopped while some jobs were given to the executor. This can be caused by a too short worker timeout or by a memory leak.\n",
            "  \"timeout or by a memory leak.\", UserWarning\n"
          ],
          "name": "stderr"
        },
        {
          "output_type": "execute_result",
          "data": {
            "text/plain": [
              "RandomizedSearchCV(cv=3, estimator=RandomForestClassifier(), n_jobs=-1,\n",
              "                   param_distributions={'bootstrap': [True, False],\n",
              "                                        'max_depth': [10, 20, 30, 40, 50, 60,\n",
              "                                                      70, 80, 90, 100, 110,\n",
              "                                                      None],\n",
              "                                        'max_features': ['auto', 'sqrt'],\n",
              "                                        'min_samples_leaf': [1, 2, 4],\n",
              "                                        'min_samples_split': [2, 5, 10],\n",
              "                                        'n_estimators': [200, 400, 600, 800,\n",
              "                                                         1000, 1200, 1400, 1600,\n",
              "                                                         1800, 2000]},\n",
              "                   random_state=42, verbose=2)"
            ]
          },
          "metadata": {
            "tags": []
          },
          "execution_count": 84
        }
      ]
    },
    {
      "cell_type": "code",
      "metadata": {
        "execution": {
          "iopub.execute_input": "2021-06-17T13:39:50.465732Z",
          "iopub.status.busy": "2021-06-17T13:39:50.465047Z",
          "iopub.status.idle": "2021-06-17T13:39:50.467794Z",
          "shell.execute_reply": "2021-06-17T13:39:50.468243Z"
        },
        "papermill": {
          "duration": 0.244413,
          "end_time": "2021-06-17T13:39:50.468443",
          "exception": false,
          "start_time": "2021-06-17T13:39:50.224030",
          "status": "completed"
        },
        "tags": [],
        "id": "engaged-voice",
        "outputId": "c4917fbe-0828-4337-ebfb-5e521de6398c"
      },
      "source": [
        "rf_random.best_params_\n"
      ],
      "id": "engaged-voice",
      "execution_count": null,
      "outputs": [
        {
          "output_type": "execute_result",
          "data": {
            "text/plain": [
              "{'n_estimators': 200,\n",
              " 'min_samples_split': 5,\n",
              " 'min_samples_leaf': 2,\n",
              " 'max_features': 'sqrt',\n",
              " 'max_depth': 10,\n",
              " 'bootstrap': True}"
            ]
          },
          "metadata": {
            "tags": []
          },
          "execution_count": 85
        }
      ]
    },
    {
      "cell_type": "code",
      "metadata": {
        "execution": {
          "iopub.execute_input": "2021-06-17T13:39:50.698220Z",
          "iopub.status.busy": "2021-06-17T13:39:50.697603Z",
          "iopub.status.idle": "2021-06-17T13:45:04.945759Z",
          "shell.execute_reply": "2021-06-17T13:45:04.946258Z"
        },
        "papermill": {
          "duration": 314.364729,
          "end_time": "2021-06-17T13:45:04.946459",
          "exception": false,
          "start_time": "2021-06-17T13:39:50.581730",
          "status": "completed"
        },
        "tags": [],
        "id": "patent-paste",
        "outputId": "37d18429-9830-43dc-afaf-95956c18da51"
      },
      "source": [
        "# Whether bootstrap samples are used when building trees. If False, the whole dataset is used to build each tree.\n",
        "rf=RandomForestClassifier(bootstrap=False,n_estimators=1000,max_features='auto',\n",
        "                          min_samples_split=10,min_samples_leaf=1,max_depth=80,random_state=42)\n",
        "rf.fit(train_vectors, train_tags.ravel())\n",
        "rf.score(test_vectors,test_tags)"
      ],
      "id": "patent-paste",
      "execution_count": null,
      "outputs": [
        {
          "output_type": "execute_result",
          "data": {
            "text/plain": [
              "0.405686167304538"
            ]
          },
          "metadata": {
            "tags": []
          },
          "execution_count": 86
        }
      ]
    },
    {
      "cell_type": "markdown",
      "metadata": {
        "papermill": {
          "duration": 0.114813,
          "end_time": "2021-06-17T13:45:05.177153",
          "exception": false,
          "start_time": "2021-06-17T13:45:05.062340",
          "status": "completed"
        },
        "tags": [],
        "id": "relative-greene"
      },
      "source": [
        "# Deep Learning"
      ],
      "id": "relative-greene"
    },
    {
      "cell_type": "code",
      "metadata": {
        "execution": {
          "iopub.execute_input": "2021-06-17T13:45:05.408395Z",
          "iopub.status.busy": "2021-06-17T13:45:05.407681Z",
          "iopub.status.idle": "2021-06-17T13:46:08.211769Z",
          "shell.execute_reply": "2021-06-17T13:46:08.211186Z"
        },
        "papermill": {
          "duration": 62.920508,
          "end_time": "2021-06-17T13:46:08.211927",
          "exception": false,
          "start_time": "2021-06-17T13:45:05.291419",
          "status": "completed"
        },
        "tags": [],
        "id": "antique-specification",
        "outputId": "199e9e7f-0ced-49a1-f504-457130941c28"
      },
      "source": [
        "#  neural network with keras \n",
        "from keras.models import Sequential\n",
        "from keras.layers import Dense\n",
        "# define the keras model\n",
        "model = Sequential()\n",
        "model.add(Dense(90, input_shape=(90,), activation='sigmoid'))\n",
        "model.add(Dense(100, activation='relu'))\n",
        "model.add(Dense(100, activation='relu'))\n",
        "model.add(Dense(1, activation='sigmoid'))\n",
        "# compile the keras model\n",
        "model.compile(loss='binary_crossentropy', optimizer='adam', metrics=['accuracy'])\n",
        "# fit the keras model on the dataset\n",
        "model.fit(train_vectors, train_tags, epochs=100, batch_size=50)\n",
        "#The batch size defines the number of samples that will be propagated through the network.\n",
        "# One Epoch is when an ENTIRE dataset is passed forward and backward through the neural network only ONCE."
      ],
      "id": "antique-specification",
      "execution_count": null,
      "outputs": [
        {
          "output_type": "stream",
          "text": [
            "Epoch 1/100\n",
            "337/337 [==============================] - 1s 2ms/step - loss: 0.5874 - accuracy: 0.4267\n",
            "Epoch 2/100\n",
            "337/337 [==============================] - 1s 2ms/step - loss: 0.5686 - accuracy: 0.4324\n",
            "Epoch 3/100\n",
            "337/337 [==============================] - 1s 2ms/step - loss: 0.3994 - accuracy: 0.5039\n",
            "Epoch 4/100\n",
            "337/337 [==============================] - 1s 2ms/step - loss: 0.3080 - accuracy: 0.5279\n",
            "Epoch 5/100\n",
            "337/337 [==============================] - 1s 2ms/step - loss: 0.1175 - accuracy: 0.5278\n",
            "Epoch 6/100\n",
            "337/337 [==============================] - 1s 2ms/step - loss: -0.6481 - accuracy: 0.5165\n",
            "Epoch 7/100\n",
            "337/337 [==============================] - 1s 2ms/step - loss: -2.6010 - accuracy: 0.5098\n",
            "Epoch 8/100\n",
            "337/337 [==============================] - 1s 2ms/step - loss: -8.8278 - accuracy: 0.5160\n",
            "Epoch 9/100\n",
            "337/337 [==============================] - 1s 2ms/step - loss: -17.7157 - accuracy: 0.5135\n",
            "Epoch 10/100\n",
            "337/337 [==============================] - 1s 2ms/step - loss: -39.6199 - accuracy: 0.5146\n",
            "Epoch 11/100\n",
            "337/337 [==============================] - 1s 2ms/step - loss: -68.4680 - accuracy: 0.5104\n",
            "Epoch 12/100\n",
            "337/337 [==============================] - 1s 2ms/step - loss: -120.5286 - accuracy: 0.5077\n",
            "Epoch 13/100\n",
            "337/337 [==============================] - 1s 2ms/step - loss: -208.5205 - accuracy: 0.5017\n",
            "Epoch 14/100\n",
            "337/337 [==============================] - 1s 2ms/step - loss: -280.3958 - accuracy: 0.5065\n",
            "Epoch 15/100\n",
            "337/337 [==============================] - 1s 2ms/step - loss: -447.8863 - accuracy: 0.5069\n",
            "Epoch 16/100\n",
            "337/337 [==============================] - 1s 2ms/step - loss: -545.6486 - accuracy: 0.5065\n",
            "Epoch 17/100\n",
            "337/337 [==============================] - 1s 2ms/step - loss: -652.3853 - accuracy: 0.5143\n",
            "Epoch 18/100\n",
            "337/337 [==============================] - 1s 2ms/step - loss: -1068.0779 - accuracy: 0.4926\n",
            "Epoch 19/100\n",
            "337/337 [==============================] - 1s 2ms/step - loss: -1564.3975 - accuracy: 0.5035\n",
            "Epoch 20/100\n",
            "337/337 [==============================] - 1s 2ms/step - loss: -1772.6578 - accuracy: 0.5010\n",
            "Epoch 21/100\n",
            "337/337 [==============================] - 1s 2ms/step - loss: -2628.5516 - accuracy: 0.4989\n",
            "Epoch 22/100\n",
            "337/337 [==============================] - 1s 2ms/step - loss: -2858.6633 - accuracy: 0.5036\n",
            "Epoch 23/100\n",
            "337/337 [==============================] - 1s 2ms/step - loss: -4080.6671 - accuracy: 0.5039\n",
            "Epoch 24/100\n",
            "337/337 [==============================] - 1s 2ms/step - loss: -4197.8329 - accuracy: 0.5028\n",
            "Epoch 25/100\n",
            "337/337 [==============================] - 1s 2ms/step - loss: -5312.5144 - accuracy: 0.4962\n",
            "Epoch 26/100\n",
            "337/337 [==============================] - 1s 2ms/step - loss: -5665.4229 - accuracy: 0.4973\n",
            "Epoch 27/100\n",
            "337/337 [==============================] - 1s 2ms/step - loss: -6611.3589 - accuracy: 0.5123\n",
            "Epoch 28/100\n",
            "337/337 [==============================] - 1s 2ms/step - loss: -7325.8420 - accuracy: 0.4806\n",
            "Epoch 29/100\n",
            "337/337 [==============================] - 1s 2ms/step - loss: -9780.5698 - accuracy: 0.5041\n",
            "Epoch 30/100\n",
            "337/337 [==============================] - 1s 2ms/step - loss: -12319.5818 - accuracy: 0.5113\n",
            "Epoch 31/100\n",
            "337/337 [==============================] - 1s 2ms/step - loss: -13444.4625 - accuracy: 0.5023\n",
            "Epoch 32/100\n",
            "337/337 [==============================] - 1s 2ms/step - loss: -16188.5698 - accuracy: 0.5004\n",
            "Epoch 33/100\n",
            "337/337 [==============================] - 1s 2ms/step - loss: -15967.6227 - accuracy: 0.4970\n",
            "Epoch 34/100\n",
            "337/337 [==============================] - 1s 2ms/step - loss: -19680.7762 - accuracy: 0.4911\n",
            "Epoch 35/100\n",
            "337/337 [==============================] - 1s 2ms/step - loss: -19696.4776 - accuracy: 0.4905\n",
            "Epoch 36/100\n",
            "337/337 [==============================] - 1s 2ms/step - loss: -23058.0242 - accuracy: 0.4921\n",
            "Epoch 37/100\n",
            "337/337 [==============================] - 1s 2ms/step - loss: -29885.4936 - accuracy: 0.4879\n",
            "Epoch 38/100\n",
            "337/337 [==============================] - 1s 2ms/step - loss: -29376.4574 - accuracy: 0.4934\n",
            "Epoch 39/100\n",
            "337/337 [==============================] - 1s 2ms/step - loss: -35898.9660 - accuracy: 0.4902\n",
            "Epoch 40/100\n",
            "337/337 [==============================] - 1s 2ms/step - loss: -37904.7906 - accuracy: 0.4808\n",
            "Epoch 41/100\n",
            "337/337 [==============================] - 1s 2ms/step - loss: -40604.2794 - accuracy: 0.4882\n",
            "Epoch 42/100\n",
            "337/337 [==============================] - 1s 2ms/step - loss: -47373.0777 - accuracy: 0.4938\n",
            "Epoch 43/100\n",
            "337/337 [==============================] - 1s 2ms/step - loss: -45040.2644 - accuracy: 0.4819\n",
            "Epoch 44/100\n",
            "337/337 [==============================] - 1s 2ms/step - loss: -51796.8387 - accuracy: 0.4849\n",
            "Epoch 45/100\n",
            "337/337 [==============================] - 1s 2ms/step - loss: -54353.8078 - accuracy: 0.4940\n",
            "Epoch 46/100\n",
            "337/337 [==============================] - 1s 2ms/step - loss: -66777.5722 - accuracy: 0.4866\n",
            "Epoch 47/100\n",
            "337/337 [==============================] - 1s 2ms/step - loss: -76082.5342 - accuracy: 0.4914\n",
            "Epoch 48/100\n",
            "337/337 [==============================] - 1s 2ms/step - loss: -80331.2580 - accuracy: 0.4925\n",
            "Epoch 49/100\n",
            "337/337 [==============================] - 1s 2ms/step - loss: -84424.4638 - accuracy: 0.4849\n",
            "Epoch 50/100\n",
            "337/337 [==============================] - 1s 2ms/step - loss: -78081.3476 - accuracy: 0.4877\n",
            "Epoch 51/100\n",
            "337/337 [==============================] - 1s 2ms/step - loss: -96111.5269 - accuracy: 0.4848\n",
            "Epoch 52/100\n",
            "337/337 [==============================] - 1s 2ms/step - loss: -114492.3697 - accuracy: 0.4910\n",
            "Epoch 53/100\n",
            "337/337 [==============================] - 1s 2ms/step - loss: -140526.1143 - accuracy: 0.4861\n",
            "Epoch 54/100\n",
            "337/337 [==============================] - 1s 2ms/step - loss: -140909.0621 - accuracy: 0.4942\n",
            "Epoch 55/100\n",
            "337/337 [==============================] - 1s 2ms/step - loss: -146146.2478 - accuracy: 0.4827\n",
            "Epoch 56/100\n",
            "337/337 [==============================] - 1s 2ms/step - loss: -137690.0919 - accuracy: 0.4853\n",
            "Epoch 57/100\n",
            "337/337 [==============================] - 1s 2ms/step - loss: -143667.7710 - accuracy: 0.5017\n",
            "Epoch 58/100\n",
            "337/337 [==============================] - 1s 2ms/step - loss: -169203.5529 - accuracy: 0.4855\n",
            "Epoch 59/100\n",
            "337/337 [==============================] - 1s 2ms/step - loss: -193254.5974 - accuracy: 0.4791\n",
            "Epoch 60/100\n",
            "337/337 [==============================] - 1s 2ms/step - loss: -182753.1198 - accuracy: 0.4814\n",
            "Epoch 61/100\n",
            "337/337 [==============================] - 1s 2ms/step - loss: -191530.6116 - accuracy: 0.4972\n",
            "Epoch 62/100\n",
            "337/337 [==============================] - 1s 2ms/step - loss: -227963.8438 - accuracy: 0.4880\n",
            "Epoch 63/100\n",
            "337/337 [==============================] - 1s 2ms/step - loss: -229561.3477 - accuracy: 0.4919\n",
            "Epoch 64/100\n",
            "337/337 [==============================] - 1s 2ms/step - loss: -215887.5413 - accuracy: 0.4960\n",
            "Epoch 65/100\n",
            "337/337 [==============================] - 1s 2ms/step - loss: -267138.9269 - accuracy: 0.4828\n",
            "Epoch 66/100\n",
            "337/337 [==============================] - 1s 2ms/step - loss: -286108.4606 - accuracy: 0.4980\n",
            "Epoch 67/100\n",
            "337/337 [==============================] - 1s 2ms/step - loss: -281955.7011 - accuracy: 0.4936\n",
            "Epoch 68/100\n",
            "337/337 [==============================] - 1s 2ms/step - loss: -338433.1163 - accuracy: 0.4826\n",
            "Epoch 69/100\n",
            "337/337 [==============================] - 1s 2ms/step - loss: -344301.1943 - accuracy: 0.4793\n",
            "Epoch 70/100\n",
            "337/337 [==============================] - 1s 2ms/step - loss: -320627.3239 - accuracy: 0.4940\n",
            "Epoch 71/100\n",
            "337/337 [==============================] - 1s 2ms/step - loss: -371406.5848 - accuracy: 0.4967\n",
            "Epoch 72/100\n",
            "337/337 [==============================] - 1s 2ms/step - loss: -374467.6060 - accuracy: 0.4681\n",
            "Epoch 73/100\n",
            "337/337 [==============================] - 1s 2ms/step - loss: -443691.7230 - accuracy: 0.4959\n",
            "Epoch 74/100\n",
            "337/337 [==============================] - 1s 2ms/step - loss: -442953.7911 - accuracy: 0.4911\n",
            "Epoch 75/100\n",
            "337/337 [==============================] - 1s 2ms/step - loss: -522411.4220 - accuracy: 0.4848\n",
            "Epoch 76/100\n",
            "337/337 [==============================] - 1s 2ms/step - loss: -487985.6280 - accuracy: 0.4839\n",
            "Epoch 77/100\n",
            "337/337 [==============================] - 1s 2ms/step - loss: -478211.6873 - accuracy: 0.4892\n",
            "Epoch 78/100\n",
            "337/337 [==============================] - 1s 2ms/step - loss: -572400.7420 - accuracy: 0.4932\n",
            "Epoch 79/100\n",
            "337/337 [==============================] - 1s 2ms/step - loss: -569247.9660 - accuracy: 0.4852\n",
            "Epoch 80/100\n",
            "337/337 [==============================] - 1s 2ms/step - loss: -572969.0196 - accuracy: 0.4921\n",
            "Epoch 81/100\n",
            "337/337 [==============================] - 1s 2ms/step - loss: -554467.6916 - accuracy: 0.4816\n",
            "Epoch 82/100\n",
            "337/337 [==============================] - 1s 2ms/step - loss: -709730.4161 - accuracy: 0.4880\n",
            "Epoch 83/100\n",
            "337/337 [==============================] - 1s 2ms/step - loss: -695897.9089 - accuracy: 0.4961\n",
            "Epoch 84/100\n",
            "337/337 [==============================] - 1s 2ms/step - loss: -679023.1731 - accuracy: 0.4903\n",
            "Epoch 85/100\n",
            "337/337 [==============================] - 1s 2ms/step - loss: -761183.5100 - accuracy: 0.4949\n",
            "Epoch 86/100\n",
            "337/337 [==============================] - 1s 2ms/step - loss: -813734.4832 - accuracy: 0.4810\n",
            "Epoch 87/100\n",
            "337/337 [==============================] - 1s 2ms/step - loss: -808154.0257 - accuracy: 0.4856\n",
            "Epoch 88/100\n",
            "337/337 [==============================] - 1s 2ms/step - loss: -918491.1537 - accuracy: 0.4979\n",
            "Epoch 89/100\n",
            "337/337 [==============================] - 1s 2ms/step - loss: -933745.7750 - accuracy: 0.4988\n",
            "Epoch 90/100\n",
            "337/337 [==============================] - 1s 2ms/step - loss: -795810.2635 - accuracy: 0.4873\n",
            "Epoch 91/100\n",
            "337/337 [==============================] - 1s 2ms/step - loss: -1045116.2751 - accuracy: 0.4915\n",
            "Epoch 92/100\n",
            "337/337 [==============================] - 1s 2ms/step - loss: -1049963.3295 - accuracy: 0.4865\n",
            "Epoch 93/100\n",
            "337/337 [==============================] - 1s 2ms/step - loss: -1016121.3955 - accuracy: 0.4933\n",
            "Epoch 94/100\n",
            "337/337 [==============================] - 1s 2ms/step - loss: -1030444.3819 - accuracy: 0.4912\n",
            "Epoch 95/100\n",
            "337/337 [==============================] - 1s 2ms/step - loss: -1261544.4639 - accuracy: 0.4812\n",
            "Epoch 96/100\n",
            "337/337 [==============================] - 1s 2ms/step - loss: -1108427.4562 - accuracy: 0.4870\n",
            "Epoch 97/100\n",
            "337/337 [==============================] - 1s 2ms/step - loss: -1452682.8047 - accuracy: 0.4925\n",
            "Epoch 98/100\n",
            "337/337 [==============================] - 1s 2ms/step - loss: -1072849.0294 - accuracy: 0.4971\n",
            "Epoch 99/100\n",
            "337/337 [==============================] - 1s 2ms/step - loss: -1588855.5111 - accuracy: 0.5009\n",
            "Epoch 100/100\n",
            "337/337 [==============================] - 1s 2ms/step - loss: -1471978.6853 - accuracy: 0.4981\n"
          ],
          "name": "stdout"
        },
        {
          "output_type": "execute_result",
          "data": {
            "text/plain": [
              "<tensorflow.python.keras.callbacks.History at 0x7f45ec2f1dd0>"
            ]
          },
          "metadata": {
            "tags": []
          },
          "execution_count": 87
        }
      ]
    },
    {
      "cell_type": "code",
      "metadata": {
        "execution": {
          "iopub.execute_input": "2021-06-17T13:46:09.206129Z",
          "iopub.status.busy": "2021-06-17T13:46:09.205453Z",
          "iopub.status.idle": "2021-06-17T13:46:09.458059Z",
          "shell.execute_reply": "2021-06-17T13:46:09.457555Z"
        },
        "papermill": {
          "duration": 0.751462,
          "end_time": "2021-06-17T13:46:09.458200",
          "exception": false,
          "start_time": "2021-06-17T13:46:08.706738",
          "status": "completed"
        },
        "tags": [],
        "id": "asian-championship",
        "outputId": "ee67c008-2337-4b1a-88ab-bb3002db8d5e"
      },
      "source": [
        "# evaluate the keras model on the test \n",
        "_, accuracy = model.evaluate(test_vectors, test_tags)\n",
        "print('Test Accuracy: %.2f' % (accuracy*100))"
      ],
      "id": "asian-championship",
      "execution_count": null,
      "outputs": [
        {
          "output_type": "stream",
          "text": [
            "58/58 [==============================] - 0s 941us/step - loss: 3552739.2500 - accuracy: 0.3909\n",
            "Test Accuracy: 39.09\n"
          ],
          "name": "stdout"
        }
      ]
    },
    {
      "cell_type": "code",
      "metadata": {
        "execution": {
          "iopub.execute_input": "2021-06-17T13:46:10.480417Z",
          "iopub.status.busy": "2021-06-17T13:46:10.479703Z",
          "iopub.status.idle": "2021-06-17T13:46:11.044827Z",
          "shell.execute_reply": "2021-06-17T13:46:11.045439Z"
        },
        "papermill": {
          "duration": 1.090275,
          "end_time": "2021-06-17T13:46:11.045625",
          "exception": false,
          "start_time": "2021-06-17T13:46:09.955350",
          "status": "completed"
        },
        "tags": [],
        "id": "satisfactory-forestry",
        "outputId": "82f7677a-f8d4-44ff-e4c9-9666c3c6094b"
      },
      "source": [
        "# evaluate the keras model on the test \n",
        "_, accuracy = model.evaluate(train_vectors, train_tags)\n",
        "print('Test Accuracy: %.2f' % (accuracy*100))"
      ],
      "id": "satisfactory-forestry",
      "execution_count": null,
      "outputs": [
        {
          "output_type": "stream",
          "text": [
            "526/526 [==============================] - 1s 959us/step - loss: -1414170.7500 - accuracy: 0.5248\n",
            "Test Accuracy: 52.48\n"
          ],
          "name": "stdout"
        }
      ]
    }
  ]
}