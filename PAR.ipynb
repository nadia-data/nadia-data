{
  "nbformat": 4,
  "nbformat_minor": 0,
  "metadata": {
    "colab": {
      "name": "PAR.ipynb",
      "private_outputs": true,
      "provenance": [],
      "authorship_tag": "ABX9TyNeW8nQ8WkBcfOpALJImNQw",
      "include_colab_link": true
    },
    "kernelspec": {
      "name": "python3",
      "display_name": "Python 3"
    },
    "language_info": {
      "name": "python"
    }
  },
  "cells": [
    {
      "cell_type": "markdown",
      "metadata": {
        "id": "view-in-github",
        "colab_type": "text"
      },
      "source": [
        "<a href=\"https://colab.research.google.com/github/nadia-data/nadia-data/blob/main/PAR.ipynb\" target=\"_parent\"><img src=\"https://colab.research.google.com/assets/colab-badge.svg\" alt=\"Open In Colab\"/></a>"
      ]
    },
    {
      "cell_type": "code",
      "metadata": {
        "id": "Nko91Y9Uap51"
      },
      "source": [
        "print(__doc__)\n",
        "import numpy as np\n",
        "import matplotlib.pyplot as plt\n",
        "from sklearn import svm, datasets # librairie pour la dataset\n",
        "from sklearn.model_selection import train_test_split  # prendre un % train et % test\n",
        "import sklearn.metrics as sk # metrics contient r2_score,mean_squared_error,classification_report\n",
        "# import some data to play with\n",
        "iris = datasets.load_iris()\n",
        "iris=datasets.load_iris()\n",
        "X=iris.data\n",
        "Y=iris.target\n",
        "classes=iris.target_names.tolist()\n",
        "X_train,X_test,Y_train,Y_test=train_test_split(X,Y,test_size=0.2)#sparer notre data en data training et data pour le test \n",
        "\n",
        "\n",
        "# we create \n",
        "model = svm.SVC(C=1.0, kernel='rbf', gamma=0.25) # noyeau goussien \n",
        "model.fit(X_train,Y_train)\n",
        "Y_pred=model.predict(X_test) # tester le modèle\n",
        "score=sk.accuracy_score(Y_test,Y_pred) #calculer le score\n",
        "print(score)\n",
        "\n",
        "\n"
      ],
      "execution_count": null,
      "outputs": []
    },
    {
      "cell_type": "code",
      "metadata": {
        "id": "tjs9hAWmSnL2"
      },
      "source": [
        "!pip install rfflearn.cpu "
      ],
      "execution_count": null,
      "outputs": []
    },
    {
      "cell_type": "code",
      "metadata": {
        "id": "ansF0U2IOTEY"
      },
      "source": [
        "import numpy as np\n",
        "from sklearn.kernel_approximation import RBFSampler\n",
        "from sklearn.linear_model import SGDClassifier\n",
        "from sklearn import svm, datasets # librairie pour la dataset\n",
        "from sklearn.model_selection import train_test_split  # prendre un % train et % test\n",
        "import sklearn.metrics as sk # metrics contient r2_score,mean_squared_error,classification_report\n",
        "# import some data to play with\n",
        "iris = datasets.load_iris()\n",
        "iris=datasets.load_iris()\n",
        "X=iris.data\n",
        "Y=iris.target\n",
        "print(Y)\n",
        "classes=iris.target_names.tolist()\n",
        "X_train,X_test,Y_train,Y_test=train_test_split(X,Y,test_size=0.2)#sparer notre data en data training et data pour le test \n",
        "rbf_feature = RBFSampler(gamma=1, random_state=1)\n",
        "X_features = rbf_feature.fit_transform(X_train) #Apply the approximate feature map to X.\n",
        "clf = SGDClassifier(max_iter=100, tol=1e-10)\n",
        "clf.fit(X_features, Y_train) \n",
        "X_test=rbf_feature.fit_transform(X_test)\n",
        "Y_pred=clf.predict(X_test) # tester le modèle\n",
        "score=sk.accuracy_score(Y_test,Y_pred) #calculer le score\n",
        "print(score)"
      ],
      "execution_count": null,
      "outputs": []
    },
    {
      "cell_type": "code",
      "metadata": {
        "id": "xmOISH2HqTBp"
      },
      "source": [
        "import numpy as np\n",
        "from sklearn.kernel_approximation import RBFSampler\n",
        "from sklearn.linear_model import SGDClassifier\n",
        "from sklearn import svm, datasets # librairie pour la dataset\n",
        "from sklearn.model_selection import train_test_split  # prendre un % train et % test\n",
        "import sklearn.metrics as sk # metrics contient r2_score,mean_squared_error,classification_report\n",
        "# import some data to play with\n",
        "iris = datasets.load_iris()\n",
        "iris=datasets.load_iris()\n",
        "X=iris.data\n",
        "Y=iris.target\n",
        "classes=iris.target_names.tolist()\n",
        "X_train,X_test,Y_train,Y_test=train_test_split(X,Y,test_size=0.2)#sparer notre data en data training et data pour le test \n",
        "rbf_feature = RBFSampler(gamma=1, random_state=1)\n",
        "X_features = rbf_feature.fit_transform(X_train) #Apply the approximate feature map to X.\n",
        "clf = SGDClassifier(max_iter=100, tol=1e-10)\n",
        "clf.fit(X_features, Y_train) \n",
        "X_test=rbf_feature.fit_transform(X_test)\n",
        "Y_pred=clf.predict(X_test) # tester le modèle\n",
        "score=sk.accuracy_score(Y_test,Y_pred) #calculer le score\n",
        "print(score)"
      ],
      "execution_count": null,
      "outputs": []
    },
    {
      "cell_type": "code",
      "metadata": {
        "id": "EexC2I0F1rku"
      },
      "source": [
        "import pandas as pd\n",
        "from sklearn import svm\n",
        "from sklearn.preprocessing import LabelEncoder\n",
        "from sklearn.model_selection import train_test_split  # prendre un % train et % test\n",
        "import sklearn.metrics as sk # metrics contient r2_score,mean_squared_error,classification_report\n",
        "data_adult=pd.read_csv('adult.data')\n",
        "data_adult.columns = ['age','workclass','fnlwgt','education','lug_booteducation-num','marital-status','occupation','relationship','race','sex','capital-gain','capital-loss','hours-per-week','native-country','income']\n",
        "X=data_adult[['age','workclass','fnlwgt','education','lug_booteducation-num','marital-status','occupation','relationship','race','sex','capital-gain','capital-loss','hours-per-week','native-country']].values\n",
        "Y=data_adult[[\"income\"]].values\n",
        "print(type(X))\n",
        "le = LabelEncoder()#only array\n",
        "#converting our x\n",
        "for i in range(len(X[0])):\n",
        "  X[:,i]=le.fit_transform(X[:,i])\n",
        "Y[:,0]=le.fit_transform(Y[:,0])\n",
        "Y=Y.tolist()\n",
        "L=[]\n",
        "for i in range(len(Y)):\n",
        "  L=L+Y[i]\n",
        "Y=L\n",
        "print(Y)\n",
        "X_train,X_test,Y_train,Y_test=train_test_split(X,Y,test_size=0.2)#sparer notre data en data training et data pour le test \n",
        "model = svm.SVC(C=1.0, kernel='rbf', gamma=0.25) # noyeau goussien \n",
        "model.fit(X_train,Y_train)\n",
        "Y_pred=model.predict(X_test) # tester le modèle\n",
        "score=sk.accuracy_score(Y_test,Y_pred) #calculer le score\n",
        "print(score)\n"
      ],
      "execution_count": null,
      "outputs": []
    },
    {
      "cell_type": "code",
      "metadata": {
        "id": "Plb48kIIvAMM"
      },
      "source": [
        "import pandas as pd\n",
        "from sklearn import svm\n",
        "from sklearn.kernel_approximation import RBFSampler\n",
        "from sklearn.linear_model import SGDClassifier\n",
        "from sklearn.preprocessing import LabelEncoder\n",
        "import numpy as np\n",
        "from sklearn.model_selection import train_test_split  # prendre un % train et % test\n",
        "import sklearn.metrics as sk # metrics contient r2_score,mean_squared_error,classification_report\n",
        "data_adult=pd.read_csv('adult.data')\n",
        "data_adult.columns = ['age','workclass','fnlwgt','education','lug_booteducation-num','marital-status','occupation','relationship','race','sex','capital-gain','capital-loss','hours-per-week','native-country','income']\n",
        "X=data_adult[['age','workclass','fnlwgt','education','lug_booteducation-num','marital-status','occupation','relationship','race','sex','capital-gain','capital-loss','hours-per-week','native-country']].values\n",
        "Y=data_adult[[\"income\"]].values\n",
        "print(type(X))\n",
        "le = LabelEncoder()#only array\n",
        "#converting our x\n",
        "for i in range(len(X[0])):\n",
        "  X[:,i]=le.fit_transform(X[:,i])\n",
        "Y[:,0]=le.fit_transform(Y[:,0])\n",
        "Y=Y.tolist()\n",
        "L=[]\n",
        "for i in range(len(Y)):\n",
        "  L=L+Y[i]\n",
        "Y=L\n",
        "rbf_feature = RBFSampler(gamma=0.25,n_components=500,random_state=1)\n",
        "X_features = rbf_feature.fit_transform(X_train) #Apply the approximate feature map to X.\n",
        "clf = SGDClassifier(max_iter=100, tol=1e-10)\n",
        "clf.fit(X_features, Y_train) \n",
        "X_test=rbf_feature.fit_transform(X_test)\n",
        "Y_pred=clf.predict(X_test) # tester le modèle\n",
        "score=sk.accuracy_score(Y_test,Y_pred) #calculer le score\n",
        "print(score)\n"
      ],
      "execution_count": null,
      "outputs": []
    },
    {
      "cell_type": "code",
      "metadata": {
        "id": "4zvtxlUJoBu9"
      },
      "source": [
        ""
      ],
      "execution_count": null,
      "outputs": []
    },
    {
      "cell_type": "code",
      "metadata": {
        "id": "2jb-EHz5f3ec"
      },
      "source": [
        "import pandas as pd\n",
        "from sklearn import svm\n",
        "from sklearn.preprocessing import LabelEncoder\n",
        "from sklearn.model_selection import train_test_split  # prendre un % train et % test\n",
        "import sklearn.metrics as sk # metrics contient r2_score,mean_squared_error,classification_report\n",
        "data_FC=pd.read_csv('covtype.data')\n",
        "\"\"\"\n",
        "data_FC.head()\n",
        "data_FC.shape\n",
        "\"\"\"\n",
        "data_FC.columns=[['Elevation', 'Aspect', 'Slope',\n",
        "       'Horizontal_Distance_To_Hydrology', 'Vertical_Distance_To_Hydrology',\n",
        "       'Horizontal_Distance_To_Roadways', 'Hillshade_9am', 'Hillshade_Noon',\n",
        "       'Hillshade_3pm', 'Horizontal_Distance_To_Fire_Points',\n",
        "       'Wilderness_Area1', 'Wilderness_Area2', 'Wilderness_Area3',\n",
        "       'Wilderness_Area4', 'Soil_Type1', 'Soil_Type2', 'Soil_Type3',\n",
        "       'Soil_Type4', 'Soil_Type5', 'Soil_Type6', 'Soil_Type7', 'Soil_Type8',\n",
        "       'Soil_Type9', 'Soil_Type10', 'Soil_Type11', 'Soil_Type12',\n",
        "       'Soil_Type13', 'Soil_Type14', 'Soil_Type15', 'Soil_Type16',\n",
        "       'Soil_Type17', 'Soil_Type18', 'Soil_Type19', 'Soil_Type20',\n",
        "       'Soil_Type21', 'Soil_Type22', 'Soil_Type23', 'Soil_Type24',\n",
        "       'Soil_Type25', 'Soil_Type26', 'Soil_Type27', 'Soil_Type28',\n",
        "       'Soil_Type29', 'Soil_Type30', 'Soil_Type31', 'Soil_Type32',\n",
        "       'Soil_Type33', 'Soil_Type34', 'Soil_Type35', 'Soil_Type36',\n",
        "       'Soil_Type37', 'Soil_Type38', 'Soil_Type39', 'Soil_Type40',\n",
        "       'Cover_Type']]\n",
        "\n",
        "X=data_FC[['Elevation', 'Aspect', 'Slope',\n",
        "       'Horizontal_Distance_To_Hydrology', 'Vertical_Distance_To_Hydrology',\n",
        "       'Horizontal_Distance_To_Roadways', 'Hillshade_9am', 'Hillshade_Noon',\n",
        "       'Hillshade_3pm', 'Horizontal_Distance_To_Fire_Points',\n",
        "       'Wilderness_Area1', 'Wilderness_Area2', 'Wilderness_Area3',\n",
        "       'Wilderness_Area4', 'Soil_Type1', 'Soil_Type2', 'Soil_Type3',\n",
        "       'Soil_Type4', 'Soil_Type5', 'Soil_Type6', 'Soil_Type7', 'Soil_Type8',\n",
        "       'Soil_Type9', 'Soil_Type10', 'Soil_Type11', 'Soil_Type12',\n",
        "       'Soil_Type13', 'Soil_Type14', 'Soil_Type15', 'Soil_Type16',\n",
        "       'Soil_Type17', 'Soil_Type18', 'Soil_Type19', 'Soil_Type20',\n",
        "       'Soil_Type21', 'Soil_Type22', 'Soil_Type23', 'Soil_Type24',\n",
        "       'Soil_Type25', 'Soil_Type26', 'Soil_Type27', 'Soil_Type28',\n",
        "       'Soil_Type29', 'Soil_Type30', 'Soil_Type31', 'Soil_Type32',\n",
        "       'Soil_Type33', 'Soil_Type34', 'Soil_Type35', 'Soil_Type36',\n",
        "       'Soil_Type37', 'Soil_Type38', 'Soil_Type39', 'Soil_Type40']].values\n",
        "Y=data_FC[['Cover_Type']].values\n",
        "Y=Y.tolist()\n",
        "\n",
        "L=[]\n",
        "for i in range(len(Y)):\n",
        "  L=L+Y[i]\n",
        "Y=L\n",
        "print(Y)\n",
        "\n",
        "X_train,X_test,Y_train,Y_test=train_test_split(X,Y,test_size=0.2)#sparer notre data en data training et data pour le test \n",
        "model = svm.SVC(C=1.0, kernel='rbf', gamma=0.25) # noyeau goussien \n",
        "model.fit(X_train,Y_train)\n",
        "Y_pred=model.predict(X_test) # tester le modèle\n",
        "score=sk.accuracy_score(Y_test,Y_pred) #calculer le score\n",
        "print(score)\n",
        "\n",
        "\n",
        "\n"
      ],
      "execution_count": null,
      "outputs": []
    },
    {
      "cell_type": "code",
      "metadata": {
        "id": "2RqEKDgCpIKV"
      },
      "source": [
        "import pandas as pd\n",
        "from sklearn.kernel_approximation import RBFSampler\n",
        "from sklearn.linear_model import SGDClassifier\n",
        "import numpy as np\n",
        "from sklearn.model_selection import train_test_split  # prendre un % train et % test\n",
        "import sklearn.metrics as sk\n",
        "data_FC=pd.read_csv('covtype.data')\n",
        "\"\"\"\n",
        "data_FC.head()\n",
        "data_FC.shape\n",
        "\"\"\"\n",
        "data_FC.columns=[['Elevation', 'Aspect', 'Slope',\n",
        "       'Horizontal_Distance_To_Hydrology', 'Vertical_Distance_To_Hydrology',\n",
        "       'Horizontal_Distance_To_Roadways', 'Hillshade_9am', 'Hillshade_Noon',\n",
        "       'Hillshade_3pm', 'Horizontal_Distance_To_Fire_Points',\n",
        "       'Wilderness_Area1', 'Wilderness_Area2', 'Wilderness_Area3',\n",
        "       'Wilderness_Area4', 'Soil_Type1', 'Soil_Type2', 'Soil_Type3',\n",
        "       'Soil_Type4', 'Soil_Type5', 'Soil_Type6', 'Soil_Type7', 'Soil_Type8',\n",
        "       'Soil_Type9', 'Soil_Type10', 'Soil_Type11', 'Soil_Type12',\n",
        "       'Soil_Type13', 'Soil_Type14', 'Soil_Type15', 'Soil_Type16',\n",
        "       'Soil_Type17', 'Soil_Type18', 'Soil_Type19', 'Soil_Type20',\n",
        "       'Soil_Type21', 'Soil_Type22', 'Soil_Type23', 'Soil_Type24',\n",
        "       'Soil_Type25', 'Soil_Type26', 'Soil_Type27', 'Soil_Type28',\n",
        "       'Soil_Type29', 'Soil_Type30', 'Soil_Type31', 'Soil_Type32',\n",
        "       'Soil_Type33', 'Soil_Type34', 'Soil_Type35', 'Soil_Type36',\n",
        "       'Soil_Type37', 'Soil_Type38', 'Soil_Type39', 'Soil_Type40',\n",
        "       'Cover_Type']]\n",
        "\n",
        "X=data_FC[['Elevation', 'Aspect', 'Slope',\n",
        "       'Horizontal_Distance_To_Hydrology', 'Vertical_Distance_To_Hydrology',\n",
        "       'Horizontal_Distance_To_Roadways', 'Hillshade_9am', 'Hillshade_Noon',\n",
        "       'Hillshade_3pm', 'Horizontal_Distance_To_Fire_Points',\n",
        "       'Wilderness_Area1', 'Wilderness_Area2', 'Wilderness_Area3',\n",
        "       'Wilderness_Area4', 'Soil_Type1', 'Soil_Type2', 'Soil_Type3',\n",
        "       'Soil_Type4', 'Soil_Type5', 'Soil_Type6', 'Soil_Type7', 'Soil_Type8',\n",
        "       'Soil_Type9', 'Soil_Type10', 'Soil_Type11', 'Soil_Type12',\n",
        "       'Soil_Type13', 'Soil_Type14', 'Soil_Type15', 'Soil_Type16',\n",
        "       'Soil_Type17', 'Soil_Type18', 'Soil_Type19', 'Soil_Type20',\n",
        "       'Soil_Type21', 'Soil_Type22', 'Soil_Type23', 'Soil_Type24',\n",
        "       'Soil_Type25', 'Soil_Type26', 'Soil_Type27', 'Soil_Type28',\n",
        "       'Soil_Type29', 'Soil_Type30', 'Soil_Type31', 'Soil_Type32',\n",
        "       'Soil_Type33', 'Soil_Type34', 'Soil_Type35', 'Soil_Type36',\n",
        "       'Soil_Type37', 'Soil_Type38', 'Soil_Type39', 'Soil_Type40']].values\n",
        "Y=data_FC[['Cover_Type']].values\n",
        "Y=Y.tolist()\n",
        "\n",
        "L=[]\n",
        "for i in range(len(Y)):\n",
        "  L=L+Y[i]\n",
        "Y=L\n",
        "X_train,X_test,Y_train,Y_test=train_test_split(X,Y,test_size=0.2)#sparer notre data en data training et data pour le test \n",
        "rbf_feature = RBFSampler(gamma=0.25,n_components=5000,random_state=1)\n",
        "X_features = rbf_feature.fit_transform(X_train) #Apply the approximate feature map to X.\n",
        "clf = SGDClassifier(max_iter=100, tol=1e-10)\n",
        "clf.fit(X_features, Y_train) \n",
        "X_test=rbf_feature.fit_transform(X_test)\n",
        "Y_pred=clf.predict(X_test) # tester le modèle\n",
        "score=sk.accuracy_score(Y_test,Y_pred) #calculer le score\n",
        "print(score)\n"
      ],
      "execution_count": null,
      "outputs": []
    },
    {
      "cell_type": "code",
      "metadata": {
        "id": "aafcOZMPc8BD"
      },
      "source": [
        ""
      ],
      "execution_count": null,
      "outputs": []
    },
    {
      "cell_type": "code",
      "metadata": {
        "id": "M-t0K7loHT2k"
      },
      "source": [
        ""
      ],
      "execution_count": null,
      "outputs": []
    },
    {
      "cell_type": "code",
      "metadata": {
        "id": "_u_cOS-kcQJ6"
      },
      "source": [
        "import pandas as pd\n",
        "from sklearn.preprocessing import LabelEncoder\n",
        "from sklearn.model_selection import train_test_split  # prendre un % train et % test\n",
        "import sklearn.metrics as sk # metrics contient r2_score,mean_squared_error,classification_report\n",
        "data_adult=pd.read_csv('adult.data')\n",
        "data_adult.columns = ['age','workclass','fnlwgt','education','lug_booteducation-num','marital-status','occupation','relationship','race','sex','capital-gain','capital-loss','hours-per-week','native-country','income']\n",
        "X_train=data_adult[['age','workclass','fnlwgt','education','lug_booteducation-num','marital-status','occupation','relationship','race','sex','capital-gain','capital-loss','hours-per-week','native-country']].values\n",
        "Y_train=data_adult[[\"income\"]].values\n",
        "\n",
        "le = LabelEncoder()#only array\n",
        "#converting our x\n",
        "for i in range(len(X_train[0])):\n",
        "  X_train[:,i]=le.fit_transform(X_train[:,i])\n",
        "Y_train[:,0]=le.fit_transform(Y_train[:,0])\n",
        "Y_train=Y_train.tolist()\n",
        "L=[]\n",
        "for i in range(len(Y_train)):\n",
        "  L=L+Y_train[i]\n",
        "Y_train=L\n",
        "data_adult_test=pd.read_csv('adult.test')\n",
        "print(data_adult_test.head())\n",
        "data_adult_test.columns = ['age','workclass','fnlwgt','education','lug_booteducation-num','marital-status','occupation','relationship','race','sex','capital-gain','capital-loss','hours-per-week','native-country','income']\n",
        "X_test=data_adult_test[['age','workclass','fnlwgt','education','lug_booteducation-num','marital-status','occupation','relationship','race','sex','capital-gain','capital-loss','hours-per-week','native-country']].values\n",
        "Y_test=data_adult_test[[\"income\"]].values\n",
        "#converting our x\n",
        "for i in range(len(X_test[0])):\n",
        "  X_test[:,i]=le.fit_transform(X_test[:,i])\n",
        "Y_test[:,0]=le.fit_transform(Y_test[:,0])\n",
        "Y_test=Y_test.tolist()\n",
        "L=[]\n",
        "for i in range(len(Y_test)):\n",
        "  L=L+Y_test[i]\n",
        "Y_test=L\n",
        "model = svm.SVC(C=1.0, kernel='rbf', gamma=1) # noyeau goussien \n",
        "model.fit(X_train,Y_train)\n",
        "Y_pred=model.predict(X_test) # tester le modèle\n",
        "score=sk.accuracy_score(Y_test,Y_pred) #calculer le score\n",
        "print(score)\n"
      ],
      "execution_count": null,
      "outputs": []
    },
    {
      "cell_type": "code",
      "metadata": {
        "id": "vF6wnIJmG_-d"
      },
      "source": [
        "import pandas as pd\n",
        "import numpy as np\n",
        "from sklearn.preprocessing import LabelEncoder\n",
        "from sklearn import svm\n",
        "import sklearn.metrics as sk \n",
        "kdd_data_train=pd.read_csv('kddcup.data_10_percent_corrected')\n",
        "kdd_data_test=pd.read_csv('corrected')\n",
        "kdd_names=pd.read_csv('kddcup.names', sep = ':')\n",
        "columns=kdd_names.columns\n",
        "columns=columns.tolist()\n",
        "rows=kdd_names.index\n",
        "rows=rows.tolist()\n",
        "names=rows+['outcome']\n",
        "kdd_data_train.columns=names\n",
        "kdd_data_test.columns=names\n",
        "X_train=kdd_data_train[rows].values\n",
        "Y_train=kdd_data_train[[\"outcome\"]].values\n",
        "X_test=kdd_data_test[rows].values\n",
        "Y_test=kdd_data_test[[\"outcome\"]].values\n",
        "le = LabelEncoder()#only array\n",
        "#converting our x\n",
        "for i in range(len(X_train[0])):\n",
        "  X_train[:,i]=le.fit_transform(X_train[:,i])\n",
        "Y_train[:,0]=le.fit_transform(Y_train[:,0])\n",
        "Y_train=np.array(Y_train)\n",
        "Y_train=Y_train.ravel()\n",
        "Y_train=list(Y_train)\n",
        "for i in range(len(X_test[0])):\n",
        "  X_test[:,i]=le.fit_transform(X_test[:,i])\n",
        "Y_test[:,0]=le.fit_transform(Y_test[:,0])\n",
        "Y_test=np.array(Y_test)\n",
        "Y_test=Y_test.ravel()\n",
        "Y_test=list(Y_test)\n",
        "model = svm.SVC(C=1.0, kernel='rbf', gamma=0.25) # noyeau goussien \n",
        "model.fit(X_train,Y_train)\n",
        "Y_pred=model.predict(X_test) # tester le modèle\n",
        "score=sk.accuracy_score(Y_test,Y_pred) #calculer le score\n",
        "print(score)\n",
        "\n",
        "\n",
        "\n"
      ],
      "execution_count": null,
      "outputs": []
    },
    {
      "cell_type": "code",
      "metadata": {
        "id": "q-QVwx7i9_SF"
      },
      "source": [
        "import pandas as pd\n",
        "import numpy as np\n",
        "from sklearn.preprocessing import LabelEncoder\n",
        "from sklearn.kernel_approximation import RBFSampler\n",
        "from sklearn.linear_model import SGDClassifier\n",
        "import sklearn.metrics as sk \n",
        "kdd_data_train=pd.read_csv('kddcup.data_10_percent_corrected')\n",
        "kdd_data_test=pd.read_csv('corrected')\n",
        "kdd_names=pd.read_csv('kddcup.names', sep = ':')\n",
        "columns=kdd_names.columns\n",
        "columns=columns.tolist()\n",
        "rows=kdd_names.index\n",
        "rows=rows.tolist()\n",
        "names=rows+['outcome']\n",
        "kdd_data_train.columns=names\n",
        "kdd_data_test.columns=names\n",
        "X_train=kdd_data_train[rows].values\n",
        "Y_train=kdd_data_train[[\"outcome\"]].values\n",
        "X_test=kdd_data_test[rows].values\n",
        "Y_test=kdd_data_test[[\"outcome\"]].values\n",
        "le = LabelEncoder()#only array\n",
        "#converting our x\n",
        "for i in range(len(X_train[0])):\n",
        "  X_train[:,i]=le.fit_transform(X_train[:,i])\n",
        "Y_train[:,0]=le.fit_transform(Y_train[:,0])\n",
        "Y_train=np.array(Y_train)\n",
        "Y_train=Y_train.ravel()\n",
        "Y_train=list(Y_train)\n",
        "for i in range(len(X_test[0])):\n",
        "  X_test[:,i]=le.fit_transform(X_test[:,i])\n",
        "Y_test[:,0]=le.fit_transform(Y_test[:,0])\n",
        "Y_test=np.array(Y_test)\n",
        "Y_test=Y_test.ravel()\n",
        "Y_test=list(Y_test)\n",
        "rbf_feature = RBFSampler(gamma=0.25,n_components=5000,random_state=1)\n",
        "X_features = rbf_feature.fit_transform(X_train) #Apply the approximate feature map to X.\n",
        "clf = SGDClassifier(max_iter=100, tol=1e-10)\n",
        "clf.fit(X_features, Y_train) \n",
        "X_test=rbf_feature.fit_transform(X_test)\n",
        "Y_pred=clf.predict(X_test) # tester le modèle\n",
        "score=sk.accuracy_score(Y_test,Y_pred) #calculer le score\n",
        "print(score)"
      ],
      "execution_count": null,
      "outputs": []
    },
    {
      "cell_type": "code",
      "metadata": {
        "id": "hUFHq7UL9SeN"
      },
      "source": [
        ""
      ],
      "execution_count": null,
      "outputs": []
    },
    {
      "cell_type": "code",
      "metadata": {
        "id": "08_yzBPDbYbo"
      },
      "source": [
        ""
      ],
      "execution_count": null,
      "outputs": []
    }
  ]
}